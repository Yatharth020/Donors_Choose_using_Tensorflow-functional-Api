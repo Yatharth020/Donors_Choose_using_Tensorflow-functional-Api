{
 "cells": [
  {
   "cell_type": "code",
   "execution_count": 0,
   "metadata": {
    "colab": {},
    "colab_type": "code",
    "id": "Rnk7hOl0XY3O"
   },
   "outputs": [],
   "source": [
    "%matplotlib inline\n",
    "import warnings\n",
    "warnings.filterwarnings(\"ignore\")\n",
    "\n",
    "import pandas as pd\n",
    "import numpy as np\n",
    "from sklearn.feature_extraction.text import TfidfVectorizer\n",
    "from sklearn.feature_extraction.text import CountVectorizer\n",
    "import re\n",
    "from nltk.corpus import stopwords\n",
    "import pickle\n",
    "from tqdm import tqdm\n",
    "import os"
   ]
  },
  {
   "cell_type": "code",
   "execution_count": 2,
   "metadata": {
    "colab": {
     "base_uri": "https://localhost:8080/",
     "height": 121
    },
    "colab_type": "code",
    "id": "w768BYo6aKQW",
    "outputId": "74f7bf26-a9eb-44c8-f257-96acd3a80995"
   },
   "outputs": [
    {
     "name": "stdout",
     "output_type": "stream",
     "text": [
      "Go to this URL in a browser: https://accounts.google.com/o/oauth2/auth?client_id=947318989803-6bn6qk8qdgf4n4g3pfee6491hc0brc4i.apps.googleusercontent.com&redirect_uri=urn%3aietf%3awg%3aoauth%3a2.0%3aoob&response_type=code&scope=email%20https%3a%2f%2fwww.googleapis.com%2fauth%2fdocs.test%20https%3a%2f%2fwww.googleapis.com%2fauth%2fdrive%20https%3a%2f%2fwww.googleapis.com%2fauth%2fdrive.photos.readonly%20https%3a%2f%2fwww.googleapis.com%2fauth%2fpeopleapi.readonly\n",
      "\n",
      "Enter your authorization code:\n",
      "··········\n",
      "Mounted at /content/drive\n"
     ]
    }
   ],
   "source": [
    "from google.colab import drive\n",
    "drive.mount('/content/drive')"
   ]
  },
  {
   "cell_type": "code",
   "execution_count": 0,
   "metadata": {
    "colab": {},
    "colab_type": "code",
    "id": "i1ZjiSKTXY3V"
   },
   "outputs": [],
   "source": [
    "#we already have data available for all the initials we need fot poject title text and the data for pre=oject summary here"
   ]
  },
  {
   "cell_type": "code",
   "execution_count": 0,
   "metadata": {
    "colab": {},
    "colab_type": "code",
    "id": "N7hJLyIzXY3a"
   },
   "outputs": [],
   "source": [
    "#loading the data\n",
    "project_data = pd.read_csv('train_data.csv')\n",
    "resource_data = pd.read_csv('resources.csv')"
   ]
  },
  {
   "cell_type": "code",
   "execution_count": 0,
   "metadata": {
    "colab": {},
    "colab_type": "code",
    "id": "iY9Grj0dXY3e",
    "outputId": "9a18d1ec-1ff6-4ef0-814f-ee6cc7322a91"
   },
   "outputs": [
    {
     "data": {
      "text/html": [
       "<div>\n",
       "<style scoped>\n",
       "    .dataframe tbody tr th:only-of-type {\n",
       "        vertical-align: middle;\n",
       "    }\n",
       "\n",
       "    .dataframe tbody tr th {\n",
       "        vertical-align: top;\n",
       "    }\n",
       "\n",
       "    .dataframe thead th {\n",
       "        text-align: right;\n",
       "    }\n",
       "</style>\n",
       "<table border=\"1\" class=\"dataframe\">\n",
       "  <thead>\n",
       "    <tr style=\"text-align: right;\">\n",
       "      <th></th>\n",
       "      <th>id</th>\n",
       "      <th>price</th>\n",
       "      <th>quantity</th>\n",
       "    </tr>\n",
       "  </thead>\n",
       "  <tbody>\n",
       "    <tr>\n",
       "      <th>0</th>\n",
       "      <td>p000001</td>\n",
       "      <td>459.56</td>\n",
       "      <td>7</td>\n",
       "    </tr>\n",
       "    <tr>\n",
       "      <th>1</th>\n",
       "      <td>p000002</td>\n",
       "      <td>515.89</td>\n",
       "      <td>21</td>\n",
       "    </tr>\n",
       "  </tbody>\n",
       "</table>\n",
       "</div>"
      ],
      "text/plain": [
       "        id   price  quantity\n",
       "0  p000001  459.56         7\n",
       "1  p000002  515.89        21"
      ]
     },
     "execution_count": 8,
     "metadata": {
      "tags": []
     },
     "output_type": "execute_result"
    }
   ],
   "source": [
    "#merging both the data to get a final dataset\n",
    "price_data = resource_data.groupby('id').agg({'price':'sum','quantity':'sum'}).reset_index()\n",
    "price_data.head(2)"
   ]
  },
  {
   "cell_type": "code",
   "execution_count": 0,
   "metadata": {
    "colab": {},
    "colab_type": "code",
    "id": "bnYW6KjrXY3l"
   },
   "outputs": [],
   "source": [
    "project_data = pd.merge(project_data,price_data,on = 'id',how = 'left')#getting the final dataset"
   ]
  },
  {
   "cell_type": "code",
   "execution_count": 0,
   "metadata": {
    "colab": {},
    "colab_type": "code",
    "id": "ZEmPkh09XY3p",
    "outputId": "a62bd87a-01ba-413e-c982-7093dbd912c7"
   },
   "outputs": [
    {
     "data": {
      "text/html": [
       "<div>\n",
       "<style scoped>\n",
       "    .dataframe tbody tr th:only-of-type {\n",
       "        vertical-align: middle;\n",
       "    }\n",
       "\n",
       "    .dataframe tbody tr th {\n",
       "        vertical-align: top;\n",
       "    }\n",
       "\n",
       "    .dataframe thead th {\n",
       "        text-align: right;\n",
       "    }\n",
       "</style>\n",
       "<table border=\"1\" class=\"dataframe\">\n",
       "  <thead>\n",
       "    <tr style=\"text-align: right;\">\n",
       "      <th></th>\n",
       "      <th>Unnamed: 0</th>\n",
       "      <th>id</th>\n",
       "      <th>teacher_id</th>\n",
       "      <th>teacher_prefix</th>\n",
       "      <th>school_state</th>\n",
       "      <th>project_submitted_datetime</th>\n",
       "      <th>project_grade_category</th>\n",
       "      <th>project_subject_categories</th>\n",
       "      <th>project_subject_subcategories</th>\n",
       "      <th>project_title</th>\n",
       "      <th>project_essay_1</th>\n",
       "      <th>project_essay_2</th>\n",
       "      <th>project_essay_3</th>\n",
       "      <th>project_essay_4</th>\n",
       "      <th>project_resource_summary</th>\n",
       "      <th>teacher_number_of_previously_posted_projects</th>\n",
       "      <th>project_is_approved</th>\n",
       "      <th>price</th>\n",
       "      <th>quantity</th>\n",
       "    </tr>\n",
       "  </thead>\n",
       "  <tbody>\n",
       "    <tr>\n",
       "      <th>0</th>\n",
       "      <td>160221</td>\n",
       "      <td>p253737</td>\n",
       "      <td>c90749f5d961ff158d4b4d1e7dc665fc</td>\n",
       "      <td>Mrs.</td>\n",
       "      <td>IN</td>\n",
       "      <td>2016-12-05 13:43:57</td>\n",
       "      <td>Grades PreK-2</td>\n",
       "      <td>Literacy &amp; Language</td>\n",
       "      <td>ESL, Literacy</td>\n",
       "      <td>Educational Support for English Learners at Home</td>\n",
       "      <td>My students are English learners that are work...</td>\n",
       "      <td>\\\"The limits of your language are the limits o...</td>\n",
       "      <td>NaN</td>\n",
       "      <td>NaN</td>\n",
       "      <td>My students need opportunities to practice beg...</td>\n",
       "      <td>0</td>\n",
       "      <td>0</td>\n",
       "      <td>154.6</td>\n",
       "      <td>23</td>\n",
       "    </tr>\n",
       "    <tr>\n",
       "      <th>1</th>\n",
       "      <td>140945</td>\n",
       "      <td>p258326</td>\n",
       "      <td>897464ce9ddc600bced1151f324dd63a</td>\n",
       "      <td>Mr.</td>\n",
       "      <td>FL</td>\n",
       "      <td>2016-10-25 09:22:10</td>\n",
       "      <td>Grades 6-8</td>\n",
       "      <td>History &amp; Civics, Health &amp; Sports</td>\n",
       "      <td>Civics &amp; Government, Team Sports</td>\n",
       "      <td>Wanted: Projector for Hungry Learners</td>\n",
       "      <td>Our students arrive to our school eager to lea...</td>\n",
       "      <td>The projector we need for our school is very c...</td>\n",
       "      <td>NaN</td>\n",
       "      <td>NaN</td>\n",
       "      <td>My students need a projector to help with view...</td>\n",
       "      <td>7</td>\n",
       "      <td>1</td>\n",
       "      <td>299.0</td>\n",
       "      <td>1</td>\n",
       "    </tr>\n",
       "  </tbody>\n",
       "</table>\n",
       "</div>"
      ],
      "text/plain": [
       "   Unnamed: 0       id                        teacher_id teacher_prefix  \\\n",
       "0      160221  p253737  c90749f5d961ff158d4b4d1e7dc665fc           Mrs.   \n",
       "1      140945  p258326  897464ce9ddc600bced1151f324dd63a            Mr.   \n",
       "\n",
       "  school_state project_submitted_datetime project_grade_category  \\\n",
       "0           IN        2016-12-05 13:43:57          Grades PreK-2   \n",
       "1           FL        2016-10-25 09:22:10             Grades 6-8   \n",
       "\n",
       "          project_subject_categories     project_subject_subcategories  \\\n",
       "0                Literacy & Language                     ESL, Literacy   \n",
       "1  History & Civics, Health & Sports  Civics & Government, Team Sports   \n",
       "\n",
       "                                      project_title  \\\n",
       "0  Educational Support for English Learners at Home   \n",
       "1             Wanted: Projector for Hungry Learners   \n",
       "\n",
       "                                     project_essay_1  \\\n",
       "0  My students are English learners that are work...   \n",
       "1  Our students arrive to our school eager to lea...   \n",
       "\n",
       "                                     project_essay_2 project_essay_3  \\\n",
       "0  \\\"The limits of your language are the limits o...             NaN   \n",
       "1  The projector we need for our school is very c...             NaN   \n",
       "\n",
       "  project_essay_4                           project_resource_summary  \\\n",
       "0             NaN  My students need opportunities to practice beg...   \n",
       "1             NaN  My students need a projector to help with view...   \n",
       "\n",
       "   teacher_number_of_previously_posted_projects  project_is_approved  price  \\\n",
       "0                                             0                    0  154.6   \n",
       "1                                             7                    1  299.0   \n",
       "\n",
       "   quantity  \n",
       "0        23  \n",
       "1         1  "
      ]
     },
     "execution_count": 10,
     "metadata": {
      "tags": []
     },
     "output_type": "execute_result"
    }
   ],
   "source": [
    "#print(project_data.columns)\n",
    "project_data.head(2)"
   ]
  },
  {
   "cell_type": "code",
   "execution_count": 0,
   "metadata": {
    "colab": {},
    "colab_type": "code",
    "id": "ZegEaT84XY3v"
   },
   "outputs": [],
   "source": [
    "target = project_data['project_is_approved']\n",
    "project_data.drop(['Unnamed: 0','id','teacher_id','project_is_approved'],axis = 1,inplace = True)\n"
   ]
  },
  {
   "cell_type": "code",
   "execution_count": 0,
   "metadata": {
    "colab": {},
    "colab_type": "code",
    "id": "swrnOjo4XY30",
    "outputId": "d2c4bdeb-069c-45e1-c81a-2aaf53be0778"
   },
   "outputs": [
    {
     "name": "stdout",
     "output_type": "stream",
     "text": [
      "shape of the final data is: (109248, 15)\n",
      "Shape of target variable is: (109248,)\n",
      "Features of the final dataset is: Index(['teacher_prefix', 'school_state', 'project_submitted_datetime',\n",
      "       'project_grade_category', 'project_subject_categories',\n",
      "       'project_subject_subcategories', 'project_title', 'project_essay_1',\n",
      "       'project_essay_2', 'project_essay_3', 'project_essay_4',\n",
      "       'project_resource_summary',\n",
      "       'teacher_number_of_previously_posted_projects', 'price', 'quantity'],\n",
      "      dtype='object')\n"
     ]
    }
   ],
   "source": [
    "print('shape of the final data is:',project_data.shape)\n",
    "print('Shape of target variable is:',target.shape)\n",
    "print('Features of the final dataset is:',project_data.columns)"
   ]
  },
  {
   "cell_type": "markdown",
   "metadata": {
    "colab_type": "text",
    "id": "bYPvgs2FXY34"
   },
   "source": [
    "so we have following final features\n",
    "\n",
    "__Categorical Features__:\n",
    "\n",
    "    - Teacher_prefix\n",
    "    - school_stae\n",
    "    - project_grade_category\n",
    "    - project_subject_categories\n",
    "    - project_subject_subcategories\n",
    "  \n",
    "__Text Features__:\n",
    "\n",
    "    - project essay 1\n",
    "    - project essay 2\n",
    "    - project essay 3\n",
    "    - project essay 4\n",
    "    - project resource summary\n",
    "    - project title\n",
    "    \n",
    "__Numerical Feature__:\n",
    "\n",
    "    - teacher number of previously posted categories\n",
    "    - quantity\n",
    "    - price"
   ]
  },
  {
   "cell_type": "markdown",
   "metadata": {
    "colab_type": "text",
    "id": "6ySxvWJJXY35"
   },
   "source": [
    "# Preprocessing the features "
   ]
  },
  {
   "cell_type": "markdown",
   "metadata": {
    "colab_type": "text",
    "id": "SDmjJfJvXY36"
   },
   "source": [
    "## 1.Preprocessing the categorical features "
   ]
  },
  {
   "cell_type": "markdown",
   "metadata": {
    "colab_type": "text",
    "id": "5Uz1gQcOXY37"
   },
   "source": [
    "### project_grade_category"
   ]
  },
  {
   "cell_type": "code",
   "execution_count": 0,
   "metadata": {
    "colab": {},
    "colab_type": "code",
    "id": "CMbE1AJeXY39",
    "outputId": "fc97d831-a9bd-4550-c1d9-d00850c1c752"
   },
   "outputs": [
    {
     "data": {
      "text/plain": [
       "grades_prek_2    44225\n",
       "grades_3_5       37137\n",
       "grades_6_8       16923\n",
       "grades_9_12      10963\n",
       "Name: project_grade_category, dtype: int64"
      ]
     },
     "execution_count": 25,
     "metadata": {
      "tags": []
     },
     "output_type": "execute_result"
    }
   ],
   "source": [
    "# https://stackoverflow.com/questions/36383821/pandas-dataframe-apply-function-to-column-strings-based-on-other-column-value\n",
    "project_data['project_grade_category'] = project_data['project_grade_category'].str.replace(' ','_')\n",
    "project_data['project_grade_category'] = project_data['project_grade_category'].str.replace('-','_')\n",
    "project_data['project_grade_category'] = project_data['project_grade_category'].str.lower()\n",
    "project_data['project_grade_category'].value_counts()"
   ]
  },
  {
   "cell_type": "markdown",
   "metadata": {
    "colab_type": "text",
    "id": "vlGRb4tnXY4C"
   },
   "source": [
    "### project_subject_category"
   ]
  },
  {
   "cell_type": "code",
   "execution_count": 0,
   "metadata": {
    "colab": {},
    "colab_type": "code",
    "id": "5hDfEXuOXY4E",
    "outputId": "d22dadf5-8012-416b-d14b-5418edfc1a9a",
    "scrolled": true
   },
   "outputs": [
    {
     "data": {
      "text/plain": [
       "literacy_language                       23655\n",
       "math_science                            17072\n",
       "literacy_language_math_science          14636\n",
       "health_sports                           10177\n",
       "music_arts                               5180\n",
       "specialneeds                             4226\n",
       "literacy_language_specialneeds           3961\n",
       "appliedlearning                          3771\n",
       "math_science_literacy_language           2289\n",
       "appliedlearning_literacy_language        2191\n",
       "history_civics                           1851\n",
       "math_science_specialneeds                1840\n",
       "literacy_language_music_arts             1757\n",
       "math_science_music_arts                  1642\n",
       "appliedlearning_specialneeds             1467\n",
       "history_civics_literacy_language         1421\n",
       "health_sports_specialneeds               1391\n",
       "warmth_care_hunger                       1309\n",
       "math_science_appliedlearning             1220\n",
       "appliedlearning_math_science             1052\n",
       "literacy_language_history_civics          809\n",
       "health_sports_literacy_language           803\n",
       "appliedlearning_music_arts                758\n",
       "math_science_history_civics               652\n",
       "literacy_language_appliedlearning         636\n",
       "appliedlearning_health_sports             608\n",
       "math_science_health_sports                414\n",
       "history_civics_math_science               322\n",
       "history_civics_music_arts                 312\n",
       "specialneeds_music_arts                   302\n",
       "health_sports_math_science                271\n",
       "history_civics_specialneeds               252\n",
       "health_sports_appliedlearning             192\n",
       "appliedlearning_history_civics            178\n",
       "health_sports_music_arts                  155\n",
       "music_arts_specialneeds                   138\n",
       "literacy_language_health_sports            72\n",
       "health_sports_history_civics               43\n",
       "specialneeds_health_sports                 42\n",
       "history_civics_appliedlearning             42\n",
       "specialneeds_warmth_care_hunger            23\n",
       "health_sports_warmth_care_hunger           23\n",
       "music_arts_health_sports                   19\n",
       "music_arts_history_civics                  18\n",
       "history_civics_health_sports               13\n",
       "math_science_warmth_care_hunger            11\n",
       "appliedlearning_warmth_care_hunger         10\n",
       "music_arts_appliedlearning                 10\n",
       "literacy_language_warmth_care_hunger        9\n",
       "music_arts_warmth_care_hunger               2\n",
       "history_civics_warmth_care_hunger           1\n",
       "Name: project_subject_categories, dtype: int64"
      ]
     },
     "execution_count": 26,
     "metadata": {
      "tags": []
     },
     "output_type": "execute_result"
    }
   ],
   "source": [
    "project_data['project_subject_categories'] = project_data['project_subject_categories'].str.replace(' The ','')\n",
    "project_data['project_subject_categories'] = project_data['project_subject_categories'].str.replace(' ','')\n",
    "project_data['project_subject_categories'] = project_data['project_subject_categories'].str.replace('&','_')\n",
    "project_data['project_subject_categories'] = project_data['project_subject_categories'].str.replace(',','_')\n",
    "project_data['project_subject_categories'] = project_data['project_subject_categories'].str.lower()\n",
    "project_data['project_subject_categories'].value_counts()"
   ]
  },
  {
   "cell_type": "markdown",
   "metadata": {
    "colab_type": "text",
    "id": "9_aSSYyfXY4I"
   },
   "source": [
    "### Teacher prefix"
   ]
  },
  {
   "cell_type": "code",
   "execution_count": 0,
   "metadata": {
    "colab": {},
    "colab_type": "code",
    "id": "MahIQVE0XY4J",
    "outputId": "350adba6-0a4a-4844-8e0f-3bdb1c431c2f"
   },
   "outputs": [
    {
     "name": "stdout",
     "output_type": "stream",
     "text": [
      "True\n",
      "number of nan values 3\n"
     ]
    }
   ],
   "source": [
    "# check if we have any nan values are there\n",
    "print(project_data['teacher_prefix'].isnull().values.any())\n",
    "print(\"number of nan values\",project_data['teacher_prefix'].isnull().values.sum())"
   ]
  },
  {
   "cell_type": "markdown",
   "metadata": {
    "colab_type": "text",
    "id": "PqmqVZEaXY4P"
   },
   "source": [
    ">numebr of missing values are very less in number, we can replace it with Mrs. as most of the projects are submitted by Mrs."
   ]
  },
  {
   "cell_type": "code",
   "execution_count": 0,
   "metadata": {
    "colab": {},
    "colab_type": "code",
    "id": "pri8wzCyXY4S",
    "outputId": "dfd12add-bad5-4646-e09c-693efcab3464"
   },
   "outputs": [
    {
     "data": {
      "text/plain": [
       "mrs        57272\n",
       "ms         38955\n",
       "mr         10648\n",
       "teacher     2360\n",
       "dr            13\n",
       "Name: teacher_prefix, dtype: int64"
      ]
     },
     "execution_count": 28,
     "metadata": {
      "tags": []
     },
     "output_type": "execute_result"
    }
   ],
   "source": [
    "project_data['teacher_prefix']=project_data['teacher_prefix'].fillna('Mrs.')\n",
    "project_data['teacher_prefix'] = project_data['teacher_prefix'].str.replace('.','')\n",
    "project_data['teacher_prefix'] = project_data['teacher_prefix'].str.lower()\n",
    "project_data['teacher_prefix'].value_counts()"
   ]
  },
  {
   "cell_type": "markdown",
   "metadata": {
    "colab_type": "text",
    "id": "y-OradHgXY4W"
   },
   "source": [
    "### Project subject subcategories"
   ]
  },
  {
   "cell_type": "code",
   "execution_count": 0,
   "metadata": {
    "colab": {},
    "colab_type": "code",
    "id": "h6oLPYlxXY4X",
    "outputId": "1c88c272-997d-41e7-9b7f-96c08e96455c"
   },
   "outputs": [
    {
     "data": {
      "text/plain": [
       "literacy                              9486\n",
       "literacy_mathematics                  8325\n",
       "literature_writing_mathematics        5923\n",
       "literacy_literature_writing           5571\n",
       "mathematics                           5379\n",
       "                                      ... \n",
       "gym_fitness_warmth_care_hunger           1\n",
       "civics_government_foreignlanguages       1\n",
       "economics_nutritioneducation             1\n",
       "financialliteracy_performingarts         1\n",
       "extracurricular_financialliteracy        1\n",
       "Name: project_subject_subcategories, Length: 401, dtype: int64"
      ]
     },
     "execution_count": 29,
     "metadata": {
      "tags": []
     },
     "output_type": "execute_result"
    }
   ],
   "source": [
    "project_data['project_subject_subcategories'] = project_data['project_subject_subcategories'].str.replace(' The ','')\n",
    "project_data['project_subject_subcategories'] = project_data['project_subject_subcategories'].str.replace(' ','')\n",
    "project_data['project_subject_subcategories'] = project_data['project_subject_subcategories'].str.replace('&','_')\n",
    "project_data['project_subject_subcategories'] = project_data['project_subject_subcategories'].str.replace(',','_')\n",
    "project_data['project_subject_subcategories'] = project_data['project_subject_subcategories'].str.lower()\n",
    "project_data['project_subject_subcategories'].value_counts()"
   ]
  },
  {
   "cell_type": "markdown",
   "metadata": {
    "colab_type": "text",
    "id": "glr9AID1XY4d"
   },
   "source": [
    "### School state"
   ]
  },
  {
   "cell_type": "code",
   "execution_count": 0,
   "metadata": {
    "colab": {},
    "colab_type": "code",
    "id": "W9wv4jb2XY4e",
    "outputId": "3336cdee-90a7-4bd3-f446-b7bc9e386f77",
    "scrolled": true
   },
   "outputs": [
    {
     "data": {
      "text/plain": [
       "ca    15388\n",
       "tx     7396\n",
       "ny     7318\n",
       "fl     6185\n",
       "nc     5091\n",
       "il     4350\n",
       "ga     3963\n",
       "sc     3936\n",
       "mi     3161\n",
       "pa     3109\n",
       "in     2620\n",
       "mo     2576\n",
       "oh     2467\n",
       "la     2394\n",
       "ma     2389\n",
       "wa     2334\n",
       "ok     2276\n",
       "nj     2237\n",
       "az     2147\n",
       "va     2045\n",
       "wi     1827\n",
       "al     1762\n",
       "ut     1731\n",
       "tn     1688\n",
       "ct     1663\n",
       "md     1514\n",
       "nv     1367\n",
       "ms     1323\n",
       "ky     1304\n",
       "or     1242\n",
       "mn     1208\n",
       "co     1111\n",
       "ar     1049\n",
       "id      693\n",
       "ia      666\n",
       "ks      634\n",
       "nm      557\n",
       "dc      516\n",
       "hi      507\n",
       "me      505\n",
       "wv      503\n",
       "nh      348\n",
       "ak      345\n",
       "de      343\n",
       "ne      309\n",
       "sd      300\n",
       "ri      285\n",
       "mt      245\n",
       "nd      143\n",
       "wy       98\n",
       "vt       80\n",
       "Name: school_state, dtype: int64"
      ]
     },
     "execution_count": 30,
     "metadata": {
      "tags": []
     },
     "output_type": "execute_result"
    }
   ],
   "source": [
    "project_data['school_state'] = project_data['school_state'].str.lower()\n",
    "project_data['school_state'].value_counts()"
   ]
  },
  {
   "cell_type": "markdown",
   "metadata": {
    "colab_type": "text",
    "id": "_raW71zuXY4i"
   },
   "source": [
    "## 2.Preproocessing text features"
   ]
  },
  {
   "cell_type": "code",
   "execution_count": 0,
   "metadata": {
    "colab": {},
    "colab_type": "code",
    "id": "JcaasyhbXY4j"
   },
   "outputs": [],
   "source": [
    "#writing the utility functions for text cleaning \n",
    "from tqdm import tqdm\n",
    "# https://gist.github.com/sebleier/554280\n",
    "# we are removing the words from the stop words list: 'no', 'nor', 'not'\n",
    "stopwords= ['i', 'me', 'my', 'myself', 'we', 'our', 'ours', 'ourselves', 'you', \"you're\", \"you've\",\\\n",
    "            \"you'll\", \"you'd\", 'your', 'yours', 'yourself', 'yourselves', 'he', 'him', 'his', 'himself', \\\n",
    "            'she', \"she's\", 'her', 'hers', 'herself', 'it', \"it's\", 'its', 'itself', 'they', 'them', 'their',\\\n",
    "            'theirs', 'themselves', 'what', 'which', 'who', 'whom', 'this', 'that', \"that'll\", 'these', 'those', \\\n",
    "            'am', 'is', 'are', 'was', 'were', 'be', 'been', 'being', 'have', 'has', 'had', 'having', 'do', 'does', \\\n",
    "            'did', 'doing', 'a', 'an', 'the', 'and', 'but', 'if', 'or', 'because', 'as', 'until', 'while', 'of', \\\n",
    "            'at', 'by', 'for', 'with', 'about', 'against', 'between', 'into', 'through', 'during', 'before', 'after',\\\n",
    "            'above', 'below', 'to', 'from', 'up', 'down', 'in', 'out', 'on', 'off', 'over', 'under', 'again', 'further',\\\n",
    "            'then', 'once', 'here', 'there', 'when', 'where', 'why', 'how', 'all', 'any', 'both', 'each', 'few', 'more',\\\n",
    "            'most', 'other', 'some', 'such', 'only', 'own', 'same', 'so', 'than', 'too', 'very', \\\n",
    "            's', 't', 'can', 'will', 'just', 'don', \"don't\", 'should', \"should've\", 'now', 'd', 'll', 'm', 'o', 're', \\\n",
    "            've', 'y', 'ain', 'aren', \"aren't\", 'couldn', \"couldn't\", 'didn', \"didn't\", 'doesn', \"doesn't\", 'hadn',\\\n",
    "            \"hadn't\", 'hasn', \"hasn't\", 'haven', \"haven't\", 'isn', \"isn't\", 'ma', 'mightn', \"mightn't\", 'mustn',\\\n",
    "            \"mustn't\", 'needn', \"needn't\", 'shan', \"shan't\", 'shouldn', \"shouldn't\", 'wasn', \"wasn't\", 'weren', \"weren't\", \\\n",
    "            'won', \"won't\", 'wouldn', \"wouldn't\"]\n",
    "\n",
    "#========================================================================================================\n",
    "# https://stackoverflow.com/a/47091490/4084039\n",
    "import re\n",
    "\n",
    "def decontracted(phrase):\n",
    "    \"\"\"Function for opening thee decontracted words\"\"\"\n",
    "    # specific\n",
    "    phrase = re.sub(r\"won't\", \"will not\", phrase)#converting to will not\n",
    "    phrase = re.sub(r\"can\\'t\", \"can not\", phrase)#converting to can not\n",
    "\n",
    "    # general\n",
    "    phrase = re.sub(r\"n\\'t\", \" not\", phrase)#converting to not\n",
    "    phrase = re.sub(r\"\\'re\", \" are\", phrase)#converting to are\n",
    "    phrase = re.sub(r\"\\'s\", \" is\", phrase)#converting to is\n",
    "    phrase = re.sub(r\"\\'d\", \" would\", phrase)#converting to would\n",
    "    phrase = re.sub(r\"\\'ll\", \" will\", phrase)#converting to will\n",
    "    phrase = re.sub(r\"\\'t\", \" not\", phrase)#converting to not\n",
    "    phrase = re.sub(r\"\\'ve\", \" have\", phrase)#converting to have\n",
    "    phrase = re.sub(r\"\\'m\", \" am\", phrase)#converting to am\n",
    "    return phrase\n",
    "#=============================================================================================\n",
    "\n",
    "# Combining all the above stundents \n",
    "def preprocess_text(text_data):\n",
    "    \"\"\"cleaning and remving the stopwords\"\"\"\n",
    "    preprocessed_text = []\n",
    "    # tqdm is for printing the status bar\n",
    "    for sentance in tqdm(text_data):\n",
    "        sent = decontracted(sentance)\n",
    "        sent = sent.replace('\\\\r', ' ')\n",
    "        sent = sent.replace('\\\\n', ' ')\n",
    "        sent = sent.replace('\\\\\"', ' ')\n",
    "        sent = re.sub('[^A-Za-z0-9]+', ' ', sent)\n",
    "        # https://gist.github.com/sebleier/554280\n",
    "        sent = ' '.join(e for e in sent.split() if e.lower() not in stopwords)\n",
    "        preprocessed_text.append(sent.lower().strip())\n",
    "    return preprocessed_text"
   ]
  },
  {
   "cell_type": "markdown",
   "metadata": {
    "colab_type": "text",
    "id": "2JW8SbukXY4n"
   },
   "source": [
    "### project title\n"
   ]
  },
  {
   "cell_type": "code",
   "execution_count": 0,
   "metadata": {
    "colab": {},
    "colab_type": "code",
    "id": "sxcUyWDlXY4o",
    "outputId": "90dcd8ac-2add-47b9-f9a3-e5031290b424"
   },
   "outputs": [
    {
     "name": "stderr",
     "output_type": "stream",
     "text": [
      "100%|███████████████████████████████████████████████████████████████████████| 109248/109248 [00:05<00:00, 19899.20it/s]\n"
     ]
    }
   ],
   "source": [
    "preprocessed_titles = preprocess_text(project_data['project_title'].values)"
   ]
  },
  {
   "cell_type": "code",
   "execution_count": 0,
   "metadata": {
    "colab": {},
    "colab_type": "code",
    "id": "Txk_z4G1XY4s"
   },
   "outputs": [],
   "source": [
    "project_data['cleaned_project_titles'] = preprocessed_titles\n",
    "project_data.drop(['project_title'],axis = 1,inplace = True)"
   ]
  },
  {
   "cell_type": "markdown",
   "metadata": {
    "colab_type": "text",
    "id": "_yMFoKhnXY4y"
   },
   "source": [
    "### Project resource summary"
   ]
  },
  {
   "cell_type": "code",
   "execution_count": 0,
   "metadata": {
    "colab": {},
    "colab_type": "code",
    "id": "v_4nDyjvXY40",
    "outputId": "61ec6053-2dd2-4408-ed74-19f0c15c3692"
   },
   "outputs": [
    {
     "name": "stderr",
     "output_type": "stream",
     "text": [
      "100%|████████████████████████████████████████████████████████████████████████| 109248/109248 [00:10<00:00, 9999.71it/s]\n"
     ]
    }
   ],
   "source": [
    "preprocessed_resource_summary = preprocess_text(project_data['project_resource_summary'].values)\n",
    "project_data['cleaned_resource_summary'] = preprocessed_resource_summary\n",
    "project_data.drop(['project_resource_summary'],axis = 1,inplace = True)"
   ]
  },
  {
   "cell_type": "markdown",
   "metadata": {
    "colab_type": "text",
    "id": "_-n4b7NLXY43"
   },
   "source": [
    "### project essays"
   ]
  },
  {
   "cell_type": "code",
   "execution_count": 0,
   "metadata": {
    "colab": {},
    "colab_type": "code",
    "id": "Z0mZJFlvXY44"
   },
   "outputs": [],
   "source": [
    "# merge two column text dataframe: \n",
    "project_data[\"essay\"] = project_data[\"project_essay_1\"].map(str) +\\\n",
    "                        project_data[\"project_essay_2\"].map(str) + \\\n",
    "                        project_data[\"project_essay_3\"].map(str) + \\\n",
    "                        project_data[\"project_essay_4\"].map(str)"
   ]
  },
  {
   "cell_type": "code",
   "execution_count": 0,
   "metadata": {
    "colab": {},
    "colab_type": "code",
    "id": "5-kf0gekXY48",
    "outputId": "887e95c6-bab6-4c96-b029-f49a77edecaf"
   },
   "outputs": [
    {
     "name": "stderr",
     "output_type": "stream",
     "text": [
      "100%|█████████████████████████████████████████████████████████████████████████| 109248/109248 [02:04<00:00, 874.01it/s]\n"
     ]
    }
   ],
   "source": [
    "preprocessed_essays = preprocess_text(project_data['essay'].values)\n",
    "project_data['cleaned_essay'] = preprocessed_essays\n",
    "project_data.drop(['project_essay_1','project_essay_2','project_essay_3','project_essay_4'],axis = 1,inplace = True)"
   ]
  },
  {
   "cell_type": "markdown",
   "metadata": {
    "colab_type": "text",
    "id": "ZKU_q38sXY4_"
   },
   "source": [
    "## 3.Preprocessing nuerical features "
   ]
  },
  {
   "cell_type": "markdown",
   "metadata": {
    "colab_type": "text",
    "id": "_lzpsVAZXY5D"
   },
   "source": [
    "### MinmaxScaler"
   ]
  },
  {
   "cell_type": "code",
   "execution_count": 0,
   "metadata": {
    "colab": {},
    "colab_type": "code",
    "id": "zKnBW8LcXY5F",
    "outputId": "d389bb74-0ca5-4e83-84c4-8205b379e6a2"
   },
   "outputs": [
    {
     "data": {
      "text/html": [
       "<div>\n",
       "<style scoped>\n",
       "    .dataframe tbody tr th:only-of-type {\n",
       "        vertical-align: middle;\n",
       "    }\n",
       "\n",
       "    .dataframe tbody tr th {\n",
       "        vertical-align: top;\n",
       "    }\n",
       "\n",
       "    .dataframe thead th {\n",
       "        text-align: right;\n",
       "    }\n",
       "</style>\n",
       "<table border=\"1\" class=\"dataframe\">\n",
       "  <thead>\n",
       "    <tr style=\"text-align: right;\">\n",
       "      <th></th>\n",
       "      <th>teacher_prefix</th>\n",
       "      <th>school_state</th>\n",
       "      <th>project_submitted_datetime</th>\n",
       "      <th>project_grade_category</th>\n",
       "      <th>project_subject_categories</th>\n",
       "      <th>project_subject_subcategories</th>\n",
       "      <th>teacher_number_of_previously_posted_projects</th>\n",
       "      <th>price</th>\n",
       "      <th>quantity</th>\n",
       "      <th>cleaned_project_titles</th>\n",
       "      <th>cleaned_resource_summary</th>\n",
       "      <th>cleaned_essay</th>\n",
       "      <th>nrm_price</th>\n",
       "    </tr>\n",
       "  </thead>\n",
       "  <tbody>\n",
       "    <tr>\n",
       "      <th>0</th>\n",
       "      <td>mrs</td>\n",
       "      <td>in</td>\n",
       "      <td>2016-12-05 13:43:57</td>\n",
       "      <td>grades_prek_2</td>\n",
       "      <td>literacy_language</td>\n",
       "      <td>esl_literacy</td>\n",
       "      <td>0</td>\n",
       "      <td>154.6</td>\n",
       "      <td>23</td>\n",
       "      <td>educational support english learners home</td>\n",
       "      <td>students need opportunities practice beginning...</td>\n",
       "      <td>students english learners working english seco...</td>\n",
       "      <td>0.015397</td>\n",
       "    </tr>\n",
       "    <tr>\n",
       "      <th>1</th>\n",
       "      <td>mr</td>\n",
       "      <td>fl</td>\n",
       "      <td>2016-10-25 09:22:10</td>\n",
       "      <td>grades_6_8</td>\n",
       "      <td>history_civics_health_sports</td>\n",
       "      <td>civics_government_teamsports</td>\n",
       "      <td>7</td>\n",
       "      <td>299.0</td>\n",
       "      <td>1</td>\n",
       "      <td>wanted projector hungry learners</td>\n",
       "      <td>students need projector help viewing education...</td>\n",
       "      <td>students arrive school eager learn polite gene...</td>\n",
       "      <td>0.029839</td>\n",
       "    </tr>\n",
       "  </tbody>\n",
       "</table>\n",
       "</div>"
      ],
      "text/plain": [
       "  teacher_prefix school_state project_submitted_datetime  \\\n",
       "0            mrs           in        2016-12-05 13:43:57   \n",
       "1             mr           fl        2016-10-25 09:22:10   \n",
       "\n",
       "  project_grade_category    project_subject_categories  \\\n",
       "0          grades_prek_2             literacy_language   \n",
       "1             grades_6_8  history_civics_health_sports   \n",
       "\n",
       "  project_subject_subcategories  teacher_number_of_previously_posted_projects  \\\n",
       "0                  esl_literacy                                             0   \n",
       "1  civics_government_teamsports                                             7   \n",
       "\n",
       "   price  quantity                     cleaned_project_titles  \\\n",
       "0  154.6        23  educational support english learners home   \n",
       "1  299.0         1           wanted projector hungry learners   \n",
       "\n",
       "                            cleaned_resource_summary  \\\n",
       "0  students need opportunities practice beginning...   \n",
       "1  students need projector help viewing education...   \n",
       "\n",
       "                                       cleaned_essay  nrm_price  \n",
       "0  students english learners working english seco...   0.015397  \n",
       "1  students arrive school eager learn polite gene...   0.029839  "
      ]
     },
     "execution_count": 41,
     "metadata": {
      "tags": []
     },
     "output_type": "execute_result"
    }
   ],
   "source": [
    "from sklearn.preprocessing import MinMaxScaler\n",
    "\n",
    "scaler = MinMaxScaler()\n",
    "scaler.fit(project_data['price'].values.reshape(-1, 1))\n",
    "project_data['nrm_price']=scaler.transform(project_data['price'].values.reshape(-1, 1))\n",
    "project_data\n",
    "project_data.head(2)"
   ]
  },
  {
   "cell_type": "code",
   "execution_count": 0,
   "metadata": {
    "colab": {},
    "colab_type": "code",
    "id": "kKbybthFXY5M"
   },
   "outputs": [],
   "source": [
    "#Save the processed dataset into a pandas CSV file.\n",
    "project_data.to_csv(\"processed_data.csv\", index=False)"
   ]
  },
  {
   "cell_type": "markdown",
   "metadata": {
    "colab_type": "text",
    "id": "VVIXVcX5XY5W"
   },
   "source": [
    "# Preparing the data for modelling "
   ]
  },
  {
   "cell_type": "markdown",
   "metadata": {
    "colab_type": "text",
    "id": "PGArhf23XY5X"
   },
   "source": [
    "- Vectorizing categorical features using one hot encoding\n",
    "\n",
    "- Vectorizing text data using BOW or TFIDF/W2V TFIDF\n",
    "\n",
    "- Standardizing or normalizing numerical data "
   ]
  },
  {
   "cell_type": "code",
   "execution_count": 0,
   "metadata": {
    "colab": {},
    "colab_type": "code",
    "id": "aKgDNYWIXY5a",
    "outputId": "3a8adf63-f01e-4017-cb50-75efebfa673b"
   },
   "outputs": [
    {
     "data": {
      "text/html": [
       "<div>\n",
       "<style scoped>\n",
       "    .dataframe tbody tr th:only-of-type {\n",
       "        vertical-align: middle;\n",
       "    }\n",
       "\n",
       "    .dataframe tbody tr th {\n",
       "        vertical-align: top;\n",
       "    }\n",
       "\n",
       "    .dataframe thead th {\n",
       "        text-align: right;\n",
       "    }\n",
       "</style>\n",
       "<table border=\"1\" class=\"dataframe\">\n",
       "  <thead>\n",
       "    <tr style=\"text-align: right;\">\n",
       "      <th></th>\n",
       "      <th>teacher_prefix</th>\n",
       "      <th>school_state</th>\n",
       "      <th>project_submitted_datetime</th>\n",
       "      <th>project_grade_category</th>\n",
       "      <th>project_subject_categories</th>\n",
       "      <th>project_subject_subcategories</th>\n",
       "      <th>teacher_number_of_previously_posted_projects</th>\n",
       "      <th>price</th>\n",
       "      <th>quantity</th>\n",
       "      <th>cleaned_project_titles</th>\n",
       "      <th>cleaned_resource_summary</th>\n",
       "      <th>cleaned_essay</th>\n",
       "      <th>nrm_price</th>\n",
       "    </tr>\n",
       "  </thead>\n",
       "  <tbody>\n",
       "    <tr>\n",
       "      <th>0</th>\n",
       "      <td>mrs</td>\n",
       "      <td>in</td>\n",
       "      <td>2016-12-05 13:43:57</td>\n",
       "      <td>grades_prek_2</td>\n",
       "      <td>literacy_language</td>\n",
       "      <td>esl_literacy</td>\n",
       "      <td>0</td>\n",
       "      <td>154.6</td>\n",
       "      <td>23</td>\n",
       "      <td>educational support english learners home</td>\n",
       "      <td>students need opportunities practice beginning...</td>\n",
       "      <td>students english learners working english seco...</td>\n",
       "      <td>0.015397</td>\n",
       "    </tr>\n",
       "    <tr>\n",
       "      <th>1</th>\n",
       "      <td>mr</td>\n",
       "      <td>fl</td>\n",
       "      <td>2016-10-25 09:22:10</td>\n",
       "      <td>grades_6_8</td>\n",
       "      <td>history_civics_health_sports</td>\n",
       "      <td>civics_government_teamsports</td>\n",
       "      <td>7</td>\n",
       "      <td>299.0</td>\n",
       "      <td>1</td>\n",
       "      <td>wanted projector hungry learners</td>\n",
       "      <td>students need projector help viewing education...</td>\n",
       "      <td>students arrive school eager learn polite gene...</td>\n",
       "      <td>0.029839</td>\n",
       "    </tr>\n",
       "  </tbody>\n",
       "</table>\n",
       "</div>"
      ],
      "text/plain": [
       "  teacher_prefix school_state project_submitted_datetime  \\\n",
       "0            mrs           in        2016-12-05 13:43:57   \n",
       "1             mr           fl        2016-10-25 09:22:10   \n",
       "\n",
       "  project_grade_category    project_subject_categories  \\\n",
       "0          grades_prek_2             literacy_language   \n",
       "1             grades_6_8  history_civics_health_sports   \n",
       "\n",
       "  project_subject_subcategories  teacher_number_of_previously_posted_projects  \\\n",
       "0                  esl_literacy                                             0   \n",
       "1  civics_government_teamsports                                             7   \n",
       "\n",
       "   price  quantity                     cleaned_project_titles  \\\n",
       "0  154.6        23  educational support english learners home   \n",
       "1  299.0         1           wanted projector hungry learners   \n",
       "\n",
       "                            cleaned_resource_summary  \\\n",
       "0  students need opportunities practice beginning...   \n",
       "1  students need projector help viewing education...   \n",
       "\n",
       "                                       cleaned_essay  nrm_price  \n",
       "0  students english learners working english seco...   0.015397  \n",
       "1  students arrive school eager learn polite gene...   0.029839  "
      ]
     },
     "execution_count": 13,
     "metadata": {
      "tags": []
     },
     "output_type": "execute_result"
    }
   ],
   "source": [
    "#splitting the data\n",
    "project_data = pd.read_csv('processed_data.csv')\n",
    "project_data.head(2)"
   ]
  },
  {
   "cell_type": "code",
   "execution_count": 0,
   "metadata": {
    "colab": {},
    "colab_type": "code",
    "id": "3dEnCRidXY5g",
    "outputId": "a87c079a-0b68-4cc5-b5cc-689aa4b135e7"
   },
   "outputs": [
    {
     "data": {
      "text/plain": [
       "Index(['teacher_prefix', 'school_state', 'project_submitted_datetime',\n",
       "       'project_grade_category', 'project_subject_categories',\n",
       "       'project_subject_subcategories',\n",
       "       'teacher_number_of_previously_posted_projects', 'price', 'quantity',\n",
       "       'cleaned_project_titles', 'cleaned_resource_summary', 'cleaned_essay',\n",
       "       'nrm_price'],\n",
       "      dtype='object')"
      ]
     },
     "execution_count": 14,
     "metadata": {
      "tags": []
     },
     "output_type": "execute_result"
    }
   ],
   "source": [
    "project_data.columns"
   ]
  },
  {
   "cell_type": "code",
   "execution_count": 0,
   "metadata": {
    "colab": {},
    "colab_type": "code",
    "id": "yB66GHrPXY5o"
   },
   "outputs": [],
   "source": [
    "#splitting the data in train,validation and test \n",
    "from sklearn.model_selection import train_test_split\n",
    "#80% training data and 20% test data \n",
    "X_train,X_test,Y_train,Y_test = train_test_split(project_data,target,test_size = 0.2,stratify = target,random_state = 42)\n",
    "X_train,X_cv,Y_train,Y_cv = train_test_split(X_train,Y_train,test_size = 0.2,stratify = Y_train,random_state = 42)\n",
    "\n",
    "print('shape of training data after vectorization is:',X_train.shape)\n",
    "print('shape of validation data after vectorization is:',X_cv.shape)\n",
    "print('shape of test data after vectorization is:',X_test.shape)"
   ]
  },
  {
   "cell_type": "code",
   "execution_count": 0,
   "metadata": {
    "colab": {},
    "colab_type": "code",
    "id": "pbdhyxq9XY5u",
    "outputId": "b47b8c34-6f57-4b8d-c973-a4c73fd411e8"
   },
   "outputs": [
    {
     "name": "stdout",
     "output_type": "stream",
     "text": [
      "shape of training data after vectorization is: (69918, 13)\n",
      "shape of validation data after vectorization is: (17480, 13)\n",
      "shape of test data after vectorization is: (21850, 13)\n"
     ]
    }
   ],
   "source": [
    "print('shape of training data after vectorization is:',X_train.shape)\n",
    "print('shape of validation data after vectorization is:',X_cv.shape)\n",
    "print('shape of test data after vectorization is:',X_test.shape)"
   ]
  },
  {
   "cell_type": "code",
   "execution_count": 3,
   "metadata": {
    "colab": {
     "base_uri": "https://localhost:8080/",
     "height": 79
    },
    "colab_type": "code",
    "id": "hN-q1UoKXY6F",
    "outputId": "19c0ddd0-751f-43d0-d1de-813feeab70c5"
   },
   "outputs": [
    {
     "name": "stderr",
     "output_type": "stream",
     "text": [
      "Using TensorFlow backend.\n"
     ]
    },
    {
     "data": {
      "text/html": [
       "<p style=\"color: red;\">\n",
       "The default version of TensorFlow in Colab will soon switch to TensorFlow 2.x.<br>\n",
       "We recommend you <a href=\"https://www.tensorflow.org/guide/migrate\" target=\"_blank\">upgrade</a> now \n",
       "or ensure your notebook will continue to use TensorFlow 1.x via the <code>%tensorflow_version 1.x</code> magic:\n",
       "<a href=\"https://colab.research.google.com/notebooks/tensorflow_version.ipynb\" target=\"_blank\">more info</a>.</p>\n"
      ],
      "text/plain": [
       "<IPython.core.display.HTML object>"
      ]
     },
     "metadata": {
      "tags": []
     },
     "output_type": "display_data"
    },
    {
     "data": {
      "text/html": [
       "<style>.container { width:100% !important; }</style>"
      ],
      "text/plain": [
       "<IPython.core.display.HTML object>"
      ]
     },
     "metadata": {
      "tags": []
     },
     "output_type": "display_data"
    }
   ],
   "source": [
    "#trying the embeddings \n",
    "from keras.models import Sequential\n",
    "from keras.preprocessing import sequence\n",
    "from keras.initializers import he_normal\n",
    "from keras.layers import Input\n",
    "from keras.layers import Dense\n",
    "from keras.layers.embeddings import Embedding\n",
    "from keras.regularizers import L1L2\n",
    "from keras.layers import BatchNormalization\n",
    "from keras.layers import Dropout\n",
    "from keras.layers import LSTM\n",
    "from keras.layers import Flatten\n",
    "from keras.preprocessing.text import Tokenizer\n",
    "from keras.preprocessing.sequence import pad_sequences\n",
    "from keras.models import Model\n",
    "from keras.layers import concatenate\n",
    "from sklearn.metrics import accuracy_score\n",
    "from IPython.core.display import display,HTML\n",
    "from numpy import zeros\n",
    "display(HTML(\"<style>.container { width:100% !important; }</style>\"))"
   ]
  },
  {
   "cell_type": "markdown",
   "metadata": {
    "colab_type": "text",
    "id": "pHSl7MdBXY6K"
   },
   "source": [
    "## 2. Vectorizing the categorical features "
   ]
  },
  {
   "cell_type": "markdown",
   "metadata": {
    "colab_type": "text",
    "id": "3u-YN6KWXY6M"
   },
   "source": [
    "### 2.1 Project_category"
   ]
  },
  {
   "cell_type": "code",
   "execution_count": 0,
   "metadata": {
    "colab": {},
    "colab_type": "code",
    "id": "9G6F1h4QXY6O"
   },
   "outputs": [],
   "source": [
    "from collections import Counter \n",
    "def count(df):\n",
    "    \n",
    "    \"\"\"Returns the sorted dinctionary keys\"\"\"\n",
    "    my_counter = Counter() #initiating counter to calculate occurence of words\n",
    "    for word in df.values:\n",
    "        my_counter.update(word.split())\n",
    "    \n",
    "# dict sort by value python: https://stackoverflow.com/a/613218/4084039\n",
    "    cat_dict = dict(my_counter)\n",
    "    sorted_cat_dict = dict(sorted(cat_dict.items(), key=lambda kv: kv[1]))\n",
    "    return sorted_cat_dict"
   ]
  },
  {
   "cell_type": "code",
   "execution_count": 0,
   "metadata": {
    "colab": {},
    "colab_type": "code",
    "id": "nN3sJw3PXY6R",
    "outputId": "e223f026-c635-4a9b-ac7f-e48381c308fd"
   },
   "outputs": [
    {
     "name": "stdout",
     "output_type": "stream",
     "text": [
      "['history_civics_warmth_care_hunger', 'music_arts_warmth_care_hunger', 'literacy_language_warmth_care_hunger', 'music_arts_appliedlearning', 'appliedlearning_warmth_care_hunger', 'math_science_warmth_care_hunger', 'history_civics_health_sports', 'music_arts_history_civics', 'music_arts_health_sports', 'health_sports_warmth_care_hunger']\n",
      "Shape of train matrix after one hot encodig  (69918, 51)\n",
      "Shape of val matrix after one hot encodig  (17480, 51)\n",
      "Shape of test matrix after one hot encodig  (21850, 51)\n"
     ]
    }
   ],
   "source": [
    "\n",
    "# we use count vectorizer to convert the values into one hot encoded features\n",
    "from sklearn.feature_extraction.text import CountVectorizer\n",
    "cat_dict = count(project_data['project_subject_categories'])\n",
    "vectorizer = CountVectorizer(vocabulary=list(cat_dict.keys()), lowercase=False, binary=True)\n",
    "vectorizer.fit(X_train['project_subject_categories'].values)\n",
    "print(vectorizer.get_feature_names()[:10])\n",
    "\n",
    "\n",
    "train_categories = vectorizer.transform(X_train['project_subject_categories'].values)\n",
    "val_categories = vectorizer.transform(X_cv['project_subject_categories'].values)\n",
    "test_categories = vectorizer.transform(X_test['project_subject_categories'].values)\n",
    "print(\"Shape of train matrix after one hot encodig \",train_categories.shape)\n",
    "print(\"Shape of val matrix after one hot encodig \",val_categories.shape)\n",
    "print(\"Shape of test matrix after one hot encodig \",test_categories.shape)\n",
    "\n",
    "#vocab_size_categories = train_categories.shape[1] + 1\n"
   ]
  },
  {
   "cell_type": "code",
   "execution_count": 0,
   "metadata": {
    "colab": {},
    "colab_type": "code",
    "id": "EWRT9fvoXY6T"
   },
   "outputs": [],
   "source": [
    "#getting the embedding layer \n",
    "#Get the flattened output for clean_categories\n",
    "input_layer_clean_categories = Input(shape=(train_categories.shape[1],), name = \"input_categories\")\n",
    "embedding_layer_clean_categories = Embedding(input_dim=train_categories.shape[1], output_dim=4, trainable=True)(input_layer_clean_categories)\n",
    "flatten_clean_categories = Flatten()(embedding_layer_clean_categories)"
   ]
  },
  {
   "cell_type": "markdown",
   "metadata": {
    "colab_type": "text",
    "id": "cEuiD1GkXY6X"
   },
   "source": [
    "### 2.2 Project subcategories"
   ]
  },
  {
   "cell_type": "code",
   "execution_count": 0,
   "metadata": {
    "colab": {},
    "colab_type": "code",
    "id": "eydzJabTXY6X",
    "outputId": "6a591e77-6998-4629-96f1-30b7d6088244"
   },
   "outputs": [
    {
     "name": "stdout",
     "output_type": "stream",
     "text": [
      "['gym_fitness_parentinvolvement', 'communityservice_gym_fitness', 'college_careerprep_warmth_care_hunger', 'economics_other', 'parentinvolvement_warmth_care_hunger', 'communityservice_music', 'gym_fitness_socialsciences', 'parentinvolvement_teamsports', 'civics_government_nutritioneducation', 'financialliteracy_foreignlanguages']\n",
      "Shape of train matrix after one hot encodig  (69918, 401)\n",
      "Shape of val matrix after one hot encodig  (17480, 401)\n",
      "Shape of test matrix after one hot encodig  (21850, 401)\n"
     ]
    }
   ],
   "source": [
    "# we use count vectorizer to convert the values into one hot encoded features\n",
    "#from sklearn.feature_extraction.text import CountVectorizer\n",
    "cat_dict = count(project_data['project_subject_subcategories'])\n",
    "vectorizer = CountVectorizer(vocabulary=list(cat_dict.keys()), lowercase=False, binary=True)\n",
    "vectorizer.fit(X_train['project_subject_subcategories'].values)\n",
    "print(vectorizer.get_feature_names()[:10])\n",
    "\n",
    "\n",
    "train_subcategories = vectorizer.transform(X_train['project_subject_subcategories'].values)\n",
    "val_subcategories = vectorizer.transform(X_cv['project_subject_subcategories'].values)\n",
    "test_subcategories = vectorizer.transform(X_test['project_subject_subcategories'].values)\n",
    "print(\"Shape of train matrix after one hot encodig \",train_subcategories.shape)\n",
    "print(\"Shape of val matrix after one hot encodig \",val_subcategories.shape)\n",
    "print(\"Shape of test matrix after one hot encodig \",test_subcategories.shape)\n"
   ]
  },
  {
   "cell_type": "code",
   "execution_count": 0,
   "metadata": {
    "colab": {},
    "colab_type": "code",
    "id": "hFlDx-YZXY6e"
   },
   "outputs": [],
   "source": [
    "#getting the embedding layer \n",
    "#Get the flattened output for clean_subcategories\n",
    "input_layer_subcategories = Input(shape=(train_subcategories.shape[1],), name = \"input_subcategories\")\n",
    "embedding_layer_subcategories = Embedding(input_dim=train_subcategories.shape[1], output_dim=4, trainable=True)(input_layer_subcategories)\n",
    "flatten_subcategories = Flatten()(embedding_layer_subcategories)"
   ]
  },
  {
   "cell_type": "markdown",
   "metadata": {
    "colab_type": "text",
    "id": "5ptI8nqFXY6h"
   },
   "source": [
    "### 2.3 Teacher Prefix"
   ]
  },
  {
   "cell_type": "code",
   "execution_count": 0,
   "metadata": {
    "colab": {},
    "colab_type": "code",
    "id": "RYtuzvy7XY6i",
    "outputId": "b039edc8-f82a-47b4-e41b-db3f7eefb5f6"
   },
   "outputs": [
    {
     "name": "stdout",
     "output_type": "stream",
     "text": [
      "['dr', 'teacher', 'mr', 'ms', 'mrs']\n",
      "Shape of train matrix after one hot encodig  (69918, 5)\n",
      "Shape of val matrix after one hot encodig  (17480, 5)\n",
      "Shape of test matrix after one hot encodig  (21850, 5)\n"
     ]
    }
   ],
   "source": [
    "cat_dict = count(project_data['teacher_prefix'])\n",
    "vectorizer = CountVectorizer(vocabulary=list(cat_dict.keys()), lowercase=False, binary=True)\n",
    "vectorizer.fit(X_train['teacher_prefix'].values)\n",
    "print(vectorizer.get_feature_names()[:10])\n",
    "\n",
    "\n",
    "train_prefix = vectorizer.transform(X_train['teacher_prefix'].values)\n",
    "val_prefix = vectorizer.transform(X_cv['teacher_prefix'].values)\n",
    "test_prefix= vectorizer.transform(X_test['teacher_prefix'].values)\n",
    "print(\"Shape of train matrix after one hot encodig \",train_prefix.shape)\n",
    "print(\"Shape of val matrix after one hot encodig \",val_prefix.shape)\n",
    "print(\"Shape of test matrix after one hot encodig \",test_prefix.shape)\n"
   ]
  },
  {
   "cell_type": "code",
   "execution_count": 0,
   "metadata": {
    "colab": {},
    "colab_type": "code",
    "id": "RJB0El_7XY6n"
   },
   "outputs": [],
   "source": [
    "#getting the embedding layer \n",
    "#Get the flattened output for teacher_prefix\n",
    "input_layer_prefix = Input(shape=(train_prefix.shape[1],), name = \"input_prefix\")\n",
    "embedding_layer_prefix = Embedding(input_dim=train_prefix.shape[1], output_dim=4, trainable=True)(input_layer_prefix)\n",
    "flatten_prefix = Flatten()(embedding_layer_prefix)"
   ]
  },
  {
   "cell_type": "markdown",
   "metadata": {
    "colab_type": "text",
    "id": "Ih9dNRRMXY6p"
   },
   "source": [
    "### 2.4School state"
   ]
  },
  {
   "cell_type": "code",
   "execution_count": 0,
   "metadata": {
    "colab": {},
    "colab_type": "code",
    "id": "6aiCvswCXY6s",
    "outputId": "b5dd69a1-1755-44b9-8cba-7097c24b627c"
   },
   "outputs": [
    {
     "name": "stdout",
     "output_type": "stream",
     "text": [
      "['vt', 'wy', 'nd', 'mt', 'ri', 'sd', 'ne', 'de', 'ak', 'nh', 'wv', 'me', 'hi', 'dc', 'nm', 'ks', 'ia', 'id', 'ar', 'co', 'mn', 'or', 'ky', 'ms', 'nv', 'md', 'ct', 'tn', 'ut', 'al', 'wi', 'va', 'az', 'nj', 'ok', 'wa', 'ma', 'la', 'oh', 'mo', 'in', 'pa', 'mi', 'sc', 'ga', 'il', 'nc', 'fl', 'ny', 'tx', 'ca']\n",
      "Shape of train matrix after one hot encodig  (69918, 51)\n",
      "Shape of val matrix after one hot encodig  (17480, 51)\n",
      "Shape of test matrix after one hot encodig  (21850, 51)\n"
     ]
    }
   ],
   "source": [
    "cat_dict = count(project_data['school_state'])\n",
    "vectorizer = CountVectorizer(vocabulary=list(cat_dict.keys()), lowercase=False, binary=True)\n",
    "vectorizer.fit(X_train['school_state'].values)\n",
    "print(vectorizer.get_feature_names())\n",
    "\n",
    "\n",
    "train_state = vectorizer.transform(X_train['school_state'].values)\n",
    "val_state = vectorizer.transform(X_cv['school_state'].values)\n",
    "test_state= vectorizer.transform(X_test['school_state'].values)\n",
    "print(\"Shape of train matrix after one hot encodig \",train_state.shape)\n",
    "print(\"Shape of val matrix after one hot encodig \",val_state.shape)\n",
    "print(\"Shape of test matrix after one hot encodig \",test_state.shape)"
   ]
  },
  {
   "cell_type": "code",
   "execution_count": 0,
   "metadata": {
    "colab": {},
    "colab_type": "code",
    "id": "-tR3AZjkXY6y"
   },
   "outputs": [],
   "source": [
    "#getting the embedding layer \n",
    "#Get the flattened output for clean_subcategories\n",
    "input_layer_state = Input(shape=(train_state.shape[1],), name = \"input_state\")\n",
    "embedding_layer_state = Embedding(input_dim=train_state.shape[1], output_dim=4, trainable=True)(input_layer_state)\n",
    "flatten_state = Flatten()(embedding_layer_state)"
   ]
  },
  {
   "cell_type": "markdown",
   "metadata": {
    "colab_type": "text",
    "id": "4nOmh_OdXY61"
   },
   "source": [
    "### 2.5 Project grade category"
   ]
  },
  {
   "cell_type": "code",
   "execution_count": 0,
   "metadata": {
    "colab": {},
    "colab_type": "code",
    "id": "JFtvIsSlXY62",
    "outputId": "007602dc-ef6c-43db-861b-510035385e13"
   },
   "outputs": [
    {
     "name": "stdout",
     "output_type": "stream",
     "text": [
      "['grades_9_12', 'grades_6_8', 'grades_3_5', 'grades_prek_2']\n",
      "Shape of train matrix after one hot encodig  (69918, 4)\n",
      "Shape of val matrix after one hot encodig  (17480, 4)\n",
      "Shape of test matrix after one hot encodig  (21850, 4)\n"
     ]
    }
   ],
   "source": [
    "cat_dict = count(project_data['project_grade_category'])\n",
    "vectorizer = CountVectorizer(vocabulary=list(cat_dict.keys()), lowercase=False, binary=True)\n",
    "vectorizer.fit(X_train['project_grade_category'].values)\n",
    "print(vectorizer.get_feature_names()[:10])\n",
    "\n",
    "\n",
    "train_grade_category = vectorizer.transform(X_train['project_grade_category'].values)\n",
    "val_grade_category = vectorizer.transform(X_cv['project_grade_category'].values)\n",
    "test_grade_category= vectorizer.transform(X_test['project_grade_category'].values)\n",
    "print(\"Shape of train matrix after one hot encodig \",train_grade_category.shape)\n",
    "print(\"Shape of val matrix after one hot encodig \",val_grade_category.shape)\n",
    "print(\"Shape of test matrix after one hot encodig \",test_grade_category.shape)"
   ]
  },
  {
   "cell_type": "code",
   "execution_count": 0,
   "metadata": {
    "colab": {},
    "colab_type": "code",
    "id": "SJ5TJ5lxXY65"
   },
   "outputs": [],
   "source": [
    "#getting the embedding layer \n",
    "#Get the flattened output for project grade category\n",
    "input_layer_grade_category = Input(shape=(train_grade_category.shape[1],), name = \"input_grade_category\")\n",
    "embedding_layer_grade_category = Embedding(input_dim=train_grade_category.shape[1], output_dim=4, trainable=True)(input_layer_grade_category)\n",
    "flatten_grade_category = Flatten()(embedding_layer_grade_category)"
   ]
  },
  {
   "cell_type": "markdown",
   "metadata": {
    "colab_type": "text",
    "id": "hTRah21fXY7A"
   },
   "source": [
    "## Vectorizing the text data "
   ]
  },
  {
   "cell_type": "markdown",
   "metadata": {
    "colab_type": "text",
    "id": "s4lkLCtBXY7B"
   },
   "source": [
    "as we want to input the total text that's why we must get the final text by combining all"
   ]
  },
  {
   "cell_type": "code",
   "execution_count": 0,
   "metadata": {
    "colab": {},
    "colab_type": "code",
    "id": "g8fzEBIJXY7C"
   },
   "outputs": [],
   "source": [
    "#utility function\n",
    "def final_text(df):\n",
    "    \"\"\"Returns the final concatenated text\"\"\"\n",
    "    df['final_Text'] = df['cleaned_essay'].map(str) + \" \" + df['cleaned_resource_summary'].map(str) +\\\n",
    "        \" \" + df['cleaned_project_titles'].map(str)\n",
    "    return df\n",
    "\n",
    "#getting the train,val and test data\n",
    "train_text = final_text(X_train)\n",
    "val_text = final_text(X_cv)\n",
    "test_text = final_text(X_test)"
   ]
  },
  {
   "cell_type": "code",
   "execution_count": 0,
   "metadata": {
    "colab": {},
    "colab_type": "code",
    "id": "VZfSE4iDXY7I"
   },
   "outputs": [],
   "source": [
    "#building the data for modelling\n",
    "\n",
    "\n",
    "#initializing the tokenizer\n",
    "tokens = Tokenizer()\n",
    "tokens.fit_on_texts(list(train_text['final_Text'].values))#will convert texts to sequences \n",
    "\n",
    "#integer encoding the documents\n",
    "docs_train = tokens.texts_to_sequences(list(train_text['final_Text'].values))\n",
    "docs_val = tokens.texts_to_sequences(list(val_text['final_Text'].values))\n",
    "docs_test = tokens.texts_to_sequences(list(test_text['final_Text'].values))\n",
    "\n",
    "vocab_size = len(tokens.word_index) + 1\n",
    "\n",
    "max_length = 300#for padding the sequences \n",
    "\n",
    "#finally padding the squences\n",
    "padded_docs_train = pad_sequences(docs_train, maxlen=max_length, padding='post')\n",
    "padded_docs_val = pad_sequences(docs_val, maxlen=max_length, padding='post')\n",
    "padded_docs_test = pad_sequences(docs_test, maxlen=max_length, padding='post')\n",
    "\n",
    "#creating a matrix for each word in training data \n",
    "pickle_in = open(\"glove_vectors\",\"rb\")\n",
    "glove_words = pickle.load(pickle_in)\n",
    "embedding_matrix = zeros((vocab_size, 300))\n",
    "for word, i in tokens.word_index.items(): #enumerating all unique words\n",
    "    embedding_vector = glove_words.get(word)#locating for loaded glove model\n",
    "    if embedding_vector is not None:\n",
    "        embedding_matrix[i] = embedding_vector"
   ]
  },
  {
   "cell_type": "code",
   "execution_count": 0,
   "metadata": {
    "colab": {},
    "colab_type": "code",
    "id": "aMEQ-2ElXY7M",
    "outputId": "f7cd02d8-ab67-418d-882f-61f7729bc091"
   },
   "outputs": [
    {
     "data": {
      "text/plain": [
       "51153"
      ]
     },
     "execution_count": 123,
     "metadata": {
      "tags": []
     },
     "output_type": "execute_result"
    }
   ],
   "source": [
    "vocab_size"
   ]
  },
  {
   "cell_type": "code",
   "execution_count": 0,
   "metadata": {
    "colab": {},
    "colab_type": "code",
    "id": "d8lLPmPHXY7R"
   },
   "outputs": [],
   "source": [
    "#as we choose the vector to be 300 dimensional\n",
    "#that's why the output dimension must be 300\n",
    "input_text_layer = Input(shape = (300,),name = 'input_total_text_sequence')\n",
    "embedding_layer_text = Embedding(input_dim = vocab_size,output_dim = 300,weights = [embedding_matrix],trainable = False)(input_text_layer)\n",
    "#here input_dim is size of vocablury of text data\n",
    "#output_dim is size of embedded vector"
   ]
  },
  {
   "cell_type": "code",
   "execution_count": 0,
   "metadata": {
    "colab": {},
    "colab_type": "code",
    "id": "2eaoIVtCXY7V"
   },
   "outputs": [],
   "source": [
    "#lstm for this layer\n",
    "lstm_layer = LSTM(32,activation = 'relu',return_sequences = True)(embedding_layer_text)\n",
    "#and finally flttening the output\n",
    "flatten_text = Flatten()(lstm_layer)"
   ]
  },
  {
   "cell_type": "markdown",
   "metadata": {
    "colab_type": "text",
    "id": "K19iU47VXY7Z"
   },
   "source": [
    "# Normalizing the numerical data"
   ]
  },
  {
   "cell_type": "markdown",
   "metadata": {
    "colab_type": "text",
    "id": "Nv94TkyzXY7a"
   },
   "source": [
    "### Teacher number of previously posted projects"
   ]
  },
  {
   "cell_type": "code",
   "execution_count": 0,
   "metadata": {
    "colab": {},
    "colab_type": "code",
    "id": "KFkGxddjXY7b"
   },
   "outputs": [],
   "source": [
    "from sklearn.preprocessing import Normalizer\n",
    "\n",
    "norm = Normalizer()\n",
    "train_ppp = norm.fit_transform(X_train['teacher_number_of_previously_posted_projects'].values.reshape(-1,1))\n",
    "val_ppp = norm.transform(X_cv['teacher_number_of_previously_posted_projects'].values.reshape(-1,1))\n",
    "test_ppp = norm.transform(X_test['teacher_number_of_previously_posted_projects'].values.reshape(-1,1))"
   ]
  },
  {
   "cell_type": "code",
   "execution_count": 0,
   "metadata": {
    "colab": {},
    "colab_type": "code",
    "id": "QmgXcP4eXY7g"
   },
   "outputs": [],
   "source": [
    "train_ppp = train_ppp.reshape(len(X_train),1)\n",
    "val_ppp = val_ppp.reshape(len(X_cv),1)\n",
    "test_ppp = test_ppp.reshape(len(X_test),1)"
   ]
  },
  {
   "cell_type": "code",
   "execution_count": 0,
   "metadata": {
    "colab": {},
    "colab_type": "code",
    "id": "INPXQBPqXY7j"
   },
   "outputs": [],
   "source": [
    "input_num_1 = Input(shape = (train_ppp.shape[1],),name = 'input_previously_posted_projects')"
   ]
  },
  {
   "cell_type": "markdown",
   "metadata": {
    "colab_type": "text",
    "id": "NaL08VNiXY7l"
   },
   "source": [
    "### Quantity"
   ]
  },
  {
   "cell_type": "code",
   "execution_count": 0,
   "metadata": {
    "colab": {},
    "colab_type": "code",
    "id": "IDBaKhfcXY7n"
   },
   "outputs": [],
   "source": [
    "norm = Normalizer()\n",
    "train_quantity = norm.fit_transform(X_train.quantity.values.reshape(-1,1))\n",
    "val_quantity = norm.transform(X_cv.quantity.values.reshape(-1,1))\n",
    "test_quantity = norm.transform(X_test.quantity.values.reshape(-1,1))\n",
    "\n",
    "train_quantity = train_quantity.reshape(len(X_train),1)\n",
    "val_quantity = val_quantity.reshape(len(X_cv),1)\n",
    "test_quantity = test_quantity.reshape(len(X_test),1)\n"
   ]
  },
  {
   "cell_type": "code",
   "execution_count": 0,
   "metadata": {
    "colab": {},
    "colab_type": "code",
    "id": "Y9d8E1vyXY7r"
   },
   "outputs": [],
   "source": [
    "input_num_2 = Input(shape = (train_quantity.shape[1],),name = 'input_quantity')"
   ]
  },
  {
   "cell_type": "markdown",
   "metadata": {
    "colab_type": "text",
    "id": "AsA3qDFtXY7u"
   },
   "source": [
    "### Price"
   ]
  },
  {
   "cell_type": "code",
   "execution_count": 0,
   "metadata": {
    "colab": {},
    "colab_type": "code",
    "id": "AOGhJ22CXY7v"
   },
   "outputs": [],
   "source": [
    "norm = Normalizer()\n",
    "train_price = norm.fit_transform(X_train.price.values.reshape(-1,1))\n",
    "val_price = norm.fit_transform(X_cv.price.values.reshape(-1,1))\n",
    "test_price = norm.fit_transform(X_test.price.values.reshape(-1,1))\n",
    "\n",
    "train_price = train_price.reshape(len(X_train),1)\n",
    "val_price = val_price.reshape(len(X_cv),1)\n",
    "test_price = test_price.reshape(len(X_test),1)"
   ]
  },
  {
   "cell_type": "code",
   "execution_count": 0,
   "metadata": {
    "colab": {},
    "colab_type": "code",
    "id": "mEtcvburXY7x"
   },
   "outputs": [],
   "source": [
    "input_num_3 = Input(shape = (train_price.shape[1],),name = 'input_price')"
   ]
  },
  {
   "cell_type": "code",
   "execution_count": 0,
   "metadata": {
    "colab": {},
    "colab_type": "code",
    "id": "hQYq68JbXY70"
   },
   "outputs": [],
   "source": [
    "#concatenating all\n",
    "num_final_concatenate = concatenate(inputs = [input_num_1,input_num_2,input_num_3],name = 'numerical_input_final')\n",
    "#dense layer for numerical features as described by the model architecture\n",
    "dense_num_layer = Dense(16,activation = 'relu',kernel_initializer = 'he_normal',name = 'dense_layer_1')(num_final_concatenate)"
   ]
  },
  {
   "cell_type": "markdown",
   "metadata": {
    "colab_type": "text",
    "id": "BmTQb5nMXY72"
   },
   "source": [
    "## Assignment : 14"
   ]
  },
  {
   "cell_type": "markdown",
   "metadata": {
    "colab_type": "text",
    "id": "Q8EAUrncXY75"
   },
   "source": [
    "<pre>\n",
    "1. Preprocess all the Data we have in DonorsChoose <a href='https://drive.google.com/drive/folders/1MIwK7BQMev8f5CbDDVNLPaFGB32pFN60'>Dataset</a> use train.csv\n",
    "2. Combine 4 essay's into one column named - 'preprocessed_essays'. \n",
    "3. After step 2 you have to train 3 types of models as discussed below. \n",
    "4. For all the model use <a href='https://scikit-learn.org/stable/modules/model_evaluation.html#roc-metrics'>'auc'</a> as a metric. check <a href='https://datascience.stackexchange.com/a/20192'>this</a> for using auc as a metric \n",
    "5. You are free to choose any number of layers/hiddden units but you have to use same type of architectures shown below. \n",
    "6. You can use any one of the optimizers and choice of Learning rate and momentum, resources: <a href='http://cs231n.github.io/neural-networks-3/'>cs231n class notes</a>, <a href='https://www.youtube.com/watch?v=hd_KFJ5ktUc'>cs231n class video</a>. \n",
    "7. For all the model's use <a href='https://www.youtube.com/watch?v=2U6Jl7oqRkM'>TensorBoard</a> and plot the Metric value and Loss with epoch. While submitting, take a screenshot of plots and include those images in .ipynb notebook and PDF. \n",
    "8. Use Categorical Cross Entropy as Loss to minimize.\n",
    "</pre>"
   ]
  },
  {
   "cell_type": "markdown",
   "metadata": {
    "colab_type": "text",
    "id": "suZjN_JdXY76"
   },
   "source": [
    "### Model-1\n",
    "\n",
    "Build and Train deep neural network as shown below"
   ]
  },
  {
   "cell_type": "markdown",
   "metadata": {
    "colab_type": "text",
    "id": "5n5d8DsyXY76"
   },
   "source": [
    "<img src='https://i.imgur.com/w395Yk9.png'>\n",
    "ref: https://i.imgur.com/w395Yk9.png"
   ]
  },
  {
   "cell_type": "markdown",
   "metadata": {
    "colab_type": "text",
    "id": "NGy6vgfnXY77"
   },
   "source": [
    "- __Input_seq_total_text_data__ --- You have to give Total text data columns. After this use the Embedding layer to get word vectors. Use given predefined glove word vectors, don't train any word vectors. After this use LSTM and get the LSTM output and Flatten that output. \n",
    "- __Input_school_state__ --- Give 'school_state' column as input to embedding layer and Train the Keras Embedding layer. \n",
    "- __Project_grade_category__  --- Give 'project_grade_category' column as input to embedding layer and Train the Keras Embedding layer.\n",
    "- __Input_clean_categories__ --- Give 'input_clean_categories' column as input to embedding layer and Train the Keras Embedding layer.\n",
    "- __Input_clean_subcategories__ --- Give 'input_clean_subcategories' column as input to embedding layer and Train the Keras Embedding layer.\n",
    "- __Input_clean_subcategories__ --- Give 'input_teacher_prefix' column as input to embedding layer and Train the Keras Embedding layer.\n",
    "- __Input_remaining_teacher_number_of_previously_posted_projects._resource_summary_contains_numerical_digits._price._quantity__ ---concatenate remaining columns and add a Dense layer after that. \n",
    "\n"
   ]
  },
  {
   "cell_type": "markdown",
   "metadata": {
    "colab_type": "text",
    "id": "BJMfC6Q6XY78"
   },
   "source": [
    "- For LSTM, you can choose your sequence padding methods on your own or you can train your LSTM without padding, there is no restriction on that."
   ]
  },
  {
   "cell_type": "markdown",
   "metadata": {
    "colab_type": "text",
    "id": "cIPbHbpmXY78"
   },
   "source": [
    "Below is an example of embedding layer for a categorical columns. In below code all are dummy values, we gave only for referance. "
   ]
  },
  {
   "cell_type": "code",
   "execution_count": 0,
   "metadata": {
    "colab": {},
    "colab_type": "code",
    "id": "ge5lasDaXY79"
   },
   "outputs": [],
   "source": [
    "# https://stats.stackexchange.com/questions/270546/how-does-keras-embedding-layer-work\n",
    "input_layer = Input(shape=(n,))\n",
    "embedding = Embedding(no_1, no_2, input_length=n)(input_layer)\n",
    "flatten = Flatten()(embedding)"
   ]
  },
  {
   "cell_type": "markdown",
   "metadata": {
    "colab_type": "text",
    "id": "cZDCJKhHXY7_"
   },
   "source": [
    "### 1. Go through this blog, if you have any doubt on using predefined Embedding values in Embedding layer - https://machinelearningmastery.com/use-word-embedding-layers-deep-learning-keras/\n",
    "### 2. Please go through this link https://keras.io/getting-started/functional-api-guide/ and check the 'Multi-input and multi-output models' then you will get to know how to give multiple inputs. "
   ]
  },
  {
   "cell_type": "code",
   "execution_count": 0,
   "metadata": {
    "colab": {},
    "colab_type": "code",
    "id": "DsoVLIkOXY8B",
    "outputId": "0122f01f-f937-4d0e-8774-36c7edee2596"
   },
   "outputs": [
    {
     "name": "stdout",
     "output_type": "stream",
     "text": [
      "__________________________________________________________________________________________________\n",
      "Layer (type)                    Output Shape         Param #     Connected to                     \n",
      "==================================================================================================\n",
      "input_total_text_sequence (Inpu (None, 300)          0                                            \n",
      "__________________________________________________________________________________________________\n",
      "embedding_19 (Embedding)        (None, 300, 300)     15345900    input_total_text_sequence[0][0]  \n",
      "__________________________________________________________________________________________________\n",
      "input_prefix (InputLayer)       (None, 5)            0                                            \n",
      "__________________________________________________________________________________________________\n",
      "input_categories (InputLayer)   (None, 51)           0                                            \n",
      "__________________________________________________________________________________________________\n",
      "input_subcategories (InputLayer (None, 401)          0                                            \n",
      "__________________________________________________________________________________________________\n",
      "input_state (InputLayer)        (None, 51)           0                                            \n",
      "__________________________________________________________________________________________________\n",
      "input_grade_category (InputLaye (None, 4)            0                                            \n",
      "__________________________________________________________________________________________________\n",
      "input_previously_posted_project (None, 1)            0                                            \n",
      "__________________________________________________________________________________________________\n",
      "input_quantity (InputLayer)     (None, 1)            0                                            \n",
      "__________________________________________________________________________________________________\n",
      "input_price (InputLayer)        (None, 1)            0                                            \n",
      "__________________________________________________________________________________________________\n",
      "lstm_2 (LSTM)                   (None, 300, 32)      42624       embedding_19[0][0]               \n",
      "__________________________________________________________________________________________________\n",
      "embedding_16 (Embedding)        (None, 5, 4)         20          input_prefix[0][0]               \n",
      "__________________________________________________________________________________________________\n",
      "embedding_14 (Embedding)        (None, 51, 4)        204         input_categories[0][0]           \n",
      "__________________________________________________________________________________________________\n",
      "embedding_15 (Embedding)        (None, 401, 4)       1604        input_subcategories[0][0]        \n",
      "__________________________________________________________________________________________________\n",
      "embedding_17 (Embedding)        (None, 51, 4)        204         input_state[0][0]                \n",
      "__________________________________________________________________________________________________\n",
      "embedding_18 (Embedding)        (None, 4, 4)         16          input_grade_category[0][0]       \n",
      "__________________________________________________________________________________________________\n",
      "numerical_input_final (Concaten (None, 3)            0           input_previously_posted_projects[\n",
      "                                                                 input_quantity[0][0]             \n",
      "                                                                 input_price[0][0]                \n",
      "__________________________________________________________________________________________________\n",
      "flatten_18 (Flatten)            (None, 9600)         0           lstm_2[0][0]                     \n",
      "__________________________________________________________________________________________________\n",
      "flatten_15 (Flatten)            (None, 20)           0           embedding_16[0][0]               \n",
      "__________________________________________________________________________________________________\n",
      "flatten_13 (Flatten)            (None, 204)          0           embedding_14[0][0]               \n",
      "__________________________________________________________________________________________________\n",
      "flatten_14 (Flatten)            (None, 1604)         0           embedding_15[0][0]               \n",
      "__________________________________________________________________________________________________\n",
      "flatten_16 (Flatten)            (None, 204)          0           embedding_17[0][0]               \n",
      "__________________________________________________________________________________________________\n",
      "flatten_17 (Flatten)            (None, 16)           0           embedding_18[0][0]               \n",
      "__________________________________________________________________________________________________\n",
      "dense_layer_1 (Dense)           (None, 16)           64          numerical_input_final[0][0]      \n",
      "__________________________________________________________________________________________________\n",
      "final_concatenated_layer (Conca (None, 11664)        0           flatten_18[0][0]                 \n",
      "                                                                 flatten_15[0][0]                 \n",
      "                                                                 flatten_13[0][0]                 \n",
      "                                                                 flatten_14[0][0]                 \n",
      "                                                                 flatten_16[0][0]                 \n",
      "                                                                 flatten_17[0][0]                 \n",
      "                                                                 dense_layer_1[0][0]              \n",
      "__________________________________________________________________________________________________\n",
      "dense_layer_concatenate_1 (Dens (None, 8)            93320       final_concatenated_layer[0][0]   \n",
      "__________________________________________________________________________________________________\n",
      "dropout_1 (Dropout)             (None, 8)            0           dense_layer_concatenate_1[0][0]  \n",
      "__________________________________________________________________________________________________\n",
      "dense_layer_concatenate_2 (Dens (None, 8)            72          dropout_1[0][0]                  \n",
      "__________________________________________________________________________________________________\n",
      "dropout_2 (Dropout)             (None, 8)            0           dense_layer_concatenate_2[0][0]  \n",
      "__________________________________________________________________________________________________\n",
      "output_layer (Dense)            (None, 1)            9           dropout_2[0][0]                  \n",
      "==================================================================================================\n",
      "Total params: 15,484,037\n",
      "Trainable params: 138,137\n",
      "Non-trainable params: 15,345,900\n",
      "__________________________________________________________________________________________________\n"
     ]
    }
   ],
   "source": [
    "x = concatenate(inputs = [flatten_text,flatten_prefix,flatten_clean_categories,flatten_subcategories,flatten_state,flatten_grade_category,dense_num_layer],\\\n",
    "                name = 'final_concatenated_layer')\n",
    "\n",
    "x = Dense(8,activation = 'relu',kernel_initializer = 'he_normal',name = 'dense_layer_concatenate_1')(x)\n",
    "x = Dropout(0.3,name = 'dropout_1')(x)\n",
    "x = Dense(8,activation= 'relu',kernel_initializer = 'he_normal',name = 'dense_layer_concatenate_2')(x)\n",
    "x = Dropout(0.3,name = 'dropout_2')(x)\n",
    "\n",
    "output_layer = Dense(1,activation = 'sigmoid',name = 'output_layer')(x)#for binary classification\n",
    "\n",
    "model = Model(inputs = [input_text_layer,input_layer_prefix,input_layer_clean_categories,input_layer_subcategories,input_layer_state,input_layer_grade_category,\\\n",
    "                       input_num_1,input_num_2,input_num_3],outputs = [output_layer])\n",
    "import warnings\n",
    "warnings.filterwarnings('ignore')\n",
    "model.summary()"
   ]
  },
  {
   "cell_type": "markdown",
   "metadata": {
    "colab_type": "text",
    "id": "h8TPCsi7XY8F"
   },
   "source": [
    "## Defining the custom metric for AUC"
   ]
  },
  {
   "cell_type": "code",
   "execution_count": 0,
   "metadata": {
    "colab": {},
    "colab_type": "code",
    "id": "eP_NLKSwXY8G"
   },
   "outputs": [],
   "source": [
    "import tensorflow as tf\n",
    "from keras import backend as K\n",
    "from sklearn.metrics import roc_auc_score\n",
    "\n",
    "#https://stackoverflow.com/questions/51922500/tf-metrics-auc-yielding-very-different-from-sklearn-metrics-roc-auc-score\n",
    "def roc_auc(y_true, y_pred):\n",
    "    auc = tf.py_func(roc_auc_score, (y_true, y_pred), tf.double)\n",
    "    #auc = tf.metrics.auc(y_true, y_pred, num_thresholds=200)[1]\n",
    "    K.get_session().run(tf.local_variables_initializer())\n",
    "    return auc"
   ]
  },
  {
   "cell_type": "markdown",
   "metadata": {
    "colab_type": "text",
    "id": "MYdGKN8uXY8J"
   },
   "source": [
    "## Defining Callbacks"
   ]
  },
  {
   "cell_type": "code",
   "execution_count": 0,
   "metadata": {
    "colab": {},
    "colab_type": "code",
    "id": "28nNMg3sXY8K"
   },
   "outputs": [],
   "source": [
    "import datetime\n",
    "from tensorflow.python.keras.callbacks import TensorBoard\n",
    "from keras.callbacks import ModelCheckpoint\n",
    "\n",
    "tensorboard = TensorBoard(\"logs\\\\fit\\\\\" + datetime.datetime.now().strftime(\"%Y%m%d-%H%M%S\"))\n",
    "filepath=\"weights_best.hdf5\"\n",
    "checkpoint = ModelCheckpoint(filepath, monitor='val_roc_auc', verbose=1, save_best_only=True, mode='max')"
   ]
  },
  {
   "cell_type": "code",
   "execution_count": 0,
   "metadata": {
    "colab": {},
    "colab_type": "code",
    "id": "c0r3if8vXY8P",
    "outputId": "903a600e-3a3a-46cb-cdd6-50b528ee859d",
    "scrolled": false
   },
   "outputs": [
    {
     "name": "stdout",
     "output_type": "stream",
     "text": [
      "Train on 69918 samples, validate on 17480 samples\n",
      "Epoch 1/10\n",
      "69918/69918 [==============================] - ETA: 8:21 - loss: 0.6649 - roc_auc: 0.520 - ETA: 6:40 - loss: 0.6117 - roc_auc: 0.514 - ETA: 6:02 - loss: 0.5718 - roc_auc: 0.518 - ETA: 5:43 - loss: 0.5482 - roc_auc: 0.525 - ETA: 5:26 - loss: 0.5364 - roc_auc: 0.522 - ETA: 5:19 - loss: 0.5336 - roc_auc: 0.511 - ETA: 5:23 - loss: 0.5316 - roc_auc: 0.512 - ETA: 5:12 - loss: 0.5278 - roc_auc: 0.513 - ETA: 5:04 - loss: 0.5250 - roc_auc: 0.512 - ETA: 4:59 - loss: 0.5223 - roc_auc: 0.511 - ETA: 4:52 - loss: 0.5185 - roc_auc: 0.513 - ETA: 4:45 - loss: 0.5137 - roc_auc: 0.517 - ETA: 4:39 - loss: 0.5109 - roc_auc: 0.517 - ETA: 4:32 - loss: 0.5105 - roc_auc: 0.518 - ETA: 4:26 - loss: 0.5102 - roc_auc: 0.516 - ETA: 4:21 - loss: 0.5092 - roc_auc: 0.514 - ETA: 4:15 - loss: 0.5052 - roc_auc: 0.516 - ETA: 4:09 - loss: 0.5045 - roc_auc: 0.519 - ETA: 4:04 - loss: 0.5031 - roc_auc: 0.521 - ETA: 3:59 - loss: 0.5009 - roc_auc: 0.521 - ETA: 3:54 - loss: 0.5000 - roc_auc: 0.521 - ETA: 3:49 - loss: 0.4988 - roc_auc: 0.522 - ETA: 3:45 - loss: 0.4970 - roc_auc: 0.525 - ETA: 3:40 - loss: 0.4962 - roc_auc: 0.524 - ETA: 3:35 - loss: 0.4952 - roc_auc: 0.524 - ETA: 3:29 - loss: 0.4935 - roc_auc: 0.526 - ETA: 3:25 - loss: 0.4928 - roc_auc: 0.525 - ETA: 3:20 - loss: 0.4931 - roc_auc: 0.526 - ETA: 3:15 - loss: 0.4928 - roc_auc: 0.526 - ETA: 3:09 - loss: 0.4909 - roc_auc: 0.528 - ETA: 3:04 - loss: 0.4894 - roc_auc: 0.532 - ETA: 2:59 - loss: 0.4887 - roc_auc: 0.534 - ETA: 2:54 - loss: 0.4877 - roc_auc: 0.536 - ETA: 2:49 - loss: 0.4868 - roc_auc: 0.538 - ETA: 2:44 - loss: 0.4860 - roc_auc: 0.539 - ETA: 2:39 - loss: 0.4843 - roc_auc: 0.540 - ETA: 2:34 - loss: 0.4841 - roc_auc: 0.541 - ETA: 2:29 - loss: 0.4837 - roc_auc: 0.543 - ETA: 2:24 - loss: 0.4829 - roc_auc: 0.545 - ETA: 2:19 - loss: 0.4817 - roc_auc: 0.547 - ETA: 2:15 - loss: 0.4802 - roc_auc: 0.550 - ETA: 2:10 - loss: 0.4803 - roc_auc: 0.551 - ETA: 2:05 - loss: 0.4794 - roc_auc: 0.552 - ETA: 2:00 - loss: 0.4787 - roc_auc: 0.553 - ETA: 1:55 - loss: 0.4774 - roc_auc: 0.555 - ETA: 1:50 - loss: 0.4764 - roc_auc: 0.557 - ETA: 1:45 - loss: 0.4751 - roc_auc: 0.559 - ETA: 1:40 - loss: 0.4750 - roc_auc: 0.559 - ETA: 1:35 - loss: 0.4743 - roc_auc: 0.561 - ETA: 1:30 - loss: 0.4744 - roc_auc: 0.561 - ETA: 1:26 - loss: 0.4734 - roc_auc: 0.562 - ETA: 1:21 - loss: 0.4729 - roc_auc: 0.563 - ETA: 1:16 - loss: 0.4723 - roc_auc: 0.564 - ETA: 1:11 - loss: 0.4717 - roc_auc: 0.566 - ETA: 1:06 - loss: 0.4709 - roc_auc: 0.567 - ETA: 1:01 - loss: 0.4701 - roc_auc: 0.569 - ETA: 56s - loss: 0.4694 - roc_auc: 0.570 - ETA: 51s - loss: 0.4684 - roc_auc: 0.57 - ETA: 46s - loss: 0.4685 - roc_auc: 0.57 - ETA: 41s - loss: 0.4682 - roc_auc: 0.57 - ETA: 36s - loss: 0.4674 - roc_auc: 0.57 - ETA: 31s - loss: 0.4662 - roc_auc: 0.57 - ETA: 26s - loss: 0.4657 - roc_auc: 0.57 - ETA: 21s - loss: 0.4652 - roc_auc: 0.57 - ETA: 16s - loss: 0.4645 - roc_auc: 0.57 - ETA: 11s - loss: 0.4642 - roc_auc: 0.57 - ETA: 6s - loss: 0.4639 - roc_auc: 0.5798 - ETA: 1s - loss: 0.4635 - roc_auc: 0.580 - 400s 6ms/step - loss: 0.4634 - roc_auc: 0.5813 - val_loss: 0.3907 - val_roc_auc: 0.7212\n",
      "\n",
      "Epoch 00001: val_roc_auc improved from -inf to 0.72119, saving model to weights_best.hdf5\n",
      "Epoch 2/10\n",
      "69918/69918 [==============================] - ETA: 5:38 - loss: 0.4490 - roc_auc: 0.593 - ETA: 5:51 - loss: 0.4414 - roc_auc: 0.624 - ETA: 5:40 - loss: 0.4385 - roc_auc: 0.632 - ETA: 5:31 - loss: 0.4340 - roc_auc: 0.639 - ETA: 5:24 - loss: 0.4313 - roc_auc: 0.640 - ETA: 5:16 - loss: 0.4306 - roc_auc: 0.641 - ETA: 5:10 - loss: 0.4236 - roc_auc: 0.645 - ETA: 5:03 - loss: 0.4241 - roc_auc: 0.643 - ETA: 4:59 - loss: 0.4288 - roc_auc: 0.644 - ETA: 4:53 - loss: 0.4347 - roc_auc: 0.641 - ETA: 4:48 - loss: 0.4375 - roc_auc: 0.641 - ETA: 4:44 - loss: 0.4403 - roc_auc: 0.643 - ETA: 4:39 - loss: 0.4415 - roc_auc: 0.644 - ETA: 4:36 - loss: 0.4435 - roc_auc: 0.643 - ETA: 4:32 - loss: 0.4435 - roc_auc: 0.644 - ETA: 4:27 - loss: 0.4429 - roc_auc: 0.647 - ETA: 4:23 - loss: 0.4420 - roc_auc: 0.646 - ETA: 4:17 - loss: 0.4425 - roc_auc: 0.649 - ETA: 4:12 - loss: 0.4405 - roc_auc: 0.649 - ETA: 4:07 - loss: 0.4424 - roc_auc: 0.646 - ETA: 4:02 - loss: 0.4423 - roc_auc: 0.646 - ETA: 3:56 - loss: 0.4426 - roc_auc: 0.646 - ETA: 3:51 - loss: 0.4424 - roc_auc: 0.645 - ETA: 3:45 - loss: 0.4420 - roc_auc: 0.645 - ETA: 3:41 - loss: 0.4412 - roc_auc: 0.645 - ETA: 3:36 - loss: 0.4404 - roc_auc: 0.645 - ETA: 3:31 - loss: 0.4392 - roc_auc: 0.646 - ETA: 3:26 - loss: 0.4389 - roc_auc: 0.648 - ETA: 3:21 - loss: 0.4380 - roc_auc: 0.648 - ETA: 3:16 - loss: 0.4377 - roc_auc: 0.647 - ETA: 3:10 - loss: 0.4375 - roc_auc: 0.647 - ETA: 3:05 - loss: 0.4371 - roc_auc: 0.646 - ETA: 3:00 - loss: 0.4374 - roc_auc: 0.647 - ETA: 2:54 - loss: 0.4383 - roc_auc: 0.646 - ETA: 2:49 - loss: 0.4384 - roc_auc: 0.646 - ETA: 2:44 - loss: 0.4381 - roc_auc: 0.646 - ETA: 2:39 - loss: 0.4384 - roc_auc: 0.647 - ETA: 2:34 - loss: 0.4385 - roc_auc: 0.647 - ETA: 2:29 - loss: 0.4380 - roc_auc: 0.647 - ETA: 2:24 - loss: 0.4379 - roc_auc: 0.648 - ETA: 2:18 - loss: 0.4370 - roc_auc: 0.648 - ETA: 2:14 - loss: 0.4363 - roc_auc: 0.650 - ETA: 2:08 - loss: 0.4355 - roc_auc: 0.650 - ETA: 2:03 - loss: 0.4351 - roc_auc: 0.651 - ETA: 1:58 - loss: 0.4352 - roc_auc: 0.651 - ETA: 1:53 - loss: 0.4346 - roc_auc: 0.651 - ETA: 1:48 - loss: 0.4343 - roc_auc: 0.652 - ETA: 1:43 - loss: 0.4353 - roc_auc: 0.651 - ETA: 1:38 - loss: 0.4348 - roc_auc: 0.651 - ETA: 1:33 - loss: 0.4345 - roc_auc: 0.652 - ETA: 1:28 - loss: 0.4344 - roc_auc: 0.652 - ETA: 1:22 - loss: 0.4340 - roc_auc: 0.653 - ETA: 1:17 - loss: 0.4340 - roc_auc: 0.653 - ETA: 1:12 - loss: 0.4338 - roc_auc: 0.653 - ETA: 1:07 - loss: 0.4334 - roc_auc: 0.653 - ETA: 1:02 - loss: 0.4334 - roc_auc: 0.654 - ETA: 57s - loss: 0.4330 - roc_auc: 0.655 - ETA: 52s - loss: 0.4332 - roc_auc: 0.65 - ETA: 47s - loss: 0.4328 - roc_auc: 0.65 - ETA: 42s - loss: 0.4318 - roc_auc: 0.65 - ETA: 37s - loss: 0.4311 - roc_auc: 0.65 - ETA: 32s - loss: 0.4310 - roc_auc: 0.65 - ETA: 27s - loss: 0.4301 - roc_auc: 0.65 - ETA: 22s - loss: 0.4307 - roc_auc: 0.65 - ETA: 17s - loss: 0.4304 - roc_auc: 0.65 - ETA: 11s - loss: 0.4305 - roc_auc: 0.65 - ETA: 6s - loss: 0.4303 - roc_auc: 0.6588 - ETA: 1s - loss: 0.4302 - roc_auc: 0.659 - 407s 6ms/step - loss: 0.4301 - roc_auc: 0.6591 - val_loss: 0.3856 - val_roc_auc: 0.7309\n",
      "\n",
      "Epoch 00002: val_roc_auc improved from 0.72119 to 0.73091, saving model to weights_best.hdf5\n",
      "Epoch 3/10\n",
      "69918/69918 [==============================] - ETA: 6:04 - loss: 0.4189 - roc_auc: 0.696 - ETA: 6:11 - loss: 0.4158 - roc_auc: 0.698 - ETA: 6:14 - loss: 0.4168 - roc_auc: 0.693 - ETA: 6:14 - loss: 0.4149 - roc_auc: 0.687 - ETA: 6:04 - loss: 0.4167 - roc_auc: 0.682 - ETA: 5:54 - loss: 0.4168 - roc_auc: 0.684 - ETA: 5:48 - loss: 0.4194 - roc_auc: 0.681 - ETA: 5:44 - loss: 0.4210 - roc_auc: 0.685 - ETA: 5:39 - loss: 0.4209 - roc_auc: 0.681 - ETA: 5:34 - loss: 0.4208 - roc_auc: 0.679 - ETA: 5:28 - loss: 0.4198 - roc_auc: 0.678 - ETA: 5:24 - loss: 0.4180 - roc_auc: 0.680 - ETA: 5:18 - loss: 0.4154 - roc_auc: 0.680 - ETA: 5:14 - loss: 0.4156 - roc_auc: 0.683 - ETA: 5:09 - loss: 0.4150 - roc_auc: 0.685 - ETA: 5:04 - loss: 0.4160 - roc_auc: 0.684 - ETA: 4:57 - loss: 0.4136 - roc_auc: 0.685 - ETA: 4:53 - loss: 0.4133 - roc_auc: 0.686 - ETA: 4:46 - loss: 0.4116 - roc_auc: 0.688 - ETA: 4:41 - loss: 0.4117 - roc_auc: 0.687 - ETA: 4:35 - loss: 0.4114 - roc_auc: 0.689 - ETA: 4:31 - loss: 0.4114 - roc_auc: 0.688 - ETA: 4:25 - loss: 0.4112 - roc_auc: 0.688 - ETA: 4:22 - loss: 0.4111 - roc_auc: 0.688 - ETA: 4:16 - loss: 0.4113 - roc_auc: 0.686 - ETA: 4:09 - loss: 0.4117 - roc_auc: 0.686 - ETA: 4:03 - loss: 0.4116 - roc_auc: 0.686 - ETA: 3:57 - loss: 0.4122 - roc_auc: 0.685 - ETA: 3:51 - loss: 0.4123 - roc_auc: 0.685 - ETA: 3:45 - loss: 0.4117 - roc_auc: 0.686 - ETA: 3:41 - loss: 0.4113 - roc_auc: 0.685 - ETA: 3:35 - loss: 0.4109 - roc_auc: 0.685 - ETA: 3:30 - loss: 0.4106 - roc_auc: 0.685 - ETA: 3:24 - loss: 0.4106 - roc_auc: 0.686 - ETA: 3:18 - loss: 0.4103 - roc_auc: 0.687 - ETA: 3:12 - loss: 0.4095 - roc_auc: 0.686 - ETA: 3:07 - loss: 0.4100 - roc_auc: 0.686 - ETA: 3:01 - loss: 0.4100 - roc_auc: 0.686 - ETA: 2:55 - loss: 0.4107 - roc_auc: 0.686 - ETA: 2:49 - loss: 0.4112 - roc_auc: 0.685 - ETA: 2:43 - loss: 0.4111 - roc_auc: 0.687 - ETA: 2:37 - loss: 0.4104 - roc_auc: 0.688 - ETA: 2:31 - loss: 0.4103 - roc_auc: 0.688 - ETA: 2:26 - loss: 0.4103 - roc_auc: 0.688 - ETA: 2:20 - loss: 0.4102 - roc_auc: 0.689 - ETA: 2:13 - loss: 0.4109 - roc_auc: 0.688 - ETA: 2:07 - loss: 0.4105 - roc_auc: 0.688 - ETA: 2:01 - loss: 0.4102 - roc_auc: 0.688 - ETA: 1:55 - loss: 0.4102 - roc_auc: 0.688 - ETA: 1:50 - loss: 0.4111 - roc_auc: 0.688 - ETA: 1:44 - loss: 0.4110 - roc_auc: 0.688 - ETA: 1:38 - loss: 0.4112 - roc_auc: 0.688 - ETA: 1:32 - loss: 0.4115 - roc_auc: 0.688 - ETA: 1:27 - loss: 0.4113 - roc_auc: 0.689 - ETA: 1:20 - loss: 0.4114 - roc_auc: 0.689 - ETA: 1:14 - loss: 0.4115 - roc_auc: 0.688 - ETA: 1:09 - loss: 0.4118 - roc_auc: 0.688 - ETA: 1:02 - loss: 0.4124 - roc_auc: 0.688 - ETA: 56s - loss: 0.4120 - roc_auc: 0.688 - ETA: 50s - loss: 0.4115 - roc_auc: 0.68 - ETA: 44s - loss: 0.4122 - roc_auc: 0.68 - ETA: 38s - loss: 0.4118 - roc_auc: 0.68 - ETA: 32s - loss: 0.4116 - roc_auc: 0.68 - ETA: 26s - loss: 0.4115 - roc_auc: 0.69 - ETA: 20s - loss: 0.4115 - roc_auc: 0.69 - ETA: 14s - loss: 0.4115 - roc_auc: 0.69 - ETA: 7s - loss: 0.4115 - roc_auc: 0.6909 - ETA: 1s - loss: 0.4120 - roc_auc: 0.690 - 472s 7ms/step - loss: 0.4122 - roc_auc: 0.6908 - val_loss: 0.3820 - val_roc_auc: 0.7361\n",
      "\n",
      "Epoch 00003: val_roc_auc improved from 0.73091 to 0.73612, saving model to weights_best.hdf5\n",
      "Epoch 4/10\n",
      "69918/69918 [==============================] - ETA: 7:47 - loss: 0.4019 - roc_auc: 0.692 - ETA: 7:21 - loss: 0.4000 - roc_auc: 0.709 - ETA: 6:44 - loss: 0.4052 - roc_auc: 0.702 - ETA: 6:39 - loss: 0.4098 - roc_auc: 0.696 - ETA: 6:22 - loss: 0.4125 - roc_auc: 0.697 - ETA: 6:16 - loss: 0.4113 - roc_auc: 0.699 - ETA: 6:08 - loss: 0.4075 - roc_auc: 0.698 - ETA: 5:57 - loss: 0.4081 - roc_auc: 0.698 - ETA: 5:50 - loss: 0.4082 - roc_auc: 0.699 - ETA: 5:43 - loss: 0.4052 - roc_auc: 0.701 - ETA: 5:39 - loss: 0.4038 - roc_auc: 0.699 - ETA: 5:31 - loss: 0.4037 - roc_auc: 0.700 - ETA: 5:25 - loss: 0.4036 - roc_auc: 0.700 - ETA: 5:20 - loss: 0.4020 - roc_auc: 0.703 - ETA: 5:17 - loss: 0.4020 - roc_auc: 0.702 - ETA: 5:10 - loss: 0.4010 - roc_auc: 0.705 - ETA: 5:05 - loss: 0.4016 - roc_auc: 0.704 - ETA: 5:00 - loss: 0.4021 - roc_auc: 0.703 - ETA: 4:55 - loss: 0.4029 - roc_auc: 0.702 - ETA: 4:51 - loss: 0.4032 - roc_auc: 0.702 - ETA: 4:46 - loss: 0.4039 - roc_auc: 0.700 - ETA: 4:39 - loss: 0.4044 - roc_auc: 0.700 - ETA: 4:32 - loss: 0.4053 - roc_auc: 0.700 - ETA: 4:26 - loss: 0.4050 - roc_auc: 0.701 - ETA: 4:19 - loss: 0.4049 - roc_auc: 0.701 - ETA: 4:13 - loss: 0.4048 - roc_auc: 0.703 - ETA: 4:07 - loss: 0.4039 - roc_auc: 0.704 - ETA: 4:01 - loss: 0.4038 - roc_auc: 0.705 - ETA: 3:56 - loss: 0.4025 - roc_auc: 0.707 - ETA: 3:50 - loss: 0.4034 - roc_auc: 0.707 - ETA: 3:44 - loss: 0.4025 - roc_auc: 0.708 - ETA: 3:37 - loss: 0.4009 - roc_auc: 0.709 - ETA: 3:31 - loss: 0.4018 - roc_auc: 0.708 - ETA: 3:25 - loss: 0.4020 - roc_auc: 0.707 - ETA: 3:19 - loss: 0.4019 - roc_auc: 0.708 - ETA: 3:13 - loss: 0.4013 - roc_auc: 0.709 - ETA: 3:07 - loss: 0.4013 - roc_auc: 0.710 - ETA: 3:01 - loss: 0.4013 - roc_auc: 0.710 - ETA: 2:55 - loss: 0.4003 - roc_auc: 0.711 - ETA: 2:49 - loss: 0.3996 - roc_auc: 0.712 - ETA: 2:43 - loss: 0.3992 - roc_auc: 0.712 - ETA: 2:36 - loss: 0.3985 - roc_auc: 0.712 - ETA: 2:30 - loss: 0.3989 - roc_auc: 0.713 - ETA: 2:24 - loss: 0.3983 - roc_auc: 0.713 - ETA: 2:19 - loss: 0.3979 - roc_auc: 0.714 - ETA: 2:13 - loss: 0.3976 - roc_auc: 0.714 - ETA: 2:07 - loss: 0.3978 - roc_auc: 0.714 - ETA: 2:01 - loss: 0.3977 - roc_auc: 0.715 - ETA: 1:55 - loss: 0.3976 - roc_auc: 0.714 - ETA: 1:49 - loss: 0.3974 - roc_auc: 0.715 - ETA: 1:43 - loss: 0.3966 - roc_auc: 0.716 - ETA: 1:37 - loss: 0.3969 - roc_auc: 0.716 - ETA: 1:31 - loss: 0.3967 - roc_auc: 0.716 - ETA: 1:25 - loss: 0.3971 - roc_auc: 0.716 - ETA: 1:19 - loss: 0.3964 - roc_auc: 0.716 - ETA: 1:13 - loss: 0.3961 - roc_auc: 0.716 - ETA: 1:07 - loss: 0.3961 - roc_auc: 0.716 - ETA: 1:02 - loss: 0.3961 - roc_auc: 0.717 - ETA: 56s - loss: 0.3961 - roc_auc: 0.718 - ETA: 50s - loss: 0.3967 - roc_auc: 0.71 - ETA: 44s - loss: 0.3964 - roc_auc: 0.71 - ETA: 38s - loss: 0.3963 - roc_auc: 0.71 - ETA: 32s - loss: 0.3960 - roc_auc: 0.71 - ETA: 26s - loss: 0.3961 - roc_auc: 0.71 - ETA: 19s - loss: 0.3958 - roc_auc: 0.71 - ETA: 13s - loss: 0.3965 - roc_auc: 0.71 - ETA: 7s - loss: 0.3971 - roc_auc: 0.7175 - ETA: 1s - loss: 0.3968 - roc_auc: 0.717 - 468s 7ms/step - loss: 0.3968 - roc_auc: 0.7177 - val_loss: 0.3848 - val_roc_auc: 0.7336\n",
      "\n",
      "Epoch 00004: val_roc_auc did not improve from 0.73612\n",
      "Epoch 5/10\n"
     ]
    },
    {
     "name": "stdout",
     "output_type": "stream",
     "text": [
      "69918/69918 [==============================] - ETA: 7:26 - loss: 0.3734 - roc_auc: 0.736 - ETA: 7:07 - loss: 0.3825 - roc_auc: 0.739 - ETA: 6:53 - loss: 0.3943 - roc_auc: 0.725 - ETA: 6:47 - loss: 0.3895 - roc_auc: 0.729 - ETA: 6:56 - loss: 0.3914 - roc_auc: 0.731 - ETA: 6:50 - loss: 0.3960 - roc_auc: 0.729 - ETA: 6:45 - loss: 0.3987 - roc_auc: 0.727 - ETA: 6:39 - loss: 0.3994 - roc_auc: 0.729 - ETA: 6:35 - loss: 0.4012 - roc_auc: 0.723 - ETA: 6:33 - loss: 0.3992 - roc_auc: 0.724 - ETA: 6:31 - loss: 0.3984 - roc_auc: 0.723 - ETA: 6:30 - loss: 0.3983 - roc_auc: 0.724 - ETA: 6:27 - loss: 0.3992 - roc_auc: 0.721 - ETA: 6:20 - loss: 0.3979 - roc_auc: 0.719 - ETA: 6:14 - loss: 0.3983 - roc_auc: 0.721 - ETA: 6:05 - loss: 0.3963 - roc_auc: 0.723 - ETA: 5:58 - loss: 0.3946 - roc_auc: 0.724 - ETA: 5:51 - loss: 0.3933 - roc_auc: 0.726 - ETA: 5:44 - loss: 0.3944 - roc_auc: 0.725 - ETA: 5:36 - loss: 0.3951 - roc_auc: 0.724 - ETA: 5:30 - loss: 0.3942 - roc_auc: 0.725 - ETA: 5:26 - loss: 0.3929 - roc_auc: 0.725 - ETA: 5:21 - loss: 0.3916 - roc_auc: 0.726 - ETA: 5:17 - loss: 0.3900 - roc_auc: 0.726 - ETA: 5:09 - loss: 0.3898 - roc_auc: 0.727 - ETA: 5:02 - loss: 0.3906 - roc_auc: 0.726 - ETA: 4:56 - loss: 0.3892 - roc_auc: 0.726 - ETA: 4:50 - loss: 0.3909 - roc_auc: 0.725 - ETA: 4:42 - loss: 0.3907 - roc_auc: 0.724 - ETA: 4:34 - loss: 0.3905 - roc_auc: 0.725 - ETA: 4:26 - loss: 0.3901 - roc_auc: 0.726 - ETA: 4:17 - loss: 0.3895 - roc_auc: 0.727 - ETA: 4:09 - loss: 0.3887 - roc_auc: 0.727 - ETA: 4:02 - loss: 0.3888 - roc_auc: 0.728 - ETA: 3:54 - loss: 0.3872 - roc_auc: 0.729 - ETA: 3:45 - loss: 0.3881 - roc_auc: 0.729 - ETA: 3:38 - loss: 0.3890 - roc_auc: 0.728 - ETA: 3:30 - loss: 0.3885 - roc_auc: 0.729 - ETA: 3:23 - loss: 0.3882 - roc_auc: 0.730 - ETA: 3:16 - loss: 0.3882 - roc_auc: 0.729 - ETA: 3:09 - loss: 0.3880 - roc_auc: 0.729 - ETA: 3:02 - loss: 0.3874 - roc_auc: 0.729 - ETA: 2:56 - loss: 0.3876 - roc_auc: 0.729 - ETA: 2:50 - loss: 0.3879 - roc_auc: 0.728 - ETA: 2:44 - loss: 0.3880 - roc_auc: 0.728 - ETA: 2:37 - loss: 0.3879 - roc_auc: 0.729 - ETA: 2:30 - loss: 0.3878 - roc_auc: 0.730 - ETA: 2:22 - loss: 0.3877 - roc_auc: 0.730 - ETA: 2:16 - loss: 0.3883 - roc_auc: 0.730 - ETA: 2:08 - loss: 0.3879 - roc_auc: 0.731 - ETA: 2:01 - loss: 0.3881 - roc_auc: 0.731 - ETA: 1:54 - loss: 0.3883 - roc_auc: 0.731 - ETA: 1:47 - loss: 0.3875 - roc_auc: 0.731 - ETA: 1:40 - loss: 0.3874 - roc_auc: 0.732 - ETA: 1:33 - loss: 0.3879 - roc_auc: 0.731 - ETA: 1:26 - loss: 0.3885 - roc_auc: 0.731 - ETA: 1:19 - loss: 0.3885 - roc_auc: 0.731 - ETA: 1:12 - loss: 0.3888 - roc_auc: 0.732 - ETA: 1:04 - loss: 0.3892 - roc_auc: 0.731 - ETA: 57s - loss: 0.3893 - roc_auc: 0.732 - ETA: 50s - loss: 0.3888 - roc_auc: 0.73 - ETA: 43s - loss: 0.3886 - roc_auc: 0.73 - ETA: 36s - loss: 0.3889 - roc_auc: 0.73 - ETA: 30s - loss: 0.3892 - roc_auc: 0.73 - ETA: 23s - loss: 0.3895 - roc_auc: 0.73 - ETA: 16s - loss: 0.3894 - roc_auc: 0.73 - ETA: 9s - loss: 0.3899 - roc_auc: 0.7327 - ETA: 1s - loss: 0.3898 - roc_auc: 0.733 - 542s 8ms/step - loss: 0.3898 - roc_auc: 0.7329 - val_loss: 0.3853 - val_roc_auc: 0.7324\n",
      "\n",
      "Epoch 00005: val_roc_auc did not improve from 0.73612\n",
      "Epoch 6/10\n",
      "69918/69918 [==============================] - ETA: 7:50 - loss: 0.3892 - roc_auc: 0.772 - ETA: 8:22 - loss: 0.3791 - roc_auc: 0.773 - ETA: 8:42 - loss: 0.3932 - roc_auc: 0.757 - ETA: 8:11 - loss: 0.3954 - roc_auc: 0.745 - ETA: 8:11 - loss: 0.3923 - roc_auc: 0.743 - ETA: 7:55 - loss: 0.3928 - roc_auc: 0.748 - ETA: 7:45 - loss: 0.3922 - roc_auc: 0.749 - ETA: 7:33 - loss: 0.3885 - roc_auc: 0.751 - ETA: 7:19 - loss: 0.3882 - roc_auc: 0.751 - ETA: 7:04 - loss: 0.3849 - roc_auc: 0.751 - ETA: 7:00 - loss: 0.3829 - roc_auc: 0.752 - ETA: 6:54 - loss: 0.3815 - roc_auc: 0.751 - ETA: 6:53 - loss: 0.3815 - roc_auc: 0.748 - ETA: 6:48 - loss: 0.3804 - roc_auc: 0.750 - ETA: 6:43 - loss: 0.3803 - roc_auc: 0.750 - ETA: 6:32 - loss: 0.3820 - roc_auc: 0.748 - ETA: 6:23 - loss: 0.3819 - roc_auc: 0.750 - ETA: 6:18 - loss: 0.3818 - roc_auc: 0.751 - ETA: 6:12 - loss: 0.3818 - roc_auc: 0.752 - ETA: 6:06 - loss: 0.3808 - roc_auc: 0.752 - ETA: 6:02 - loss: 0.3802 - roc_auc: 0.751 - ETA: 5:54 - loss: 0.3814 - roc_auc: 0.749 - ETA: 5:46 - loss: 0.3814 - roc_auc: 0.749 - ETA: 5:38 - loss: 0.3831 - roc_auc: 0.748 - ETA: 5:28 - loss: 0.3821 - roc_auc: 0.749 - ETA: 5:20 - loss: 0.3821 - roc_auc: 0.750 - ETA: 5:12 - loss: 0.3821 - roc_auc: 0.750 - ETA: 5:05 - loss: 0.3821 - roc_auc: 0.751 - ETA: 5:00 - loss: 0.3822 - roc_auc: 0.751 - ETA: 4:53 - loss: 0.3816 - roc_auc: 0.752 - ETA: 4:46 - loss: 0.3813 - roc_auc: 0.752 - ETA: 4:39 - loss: 0.3807 - roc_auc: 0.752 - ETA: 4:32 - loss: 0.3811 - roc_auc: 0.752 - ETA: 4:25 - loss: 0.3800 - roc_auc: 0.752 - ETA: 4:17 - loss: 0.3802 - roc_auc: 0.752 - ETA: 4:09 - loss: 0.3798 - roc_auc: 0.752 - ETA: 4:01 - loss: 0.3796 - roc_auc: 0.752 - ETA: 3:53 - loss: 0.3795 - roc_auc: 0.752 - ETA: 3:46 - loss: 0.3795 - roc_auc: 0.752 - ETA: 3:39 - loss: 0.3790 - roc_auc: 0.752 - ETA: 3:32 - loss: 0.3803 - roc_auc: 0.751 - ETA: 3:25 - loss: 0.3797 - roc_auc: 0.752 - ETA: 3:19 - loss: 0.3791 - roc_auc: 0.752 - ETA: 3:12 - loss: 0.3795 - roc_auc: 0.751 - ETA: 3:04 - loss: 0.3798 - roc_auc: 0.751 - ETA: 2:56 - loss: 0.3801 - roc_auc: 0.751 - ETA: 2:48 - loss: 0.3806 - roc_auc: 0.750 - ETA: 2:39 - loss: 0.3804 - roc_auc: 0.751 - ETA: 2:30 - loss: 0.3805 - roc_auc: 0.750 - ETA: 2:22 - loss: 0.3799 - roc_auc: 0.751 - ETA: 2:14 - loss: 0.3799 - roc_auc: 0.751 - ETA: 2:05 - loss: 0.3800 - roc_auc: 0.751 - ETA: 1:57 - loss: 0.3796 - roc_auc: 0.751 - ETA: 1:49 - loss: 0.3800 - roc_auc: 0.751 - ETA: 1:41 - loss: 0.3794 - roc_auc: 0.751 - ETA: 1:33 - loss: 0.3788 - roc_auc: 0.752 - ETA: 1:25 - loss: 0.3784 - roc_auc: 0.752 - ETA: 1:18 - loss: 0.3785 - roc_auc: 0.752 - ETA: 1:10 - loss: 0.3786 - roc_auc: 0.752 - ETA: 1:02 - loss: 0.3786 - roc_auc: 0.752 - ETA: 55s - loss: 0.3793 - roc_auc: 0.751 - ETA: 47s - loss: 0.3796 - roc_auc: 0.75 - ETA: 39s - loss: 0.3796 - roc_auc: 0.75 - ETA: 32s - loss: 0.3800 - roc_auc: 0.75 - ETA: 24s - loss: 0.3801 - roc_auc: 0.75 - ETA: 17s - loss: 0.3803 - roc_auc: 0.75 - ETA: 9s - loss: 0.3808 - roc_auc: 0.7514 - ETA: 2s - loss: 0.3808 - roc_auc: 0.751 - 554s 8ms/step - loss: 0.3806 - roc_auc: 0.7514 - val_loss: 0.3863 - val_roc_auc: 0.7327\n",
      "\n",
      "Epoch 00006: val_roc_auc did not improve from 0.73612\n",
      "Epoch 7/10\n",
      "69918/69918 [==============================] - ETA: 6:39 - loss: 0.4008 - roc_auc: 0.726 - ETA: 6:41 - loss: 0.3919 - roc_auc: 0.744 - ETA: 7:06 - loss: 0.3860 - roc_auc: 0.747 - ETA: 7:16 - loss: 0.3797 - roc_auc: 0.756 - ETA: 7:17 - loss: 0.3823 - roc_auc: 0.757 - ETA: 7:13 - loss: 0.3789 - roc_auc: 0.759 - ETA: 7:12 - loss: 0.3744 - roc_auc: 0.763 - ETA: 7:00 - loss: 0.3764 - roc_auc: 0.759 - ETA: 6:48 - loss: 0.3744 - roc_auc: 0.763 - ETA: 6:39 - loss: 0.3730 - roc_auc: 0.764 - ETA: 6:28 - loss: 0.3725 - roc_auc: 0.767 - ETA: 6:27 - loss: 0.3721 - roc_auc: 0.767 - ETA: 6:22 - loss: 0.3726 - roc_auc: 0.764 - ETA: 6:11 - loss: 0.3736 - roc_auc: 0.765 - ETA: 6:03 - loss: 0.3732 - roc_auc: 0.766 - ETA: 5:55 - loss: 0.3726 - roc_auc: 0.765 - ETA: 5:47 - loss: 0.3736 - roc_auc: 0.766 - ETA: 5:38 - loss: 0.3728 - roc_auc: 0.767 - ETA: 5:34 - loss: 0.3716 - roc_auc: 0.768 - ETA: 5:26 - loss: 0.3720 - roc_auc: 0.769 - ETA: 5:19 - loss: 0.3725 - roc_auc: 0.769 - ETA: 5:11 - loss: 0.3723 - roc_auc: 0.770 - ETA: 5:03 - loss: 0.3730 - roc_auc: 0.770 - ETA: 4:55 - loss: 0.3734 - roc_auc: 0.769 - ETA: 4:48 - loss: 0.3727 - roc_auc: 0.770 - ETA: 4:40 - loss: 0.3727 - roc_auc: 0.771 - ETA: 4:33 - loss: 0.3735 - roc_auc: 0.771 - ETA: 4:25 - loss: 0.3729 - roc_auc: 0.772 - ETA: 4:18 - loss: 0.3743 - roc_auc: 0.771 - ETA: 4:11 - loss: 0.3735 - roc_auc: 0.772 - ETA: 4:05 - loss: 0.3735 - roc_auc: 0.772 - ETA: 3:58 - loss: 0.3731 - roc_auc: 0.773 - ETA: 3:51 - loss: 0.3722 - roc_auc: 0.773 - ETA: 3:44 - loss: 0.3721 - roc_auc: 0.773 - ETA: 3:37 - loss: 0.3729 - roc_auc: 0.772 - ETA: 3:30 - loss: 0.3715 - roc_auc: 0.773 - ETA: 3:24 - loss: 0.3715 - roc_auc: 0.772 - ETA: 3:17 - loss: 0.3718 - roc_auc: 0.772 - ETA: 3:10 - loss: 0.3715 - roc_auc: 0.772 - ETA: 3:04 - loss: 0.3709 - roc_auc: 0.773 - ETA: 2:57 - loss: 0.3712 - roc_auc: 0.772 - ETA: 2:50 - loss: 0.3709 - roc_auc: 0.773 - ETA: 2:44 - loss: 0.3715 - roc_auc: 0.772 - ETA: 2:38 - loss: 0.3714 - roc_auc: 0.772 - ETA: 2:32 - loss: 0.3718 - roc_auc: 0.772 - ETA: 2:27 - loss: 0.3718 - roc_auc: 0.772 - ETA: 2:20 - loss: 0.3714 - roc_auc: 0.772 - ETA: 2:15 - loss: 0.3719 - roc_auc: 0.772 - ETA: 2:08 - loss: 0.3716 - roc_auc: 0.772 - ETA: 2:02 - loss: 0.3709 - roc_auc: 0.773 - ETA: 1:55 - loss: 0.3710 - roc_auc: 0.772 - ETA: 1:48 - loss: 0.3711 - roc_auc: 0.772 - ETA: 1:42 - loss: 0.3711 - roc_auc: 0.771 - ETA: 1:35 - loss: 0.3710 - roc_auc: 0.771 - ETA: 1:28 - loss: 0.3706 - roc_auc: 0.772 - ETA: 1:21 - loss: 0.3710 - roc_auc: 0.772 - ETA: 1:15 - loss: 0.3708 - roc_auc: 0.772 - ETA: 1:08 - loss: 0.3701 - roc_auc: 0.772 - ETA: 1:01 - loss: 0.3703 - roc_auc: 0.772 - ETA: 55s - loss: 0.3702 - roc_auc: 0.772 - ETA: 48s - loss: 0.3698 - roc_auc: 0.77 - ETA: 41s - loss: 0.3699 - roc_auc: 0.77 - ETA: 35s - loss: 0.3698 - roc_auc: 0.77 - ETA: 28s - loss: 0.3700 - roc_auc: 0.77 - ETA: 21s - loss: 0.3699 - roc_auc: 0.77 - ETA: 15s - loss: 0.3700 - roc_auc: 0.77 - ETA: 8s - loss: 0.3698 - roc_auc: 0.7709 - ETA: 1s - loss: 0.3702 - roc_auc: 0.770 - 502s 7ms/step - loss: 0.3704 - roc_auc: 0.7703 - val_loss: 0.3936 - val_roc_auc: 0.7214\n",
      "\n",
      "Epoch 00007: val_roc_auc did not improve from 0.73612\n",
      "Epoch 8/10\n",
      "69918/69918 [==============================] - ETA: 7:01 - loss: 0.3861 - roc_auc: 0.770 - ETA: 6:51 - loss: 0.3641 - roc_auc: 0.792 - ETA: 6:52 - loss: 0.3651 - roc_auc: 0.793 - ETA: 6:46 - loss: 0.3729 - roc_auc: 0.791 - ETA: 6:39 - loss: 0.3658 - roc_auc: 0.792 - ETA: 6:46 - loss: 0.3586 - roc_auc: 0.795 - ETA: 6:47 - loss: 0.3599 - roc_auc: 0.796 - ETA: 6:43 - loss: 0.3599 - roc_auc: 0.795 - ETA: 6:46 - loss: 0.3583 - roc_auc: 0.798 - ETA: 6:36 - loss: 0.3561 - roc_auc: 0.800 - ETA: 6:27 - loss: 0.3571 - roc_auc: 0.799 - ETA: 6:20 - loss: 0.3575 - roc_auc: 0.796 - ETA: 6:11 - loss: 0.3544 - roc_auc: 0.796 - ETA: 6:03 - loss: 0.3558 - roc_auc: 0.794 - ETA: 5:55 - loss: 0.3562 - roc_auc: 0.794 - ETA: 5:47 - loss: 0.3572 - roc_auc: 0.794 - ETA: 5:41 - loss: 0.3578 - roc_auc: 0.793 - ETA: 5:35 - loss: 0.3580 - roc_auc: 0.793 - ETA: 5:28 - loss: 0.3593 - roc_auc: 0.792 - ETA: 5:20 - loss: 0.3578 - roc_auc: 0.792 - ETA: 5:12 - loss: 0.3579 - roc_auc: 0.790 - ETA: 5:05 - loss: 0.3583 - roc_auc: 0.789 - ETA: 4:57 - loss: 0.3576 - roc_auc: 0.790 - ETA: 4:51 - loss: 0.3573 - roc_auc: 0.790 - ETA: 4:44 - loss: 0.3569 - roc_auc: 0.790 - ETA: 4:37 - loss: 0.3568 - roc_auc: 0.790 - ETA: 4:30 - loss: 0.3572 - roc_auc: 0.790 - ETA: 4:23 - loss: 0.3577 - roc_auc: 0.790 - ETA: 4:16 - loss: 0.3581 - roc_auc: 0.790 - ETA: 4:09 - loss: 0.3587 - roc_auc: 0.789 - ETA: 4:02 - loss: 0.3590 - roc_auc: 0.787 - ETA: 3:56 - loss: 0.3595 - roc_auc: 0.787 - ETA: 3:49 - loss: 0.3591 - roc_auc: 0.787 - ETA: 3:44 - loss: 0.3597 - roc_auc: 0.788 - ETA: 3:37 - loss: 0.3591 - roc_auc: 0.789 - ETA: 3:30 - loss: 0.3588 - roc_auc: 0.789 - ETA: 3:23 - loss: 0.3597 - roc_auc: 0.789 - ETA: 3:18 - loss: 0.3602 - roc_auc: 0.788 - ETA: 3:12 - loss: 0.3610 - roc_auc: 0.788 - ETA: 3:05 - loss: 0.3617 - roc_auc: 0.787 - ETA: 2:58 - loss: 0.3622 - roc_auc: 0.787 - ETA: 2:52 - loss: 0.3618 - roc_auc: 0.787 - ETA: 2:45 - loss: 0.3612 - roc_auc: 0.787 - ETA: 2:38 - loss: 0.3617 - roc_auc: 0.787 - ETA: 2:32 - loss: 0.3619 - roc_auc: 0.787 - ETA: 2:26 - loss: 0.3616 - roc_auc: 0.787 - ETA: 2:20 - loss: 0.3612 - roc_auc: 0.787 - ETA: 2:13 - loss: 0.3624 - roc_auc: 0.786 - ETA: 2:07 - loss: 0.3620 - roc_auc: 0.787 - ETA: 2:00 - loss: 0.3620 - roc_auc: 0.786 - ETA: 1:54 - loss: 0.3622 - roc_auc: 0.786 - ETA: 1:47 - loss: 0.3618 - roc_auc: 0.787 - ETA: 1:41 - loss: 0.3622 - roc_auc: 0.786 - ETA: 1:34 - loss: 0.3621 - roc_auc: 0.786 - ETA: 1:28 - loss: 0.3622 - roc_auc: 0.786 - ETA: 1:21 - loss: 0.3623 - roc_auc: 0.786 - ETA: 1:14 - loss: 0.3621 - roc_auc: 0.786 - ETA: 1:08 - loss: 0.3624 - roc_auc: 0.786 - ETA: 1:01 - loss: 0.3624 - roc_auc: 0.786 - ETA: 55s - loss: 0.3622 - roc_auc: 0.787 - ETA: 48s - loss: 0.3623 - roc_auc: 0.78 - ETA: 41s - loss: 0.3617 - roc_auc: 0.78 - ETA: 35s - loss: 0.3616 - roc_auc: 0.78 - ETA: 28s - loss: 0.3615 - roc_auc: 0.78 - ETA: 21s - loss: 0.3619 - roc_auc: 0.78 - ETA: 15s - loss: 0.3623 - roc_auc: 0.78 - ETA: 8s - loss: 0.3626 - roc_auc: 0.7870 - ETA: 1s - loss: 0.3625 - roc_auc: 0.787 - 500s 7ms/step - loss: 0.3623 - roc_auc: 0.7871 - val_loss: 0.3972 - val_roc_auc: 0.7206\n",
      "\n",
      "Epoch 00008: val_roc_auc did not improve from 0.73612\n",
      "Epoch 9/10\n"
     ]
    },
    {
     "name": "stdout",
     "output_type": "stream",
     "text": [
      "69918/69918 [==============================] - ETA: 6:58 - loss: 0.3156 - roc_auc: 0.813 - ETA: 6:47 - loss: 0.3246 - roc_auc: 0.808 - ETA: 6:41 - loss: 0.3450 - roc_auc: 0.798 - ETA: 6:35 - loss: 0.3522 - roc_auc: 0.795 - ETA: 6:29 - loss: 0.3485 - roc_auc: 0.798 - ETA: 6:30 - loss: 0.3490 - roc_auc: 0.799 - ETA: 6:24 - loss: 0.3518 - roc_auc: 0.804 - ETA: 6:22 - loss: 0.3525 - roc_auc: 0.804 - ETA: 6:20 - loss: 0.3510 - roc_auc: 0.804 - ETA: 6:14 - loss: 0.3541 - roc_auc: 0.802 - ETA: 6:12 - loss: 0.3528 - roc_auc: 0.802 - ETA: 6:14 - loss: 0.3536 - roc_auc: 0.803 - ETA: 6:08 - loss: 0.3523 - roc_auc: 0.804 - ETA: 6:03 - loss: 0.3545 - roc_auc: 0.801 - ETA: 5:59 - loss: 0.3563 - roc_auc: 0.801 - ETA: 5:59 - loss: 0.3564 - roc_auc: 0.800 - ETA: 5:51 - loss: 0.3555 - roc_auc: 0.800 - ETA: 5:43 - loss: 0.3548 - roc_auc: 0.801 - ETA: 5:38 - loss: 0.3549 - roc_auc: 0.801 - ETA: 5:30 - loss: 0.3547 - roc_auc: 0.802 - ETA: 5:24 - loss: 0.3563 - roc_auc: 0.801 - ETA: 5:16 - loss: 0.3565 - roc_auc: 0.800 - ETA: 5:13 - loss: 0.3572 - roc_auc: 0.800 - ETA: 5:07 - loss: 0.3563 - roc_auc: 0.801 - ETA: 5:00 - loss: 0.3558 - roc_auc: 0.801 - ETA: 4:52 - loss: 0.3547 - roc_auc: 0.800 - ETA: 4:44 - loss: 0.3549 - roc_auc: 0.800 - ETA: 4:36 - loss: 0.3547 - roc_auc: 0.800 - ETA: 4:28 - loss: 0.3541 - roc_auc: 0.800 - ETA: 4:20 - loss: 0.3536 - roc_auc: 0.801 - ETA: 4:13 - loss: 0.3530 - roc_auc: 0.801 - ETA: 4:06 - loss: 0.3524 - roc_auc: 0.801 - ETA: 3:58 - loss: 0.3511 - roc_auc: 0.802 - ETA: 3:51 - loss: 0.3526 - roc_auc: 0.801 - ETA: 3:44 - loss: 0.3519 - roc_auc: 0.802 - ETA: 3:37 - loss: 0.3518 - roc_auc: 0.802 - ETA: 3:30 - loss: 0.3524 - roc_auc: 0.802 - ETA: 3:22 - loss: 0.3522 - roc_auc: 0.802 - ETA: 3:15 - loss: 0.3527 - roc_auc: 0.801 - ETA: 3:08 - loss: 0.3530 - roc_auc: 0.801 - ETA: 3:01 - loss: 0.3525 - roc_auc: 0.801 - ETA: 2:55 - loss: 0.3523 - roc_auc: 0.801 - ETA: 2:48 - loss: 0.3530 - roc_auc: 0.801 - ETA: 2:41 - loss: 0.3533 - roc_auc: 0.801 - ETA: 2:34 - loss: 0.3529 - roc_auc: 0.802 - ETA: 2:29 - loss: 0.3527 - roc_auc: 0.801 - ETA: 2:22 - loss: 0.3527 - roc_auc: 0.801 - ETA: 2:15 - loss: 0.3523 - roc_auc: 0.802 - ETA: 2:09 - loss: 0.3524 - roc_auc: 0.802 - ETA: 2:02 - loss: 0.3520 - roc_auc: 0.802 - ETA: 1:56 - loss: 0.3518 - roc_auc: 0.802 - ETA: 1:49 - loss: 0.3518 - roc_auc: 0.802 - ETA: 1:42 - loss: 0.3523 - roc_auc: 0.801 - ETA: 1:35 - loss: 0.3524 - roc_auc: 0.802 - ETA: 1:29 - loss: 0.3524 - roc_auc: 0.802 - ETA: 1:22 - loss: 0.3524 - roc_auc: 0.802 - ETA: 1:15 - loss: 0.3523 - roc_auc: 0.802 - ETA: 1:08 - loss: 0.3525 - roc_auc: 0.801 - ETA: 1:02 - loss: 0.3527 - roc_auc: 0.801 - ETA: 55s - loss: 0.3530 - roc_auc: 0.802 - ETA: 49s - loss: 0.3528 - roc_auc: 0.80 - ETA: 42s - loss: 0.3528 - roc_auc: 0.80 - ETA: 35s - loss: 0.3529 - roc_auc: 0.80 - ETA: 28s - loss: 0.3529 - roc_auc: 0.80 - ETA: 22s - loss: 0.3530 - roc_auc: 0.80 - ETA: 15s - loss: 0.3531 - roc_auc: 0.80 - ETA: 8s - loss: 0.3535 - roc_auc: 0.8024 - ETA: 1s - loss: 0.3536 - roc_auc: 0.802 - 514s 7ms/step - loss: 0.3537 - roc_auc: 0.8022 - val_loss: 0.4079 - val_roc_auc: 0.7116\n",
      "\n",
      "Epoch 00009: val_roc_auc did not improve from 0.73612\n",
      "Epoch 10/10\n",
      "69918/69918 [==============================] - ETA: 8:58 - loss: 0.3294 - roc_auc: 0.838 - ETA: 8:18 - loss: 0.3302 - roc_auc: 0.832 - ETA: 8:19 - loss: 0.3295 - roc_auc: 0.831 - ETA: 8:06 - loss: 0.3252 - roc_auc: 0.830 - ETA: 7:43 - loss: 0.3253 - roc_auc: 0.827 - ETA: 7:34 - loss: 0.3295 - roc_auc: 0.829 - ETA: 7:16 - loss: 0.3276 - roc_auc: 0.832 - ETA: 7:03 - loss: 0.3285 - roc_auc: 0.829 - ETA: 6:52 - loss: 0.3287 - roc_auc: 0.831 - ETA: 6:42 - loss: 0.3310 - roc_auc: 0.833 - ETA: 6:31 - loss: 0.3350 - roc_auc: 0.829 - ETA: 6:21 - loss: 0.3360 - roc_auc: 0.827 - ETA: 6:16 - loss: 0.3353 - roc_auc: 0.827 - ETA: 6:11 - loss: 0.3368 - roc_auc: 0.826 - ETA: 6:01 - loss: 0.3372 - roc_auc: 0.827 - ETA: 5:53 - loss: 0.3379 - roc_auc: 0.827 - ETA: 5:45 - loss: 0.3392 - roc_auc: 0.827 - ETA: 5:39 - loss: 0.3404 - roc_auc: 0.826 - ETA: 5:34 - loss: 0.3396 - roc_auc: 0.826 - ETA: 5:26 - loss: 0.3400 - roc_auc: 0.826 - ETA: 5:18 - loss: 0.3389 - roc_auc: 0.827 - ETA: 5:10 - loss: 0.3388 - roc_auc: 0.827 - ETA: 5:02 - loss: 0.3380 - roc_auc: 0.826 - ETA: 4:55 - loss: 0.3381 - roc_auc: 0.826 - ETA: 4:47 - loss: 0.3371 - roc_auc: 0.826 - ETA: 4:44 - loss: 0.3380 - roc_auc: 0.826 - ETA: 4:42 - loss: 0.3377 - roc_auc: 0.827 - ETA: 4:36 - loss: 0.3383 - roc_auc: 0.826 - ETA: 4:30 - loss: 0.3400 - roc_auc: 0.825 - ETA: 4:22 - loss: 0.3405 - roc_auc: 0.824 - ETA: 4:16 - loss: 0.3403 - roc_auc: 0.824 - ETA: 4:08 - loss: 0.3409 - roc_auc: 0.823 - ETA: 4:03 - loss: 0.3407 - roc_auc: 0.823 - ETA: 3:57 - loss: 0.3408 - roc_auc: 0.823 - ETA: 3:50 - loss: 0.3397 - roc_auc: 0.824 - ETA: 3:43 - loss: 0.3400 - roc_auc: 0.824 - ETA: 3:36 - loss: 0.3398 - roc_auc: 0.825 - ETA: 3:30 - loss: 0.3399 - roc_auc: 0.825 - ETA: 3:25 - loss: 0.3400 - roc_auc: 0.824 - ETA: 3:19 - loss: 0.3397 - roc_auc: 0.824 - ETA: 3:13 - loss: 0.3407 - roc_auc: 0.824 - ETA: 3:06 - loss: 0.3405 - roc_auc: 0.824 - ETA: 2:59 - loss: 0.3410 - roc_auc: 0.824 - ETA: 2:53 - loss: 0.3412 - roc_auc: 0.824 - ETA: 2:46 - loss: 0.3406 - roc_auc: 0.824 - ETA: 2:38 - loss: 0.3405 - roc_auc: 0.824 - ETA: 2:31 - loss: 0.3409 - roc_auc: 0.824 - ETA: 2:24 - loss: 0.3420 - roc_auc: 0.822 - ETA: 2:18 - loss: 0.3424 - roc_auc: 0.822 - ETA: 2:12 - loss: 0.3427 - roc_auc: 0.821 - ETA: 2:05 - loss: 0.3432 - roc_auc: 0.821 - ETA: 1:58 - loss: 0.3433 - roc_auc: 0.821 - ETA: 1:51 - loss: 0.3436 - roc_auc: 0.821 - ETA: 1:44 - loss: 0.3436 - roc_auc: 0.820 - ETA: 1:37 - loss: 0.3431 - roc_auc: 0.821 - ETA: 1:30 - loss: 0.3438 - roc_auc: 0.820 - ETA: 1:23 - loss: 0.3434 - roc_auc: 0.821 - ETA: 1:15 - loss: 0.3433 - roc_auc: 0.820 - ETA: 1:08 - loss: 0.3430 - roc_auc: 0.820 - ETA: 1:01 - loss: 0.3427 - roc_auc: 0.821 - ETA: 53s - loss: 0.3428 - roc_auc: 0.820 - ETA: 46s - loss: 0.3434 - roc_auc: 0.82 - ETA: 38s - loss: 0.3434 - roc_auc: 0.82 - ETA: 31s - loss: 0.3434 - roc_auc: 0.82 - ETA: 24s - loss: 0.3438 - roc_auc: 0.82 - ETA: 16s - loss: 0.3436 - roc_auc: 0.81 - ETA: 9s - loss: 0.3436 - roc_auc: 0.8192 - ETA: 2s - loss: 0.3439 - roc_auc: 0.819 - 553s 8ms/step - loss: 0.3437 - roc_auc: 0.8194 - val_loss: 0.4219 - val_roc_auc: 0.7169\n",
      "\n",
      "Epoch 00010: val_roc_auc did not improve from 0.73612\n"
     ]
    },
    {
     "data": {
      "text/plain": [
       "<keras.callbacks.History at 0x28255b75e48>"
      ]
     },
     "execution_count": 142,
     "metadata": {
      "tags": []
     },
     "output_type": "execute_result"
    }
   ],
   "source": [
    "model.compile(optimizer='adam', loss='binary_crossentropy', metrics=[roc_auc])\n",
    "model.fit(x=[padded_docs_train,train_prefix,train_categories,train_subcategories,train_state,train_grade_category,train_ppp,train_quantity ,train_price], \n",
    "          y=[np.array(Y_train)],\n",
    "          validation_data=([padded_docs_val,val_prefix,val_categories,val_subcategories,val_state,val_grade_category,val_ppp,val_quantity ,val_price],[np.array(Y_cv)]),\n",
    "          epochs=7, \n",
    "          batch_size=1024, \n",
    "          callbacks=[tensorboard,checkpoint])"
   ]
  },
  {
   "cell_type": "code",
   "execution_count": 0,
   "metadata": {
    "colab": {},
    "colab_type": "code",
    "id": "6NvAJHHYXY8T",
    "outputId": "e1b78c1e-8414-4593-c835-66aec5cf8eb9"
   },
   "outputs": [
    {
     "name": "stderr",
     "output_type": "stream",
     "text": [
      "ERROR: unknown command \"upgrade\"\n",
      "\n"
     ]
    }
   ],
   "source": [
    "!pip -- upgrade tensorflow"
   ]
  },
  {
   "cell_type": "code",
   "execution_count": 0,
   "metadata": {
    "colab": {},
    "colab_type": "code",
    "id": "8HqUMvt0XY8V"
   },
   "outputs": [],
   "source": [
    "import tensorflow as tf\n",
    "from tensorflow.python.keras.callbacks import TensorBoard\n",
    "import datetime\n",
    "from keras.callbacks import ModelCheckpoint"
   ]
  },
  {
   "cell_type": "code",
   "execution_count": 0,
   "metadata": {
    "colab": {},
    "colab_type": "code",
    "id": "8Wx1k9wUXY8X"
   },
   "outputs": [],
   "source": [
    "tensorboard = TensorBoard(\"logs\\\\fit\\\\\" + datetime.datetime.now().strftime(\"%Y%m%d-%H%M%S\"))"
   ]
  },
  {
   "cell_type": "code",
   "execution_count": 0,
   "metadata": {
    "colab": {},
    "colab_type": "code",
    "id": "BGaEBDJDXY8Z",
    "outputId": "7a5cd225-b580-4a6a-e44b-adaf88a59bcb"
   },
   "outputs": [
    {
     "name": "stdout",
     "output_type": "stream",
     "text": [
      "The tensorboard module is not an IPython extension.\n"
     ]
    },
    {
     "name": "stderr",
     "output_type": "stream",
     "text": [
      "UsageError: Line magic function `%tensorboard` not found.\n"
     ]
    }
   ],
   "source": [
    "% load_ext tensorboard\n",
    "% tensorboard --logdir logs/fit"
   ]
  },
  {
   "cell_type": "code",
   "execution_count": 0,
   "metadata": {
    "colab": {},
    "colab_type": "code",
    "id": "YkhI8YGmXY8c",
    "outputId": "26bc485c-9241-4c25-9e6e-2be3d694b85c"
   },
   "outputs": [
    {
     "data": {
      "text/plain": [
       "'1.11.0'"
      ]
     },
     "execution_count": 22,
     "metadata": {
      "tags": []
     },
     "output_type": "execute_result"
    }
   ],
   "source": [
    "tf.__version__"
   ]
  },
  {
   "cell_type": "code",
   "execution_count": 2,
   "metadata": {
    "colab": {},
    "colab_type": "code",
    "id": "1Ioaf2j-XY8e"
   },
   "outputs": [
    {
     "data": {
      "image/png": "[encoded data removed]",
      "text/plain": [
       "<IPython.core.display.Image object>"
      ]
     },
     "execution_count": 2,
     "metadata": {},
     "output_type": "execute_result"
    }
   ],
   "source": [
    "from IPython.display import Image\n",
    "Image(\"Capture2.PNG\")"
   ]
  },
  {
   "cell_type": "code",
   "execution_count": 0,
   "metadata": {
    "colab": {},
    "colab_type": "code",
    "id": "s1nCrF5vXY8h"
   },
   "outputs": [],
   "source": []
  },
  {
   "cell_type": "markdown",
   "metadata": {
    "colab_type": "text",
    "id": "G4sg8ClfXY8j"
   },
   "source": [
    "### Model-2"
   ]
  },
  {
   "cell_type": "markdown",
   "metadata": {
    "colab_type": "text",
    "id": "CtQPcnhFXY8k"
   },
   "source": [
    "Use the same model as above but for 'input_seq_total_text_data' give only some words in the sentance not all the words. Filter the words as below. "
   ]
  },
  {
   "cell_type": "markdown",
   "metadata": {
    "colab_type": "text",
    "id": "l0REm5Q6XY8k"
   },
   "source": [
    "<pre>\n",
    "1. Train the TF-IDF on the Train data <br>\n",
    "2. Get the idf value for each word we have in the train data. <br>\n",
    "3. Remove the low idf value and high idf value words from our data. Do some analysis on the Idf values and based on those values choose the low and high threshold value. Because very frequent words and very very rare words don't give much information. (you can plot a box plots and take only the idf scores within IQR range and corresponding words)<br>\n",
    "4. Train the LSTM after removing the Low and High idf value words. (In model-1 Train on total data but in Model-2 train on data after removing some words based on IDF values)\n",
    "</pre>"
   ]
  },
  {
   "cell_type": "code",
   "execution_count": 0,
   "metadata": {
    "colab": {
     "base_uri": "https://localhost:8080/",
     "height": 79
    },
    "colab_type": "code",
    "id": "mwruNAqIhQKU",
    "outputId": "1efeb0c1-81dc-4ca0-f8ac-1980ff264197"
   },
   "outputs": [
    {
     "data": {
      "text/html": [
       "<p style=\"color: red;\">\n",
       "The default version of TensorFlow in Colab will soon switch to TensorFlow 2.x.<br>\n",
       "We recommend you <a href=\"https://www.tensorflow.org/guide/migrate\" target=\"_blank\">upgrade</a> now \n",
       "or ensure your notebook will continue to use TensorFlow 1.x via the <code>%tensorflow_version 1.x</code> magic:\n",
       "<a href=\"https://colab.research.google.com/notebooks/tensorflow_version.ipynb\" target=\"_blank\">more info</a>.</p>\n"
      ],
      "text/plain": [
       "<IPython.core.display.HTML object>"
      ]
     },
     "metadata": {
      "tags": []
     },
     "output_type": "display_data"
    },
    {
     "data": {
      "text/plain": [
       "'1.15.0'"
      ]
     },
     "execution_count": 3,
     "metadata": {
      "tags": []
     },
     "output_type": "execute_result"
    }
   ],
   "source": [
    "import tensorflow as tf\n",
    "tf.__version__"
   ]
  },
  {
   "cell_type": "code",
   "execution_count": 0,
   "metadata": {
    "colab": {},
    "colab_type": "code",
    "id": "cvoYnOoNhX1F"
   },
   "outputs": [],
   "source": [
    "project_data = pd.read_csv('drive/My Drive/lstm_donor/processed_data.csv')\n",
    "#target = project_data['']"
   ]
  },
  {
   "cell_type": "code",
   "execution_count": 0,
   "metadata": {
    "colab": {},
    "colab_type": "code",
    "id": "gk4_qHNUiig3"
   },
   "outputs": [],
   "source": [
    "project_data.columns\n",
    "target = project_data['project_is_approved']\n",
    "#project_data.drop(['Unnamed :0','id','teacher_id','project_is_approved'],axis = 1,inplace = True)"
   ]
  },
  {
   "cell_type": "code",
   "execution_count": 0,
   "metadata": {
    "colab": {},
    "colab_type": "code",
    "id": "4t5TSqW8tJla"
   },
   "outputs": [],
   "source": [
    "project_data.drop(['Unnamed: 0','id','teacher_id','project_is_approved'],axis = 1,inplace = True)"
   ]
  },
  {
   "cell_type": "code",
   "execution_count": 7,
   "metadata": {
    "colab": {
     "base_uri": "https://localhost:8080/",
     "height": 67
    },
    "colab_type": "code",
    "id": "TBycM-5dicSY",
    "outputId": "3454263d-54de-4f57-fd11-9ee0edb53fd2"
   },
   "outputs": [
    {
     "name": "stdout",
     "output_type": "stream",
     "text": [
      "shape of training data after vectorization is: (69918, 14)\n",
      "shape of validation data after vectorization is: (17480, 14)\n",
      "shape of test data after vectorization is: (21850, 14)\n"
     ]
    }
   ],
   "source": [
    "#splitting the data in train,validation and test \n",
    "from sklearn.model_selection import train_test_split\n",
    "#80% training data and 20% test data \n",
    "X_train,X_test,Y_train,Y_test = train_test_split(project_data,target,test_size = 0.2,stratify = target,random_state = 42)\n",
    "X_train,X_cv,Y_train,Y_cv = train_test_split(X_train,Y_train,test_size = 0.2,stratify = Y_train,random_state = 42)\n",
    "\n",
    "print('shape of training data after vectorization is:',X_train.shape)\n",
    "print('shape of validation data after vectorization is:',X_cv.shape)\n",
    "print('shape of test data after vectorization is:',X_test.shape)"
   ]
  },
  {
   "cell_type": "code",
   "execution_count": 0,
   "metadata": {
    "colab": {},
    "colab_type": "code",
    "id": "XxoQiKjZtZxr"
   },
   "outputs": [],
   "source": []
  },
  {
   "cell_type": "markdown",
   "metadata": {
    "colab_type": "text",
    "id": "KRVwgpHxtdPf"
   },
   "source": [
    "## TFIDF Model"
   ]
  },
  {
   "cell_type": "code",
   "execution_count": 8,
   "metadata": {
    "colab": {
     "base_uri": "https://localhost:8080/",
     "height": 134
    },
    "colab_type": "code",
    "id": "QTtcpM-Lws_Z",
    "outputId": "4e16222b-169e-42ea-f1de-699fc506b7d3"
   },
   "outputs": [
    {
     "data": {
      "text/plain": [
       "Index(['teacher_prefix', 'school_state', 'project_submitted_datetime',\n",
       "       'project_grade_category', 'project_subject_categories',\n",
       "       'project_subject_subcategories',\n",
       "       'teacher_number_of_previously_posted_projects', 'price', 'quantity',\n",
       "       'cleaned_project_titles', 'cleaned_resource_summary', 'essay',\n",
       "       'cleaned_essay', 'nrm_price'],\n",
       "      dtype='object')"
      ]
     },
     "execution_count": 8,
     "metadata": {
      "tags": []
     },
     "output_type": "execute_result"
    }
   ],
   "source": [
    "project_data.columns"
   ]
  },
  {
   "cell_type": "code",
   "execution_count": 0,
   "metadata": {
    "colab": {},
    "colab_type": "code",
    "id": "pAgXQ4toxGYX"
   },
   "outputs": [],
   "source": [
    "#utility function\n",
    "def final_text(df):\n",
    "    \"\"\"Returns the final concatenated text\"\"\"\n",
    "    df['final_Text'] = df['cleaned_essay'].map(str) + \" \" + df['cleaned_resource_summary'].map(str) +\\\n",
    "        \" \" + df['cleaned_project_titles'].map(str)\n",
    "    return df\n",
    "\n",
    "#getting the train,val and test data\n",
    "X_train = final_text(X_train)\n",
    "X_cv= final_text(X_cv)\n",
    "X_test = final_text(X_test)"
   ]
  },
  {
   "cell_type": "code",
   "execution_count": 10,
   "metadata": {
    "colab": {
     "base_uri": "https://localhost:8080/",
     "height": 134
    },
    "colab_type": "code",
    "id": "mmVUMkkLxK6Q",
    "outputId": "86b4af1c-fce7-4264-f9e4-ce0563073096"
   },
   "outputs": [
    {
     "data": {
      "text/plain": [
       "Index(['teacher_prefix', 'school_state', 'project_submitted_datetime',\n",
       "       'project_grade_category', 'project_subject_categories',\n",
       "       'project_subject_subcategories',\n",
       "       'teacher_number_of_previously_posted_projects', 'price', 'quantity',\n",
       "       'cleaned_project_titles', 'cleaned_resource_summary', 'essay',\n",
       "       'cleaned_essay', 'nrm_price', 'final_Text'],\n",
       "      dtype='object')"
      ]
     },
     "execution_count": 10,
     "metadata": {
      "tags": []
     },
     "output_type": "execute_result"
    }
   ],
   "source": [
    "X_train.columns"
   ]
  },
  {
   "cell_type": "code",
   "execution_count": 0,
   "metadata": {
    "colab": {
     "base_uri": "https://localhost:8080/",
     "height": 34
    },
    "colab_type": "code",
    "id": "8Lun3SQ7tffY",
    "outputId": "a5d8ea61-0a30-4789-d5da-82d5af9dd59f"
   },
   "outputs": [
    {
     "name": "stdout",
     "output_type": "stream",
     "text": [
      "Number of wordds in the corpus are: 51124\n"
     ]
    }
   ],
   "source": [
    "from sklearn.feature_extraction.text import TfidfVectorizer\n",
    "tfidf = TfidfVectorizer()\n",
    "\n",
    "tfidf.fit(X_train['final_Text'])\n",
    "corpus = tfidf.get_feature_names() #getting names of all the features\n",
    "idf_corpus = tfidf.idf_ #getting the  idf scores \n",
    "\n",
    "dict_corpus_idf = dict(zip(corpus,idf_corpus))\n",
    "print('Number of wordds in the corpus are:',len(dict_corpus_idf))"
   ]
  },
  {
   "cell_type": "code",
   "execution_count": 0,
   "metadata": {
    "colab": {
     "base_uri": "https://localhost:8080/",
     "height": 546
    },
    "colab_type": "code",
    "id": "n9mkNar1U7-v",
    "outputId": "f420764c-466e-40ce-bc21-1dfdef5417e7"
   },
   "outputs": [
    {
     "data": {
      "image/png": "[encoded data removed]",
      "text/plain": [
       "<Figure size 576x576 with 1 Axes>"
      ]
     },
     "metadata": {
      "tags": []
     },
     "output_type": "display_data"
    },
    {
     "name": "stdout",
     "output_type": "stream",
     "text": [
      "The lowest significant value of TF-IDF Scores:  3\n",
      "The highest significant value of TF-IDF Scores:  11.4619455276077\n"
     ]
    }
   ],
   "source": [
    "p_75th = np.percentile(idf_corpus,59.81896)\n",
    "p_75th\n",
    "import matplotlib.pyplot as plt\n",
    "plt.figure(figsize=(8,8))\n",
    "plt.boxplot(idf_corpus)\n",
    "plt.title('Box Plot Analysis')\n",
    "plt.xlabel('Words')\n",
    "plt.ylabel('IDF Score')\n",
    "plt.show()\n",
    "\n",
    "p_25th = 3\n",
    "p_75th = np.percentile(idf_corpus,75)\n",
    "#p_75th = 11.555\n",
    "\n",
    "print(\"The lowest significant value of TF-IDF Scores: \",p_25th)\n",
    "print(\"The highest significant value of TF-IDF Scores: \",p_75th)"
   ]
  },
  {
   "cell_type": "code",
   "execution_count": 0,
   "metadata": {
    "colab": {
     "base_uri": "https://localhost:8080/",
     "height": 34
    },
    "colab_type": "code",
    "id": "M5PtWa-KZLn8",
    "outputId": "c3e516f3-4f50-4b78-e289-ffa1f499fc7e"
   },
   "outputs": [
    {
     "name": "stdout",
     "output_type": "stream",
     "text": [
      "Number of words to be removed:  141\n"
     ]
    }
   ],
   "source": [
    "#creating the list of words to be removed from the corpus\n",
    "removed_wordlist = []\n",
    "for word in list(dict_corpus_idf.keys()):\n",
    "    if(dict_corpus_idf[word] < p_25th or dict_corpus_idf[word] > p_75th):\n",
    "        removed_wordlist.append(word)\n",
    "    else:\n",
    "        continue\n",
    "        \n",
    "print(\"Number of words to be removed: \",len(removed_wordlist))"
   ]
  },
  {
   "cell_type": "code",
   "execution_count": 0,
   "metadata": {
    "colab": {
     "base_uri": "https://localhost:8080/",
     "height": 67
    },
    "colab_type": "code",
    "id": "nkZmEsBKo1cg",
    "outputId": "17d46218-9170-45ff-9322-5d0ce163736e"
   },
   "outputs": [
    {
     "name": "stderr",
     "output_type": "stream",
     "text": [
      "100%|██████████| 69918/69918 [00:15<00:00, 4432.91it/s]\n",
      "100%|██████████| 17480/17480 [00:03<00:00, 4512.44it/s]\n",
      "100%|██████████| 21850/21850 [00:04<00:00, 4496.13it/s]\n"
     ]
    }
   ],
   "source": [
    "def remove_from_text(list_of_sentences):\n",
    "    \"\"\"This function will be used to remove words from text data\"\"\"\n",
    "    processed_text = []\n",
    "    for sentence in tqdm(list_of_sentences):\n",
    "        sent = ' '.join(word for word in sentence.split() if word not in removed_wordlist) #We will keep only those words in title which has a string length greater than one\n",
    "        processed_text.append(sent)\n",
    "    return processed_text\n",
    "\n",
    "X_train['total_text'] = remove_from_text(X_train.final_Text.values)\n",
    "X_cv['total_text'] = remove_from_text(X_cv.final_Text.values)\n",
    "X_test['total_text'] = remove_from_text(X_test.final_Text.values)"
   ]
  },
  {
   "cell_type": "code",
   "execution_count": 0,
   "metadata": {
    "colab": {},
    "colab_type": "code",
    "id": "et0Skdico1gL"
   },
   "outputs": [],
   "source": [
    "X_train.to_csv(\"X_train_removed.csv\", index=False)\n",
    "X_cv.to_csv(\"X_val_removed.csv\", index=False)\n",
    "X_test.to_csv(\"X_test_removed.csv\", index=False)"
   ]
  },
  {
   "cell_type": "code",
   "execution_count": 0,
   "metadata": {
    "colab": {},
    "colab_type": "code",
    "id": "cfGFud7Ko1Zq"
   },
   "outputs": [],
   "source": [
    "X_train = pd.read_csv(\"X_train_removed.csv\")\n",
    "X_val = pd.read_csv(\"X_val_removed.csv\")\n",
    "X_test = pd.read_csv(\"X_test_removed.csv\")"
   ]
  },
  {
   "cell_type": "markdown",
   "metadata": {
    "colab_type": "text",
    "id": "jzrXgc7bukzO"
   },
   "source": [
    "## Total Text data "
   ]
  },
  {
   "cell_type": "code",
   "execution_count": 0,
   "metadata": {
    "colab": {},
    "colab_type": "code",
    "id": "WfnlVlxnuo3h"
   },
   "outputs": [],
   "source": [
    "#Get the total_text values in list\n",
    "docs_text_train=list(X_train.total_text.values)\n",
    "docs_text_val=list(X_val.total_text.values)\n",
    "docs_text_test=list(X_test.total_text.values)\n",
    "labels_train=np.array(Y_train)\n",
    "labels_val=np.array(Y_cv)\n",
    "labels_test=np.array(Y_test)\n",
    "\n",
    "#Initializing the keras tokenizer and fitting it on train data\n",
    "tokens = Tokenizer()\n",
    "tokens.fit_on_texts(docs_text_train)\n",
    "\n",
    "#Convert the texts to sequences using the tokenizer\n",
    "sequences_text_train = tokens.texts_to_sequences(docs_text_train)\n",
    "sequences_text_val = tokens.texts_to_sequences(docs_text_val)\n",
    "sequences_text_test = tokens.texts_to_sequences(docs_text_test)\n",
    "vocab_size_text = len(tokens.word_index) + 1\n",
    "\n",
    "#Add padding\n",
    "padded_text_train = pad_sequences(sequences_text_train, maxlen=300, padding='post')\n",
    "padded_text_val = pad_sequences(sequences_text_val, maxlen=300, padding='post')\n",
    "padded_text_test = pad_sequences(sequences_text_test, maxlen=300, padding='post')"
   ]
  },
  {
   "cell_type": "code",
   "execution_count": 0,
   "metadata": {
    "colab": {},
    "colab_type": "code",
    "id": "03OYs30jupL6"
   },
   "outputs": [],
   "source": [
    "pickle_in = open(\"drive/My Drive/lstm_donor/glove_vectors\",\"rb\")\n",
    "glove_words = pickle.load(pickle_in)\n",
    "embedding_matrix = zeros((vocab_size_text, 300))\n",
    "for word, i in tokens.word_index.items(): #enumerating all unique words\n",
    "    embedding_vector = glove_words.get(word)#locating for loaded glove model\n",
    "    if embedding_vector is not None:\n",
    "        embedding_matrix[i] = embedding_vector"
   ]
  },
  {
   "cell_type": "code",
   "execution_count": 0,
   "metadata": {
    "colab": {
     "base_uri": "https://localhost:8080/",
     "height": 339
    },
    "colab_type": "code",
    "id": "yZPiA_RGupRx",
    "outputId": "696439e3-4bfb-46e5-a47a-c1fc6dd0e8b2"
   },
   "outputs": [
    {
     "name": "stdout",
     "output_type": "stream",
     "text": [
      "WARNING:tensorflow:From /usr/local/lib/python3.6/dist-packages/keras/backend/tensorflow_backend.py:541: The name tf.placeholder is deprecated. Please use tf.compat.v1.placeholder instead.\n",
      "\n",
      "WARNING:tensorflow:From /usr/local/lib/python3.6/dist-packages/keras/backend/tensorflow_backend.py:66: The name tf.get_default_graph is deprecated. Please use tf.compat.v1.get_default_graph instead.\n",
      "\n",
      "WARNING:tensorflow:From /usr/local/lib/python3.6/dist-packages/keras/backend/tensorflow_backend.py:4432: The name tf.random_uniform is deprecated. Please use tf.random.uniform instead.\n",
      "\n",
      "WARNING:tensorflow:From /usr/local/lib/python3.6/dist-packages/keras/backend/tensorflow_backend.py:190: The name tf.get_default_session is deprecated. Please use tf.compat.v1.get_default_session instead.\n",
      "\n",
      "WARNING:tensorflow:From /usr/local/lib/python3.6/dist-packages/keras/backend/tensorflow_backend.py:197: The name tf.ConfigProto is deprecated. Please use tf.compat.v1.ConfigProto instead.\n",
      "\n",
      "WARNING:tensorflow:From /usr/local/lib/python3.6/dist-packages/keras/backend/tensorflow_backend.py:203: The name tf.Session is deprecated. Please use tf.compat.v1.Session instead.\n",
      "\n",
      "WARNING:tensorflow:From /usr/local/lib/python3.6/dist-packages/keras/backend/tensorflow_backend.py:207: The name tf.global_variables is deprecated. Please use tf.compat.v1.global_variables instead.\n",
      "\n",
      "WARNING:tensorflow:From /usr/local/lib/python3.6/dist-packages/keras/backend/tensorflow_backend.py:216: The name tf.is_variable_initialized is deprecated. Please use tf.compat.v1.is_variable_initialized instead.\n",
      "\n",
      "WARNING:tensorflow:From /usr/local/lib/python3.6/dist-packages/keras/backend/tensorflow_backend.py:223: The name tf.variables_initializer is deprecated. Please use tf.compat.v1.variables_initializer instead.\n",
      "\n"
     ]
    }
   ],
   "source": [
    "#Get the flattened LSTM output for input text\n",
    "import warnings\n",
    "warnings.filterwarnings('ignore')\n",
    "input_layer_total_text = Input(shape=(300,), name = \"total_text_sequence\")\n",
    "embedding_layer_total_text = Embedding(input_dim=vocab_size_text, output_dim=300, weights=[embedding_matrix], trainable=False)(input_layer_total_text)\n",
    "lstm_total_text  = LSTM(16, activation=\"relu\", return_sequences=True)(embedding_layer_total_text)\n",
    "flatten_total_text = Flatten()(lstm_total_text)"
   ]
  },
  {
   "cell_type": "code",
   "execution_count": 0,
   "metadata": {
    "colab": {},
    "colab_type": "code",
    "id": "Y6yOtSeu0BK8"
   },
   "outputs": [],
   "source": [
    "# teacher prefix\n",
    "#Get the teacher_prefix values\n",
    "docs_teacher_prefix_train=list(X_train.teacher_prefix.values)\n",
    "docs_teacher_prefix_val=list(X_val.teacher_prefix.values)\n",
    "docs_teacher_prefix_test=list(X_test.teacher_prefix.values)\n",
    "\n",
    "#Initializing the keras tokenizer and fitting it on train data\n",
    "tokens = Tokenizer()\n",
    "tokens.fit_on_texts(docs_teacher_prefix_train)\n",
    "\n",
    "#Convert the school_state to sequences using the tokenizer\n",
    "sequences_teacher_prefix_train = np.array(tokens.texts_to_sequences(docs_teacher_prefix_train))\n",
    "sequences_teacher_prefix_val = np.array(tokens.texts_to_sequences(docs_teacher_prefix_val))\n",
    "sequences_teacher_prefix_test = np.array(tokens.texts_to_sequences(docs_teacher_prefix_test))\n",
    "vocab_size_teacher_prefix = len(tokens.word_index) + 1\n",
    "#Get the flattened output for teacher_prefix\n",
    "input_layer_teacher_prefix = Input(shape=(1,), name = \"teacher_prefix\")\n",
    "embedding_layer_teacher_prefix = Embedding(input_dim=vocab_size_teacher_prefix, output_dim=4, trainable=True)(input_layer_teacher_prefix)\n",
    "flatten_teacher_prefix = Flatten()(embedding_layer_teacher_prefix)"
   ]
  },
  {
   "cell_type": "markdown",
   "metadata": {
    "colab_type": "text",
    "id": "-3ai91lawNJG"
   },
   "source": [
    "## Categorical data : school_state"
   ]
  },
  {
   "cell_type": "code",
   "execution_count": 0,
   "metadata": {
    "colab": {},
    "colab_type": "code",
    "id": "sQ7Bf6X-upPL"
   },
   "outputs": [],
   "source": [
    "\n",
    "#Get the school state values\n",
    "docs_school_state_train=list(X_train.school_state.values)\n",
    "docs_school_state_val=list(X_val.school_state.values)\n",
    "docs_school_state_test=list(X_test.school_state.values)\n",
    "\n",
    "#Initializing the keras tokenizer and fitting it on train data\n",
    "tokens = Tokenizer()\n",
    "tokens.fit_on_texts(docs_school_state_train)\n",
    "\n",
    "#Convert the school_state to sequences using the tokenizer\n",
    "sequences_school_train = np.array(tokens.texts_to_sequences(docs_school_state_train))\n",
    "sequences_school_val = np.array(tokens.texts_to_sequences(docs_school_state_val))\n",
    "sequences_school_test = np.array(tokens.texts_to_sequences(docs_school_state_test))\n",
    "vocab_size_school_state = len(tokens.word_index) + 1\n",
    "#Get the flattened output for school_state\n",
    "input_layer_school_state = Input(shape=(1,), name = \"encoded_school_state\")\n",
    "embedding_layer_school_state = Embedding(input_dim=vocab_size_school_state, output_dim=4, trainable=True)(input_layer_school_state)\n",
    "flatten_school_state = Flatten()(embedding_layer_school_state)\n"
   ]
  },
  {
   "cell_type": "markdown",
   "metadata": {
    "colab_type": "text",
    "id": "mE1sIT9XwXb6"
   },
   "source": [
    "## Categorical data : project_grade_category"
   ]
  },
  {
   "cell_type": "code",
   "execution_count": 0,
   "metadata": {
    "colab": {},
    "colab_type": "code",
    "id": "U3iqex3GwedH"
   },
   "outputs": [],
   "source": [
    "#Get the project_grade_category values\n",
    "docs_project_grade_category_train=list(X_train.project_grade_category.values)\n",
    "docs_project_grade_category_val=list(X_val.project_grade_category.values)\n",
    "docs_project_grade_category_test=list(X_test.project_grade_category.values)\n",
    "\n",
    "#Initializing the keras tokenizer and fitting it on train data\n",
    "tokens = Tokenizer()\n",
    "tokens.fit_on_texts(docs_project_grade_category_train)\n",
    "\n",
    "#Convert the school_state to sequences using the tokenizer\n",
    "sequences_project_grade_category_train = tokens.texts_to_sequences(docs_project_grade_category_train)\n",
    "sequences_project_grade_category_val = tokens.texts_to_sequences(docs_project_grade_category_val)\n",
    "sequences_project_grade_category_test = tokens.texts_to_sequences(docs_project_grade_category_test)\n",
    "vocab_size_project_grade_category= len(tokens.word_index) + 1\n",
    "\n",
    "#Add padding\n",
    "padded_project_grade_category_train = pad_sequences(sequences_project_grade_category_train, maxlen=3, padding='post')\n",
    "padded_project_grade_category_val = pad_sequences(sequences_project_grade_category_val, maxlen=3, padding='post')\n",
    "padded_project_grade_category_test = pad_sequences(sequences_project_grade_category_test, maxlen=3, padding='post')\n",
    "#Get the flattened output for project_grade_category\n",
    "input_layer_project_grade = Input(shape=(3,), name = \"project_grade_category\")\n",
    "embedding_layer_project_grade = Embedding(input_dim=vocab_size_project_grade_category, output_dim=4, trainable=True)(input_layer_project_grade)\n",
    "flatten_project_grade = Flatten()(embedding_layer_project_grade)"
   ]
  },
  {
   "cell_type": "markdown",
   "metadata": {
    "colab_type": "text",
    "id": "fCVaISTEwnRJ"
   },
   "source": [
    "## Categorical data : clean categories"
   ]
  },
  {
   "cell_type": "code",
   "execution_count": 0,
   "metadata": {
    "colab": {
     "base_uri": "https://localhost:8080/",
     "height": 134
    },
    "colab_type": "code",
    "id": "TQ5YCuihx0yK",
    "outputId": "11fa2dd1-aee3-4c4c-f3cf-b0abe0a6c2c4"
   },
   "outputs": [
    {
     "data": {
      "text/plain": [
       "Index(['teacher_prefix', 'school_state', 'project_submitted_datetime',\n",
       "       'project_grade_category', 'project_subject_categories',\n",
       "       'project_subject_subcategories',\n",
       "       'teacher_number_of_previously_posted_projects', 'price', 'quantity',\n",
       "       'cleaned_project_titles', 'cleaned_resource_summary', 'essay',\n",
       "       'cleaned_essay', 'nrm_price', 'final_Text', 'total_text'],\n",
       "      dtype='object')"
      ]
     },
     "execution_count": 28,
     "metadata": {
      "tags": []
     },
     "output_type": "execute_result"
    }
   ],
   "source": [
    "X_train.columns"
   ]
  },
  {
   "cell_type": "code",
   "execution_count": 0,
   "metadata": {
    "colab": {},
    "colab_type": "code",
    "id": "TJTX27HqwsVS"
   },
   "outputs": [],
   "source": [
    "#Get the clean_categories values\n",
    "docs_clean_categories_train=list(X_train.project_subject_categories.values)\n",
    "docs_clean_categories_val=list(X_val.project_subject_categories.values)\n",
    "docs_clean_categories_test=list(X_test.project_subject_categories.values)\n",
    "\n",
    "#Initializing the keras tokenizer and fitting it on train data\n",
    "tokens = Tokenizer()\n",
    "tokens.fit_on_texts(docs_clean_categories_train)\n",
    "\n",
    "#Convert the school_state to sequences using the tokenizer\n",
    "sequences_clean_categories_train = tokens.texts_to_sequences(docs_clean_categories_train)\n",
    "sequences_clean_categories_val = tokens.texts_to_sequences(docs_clean_categories_val)\n",
    "sequences_clean_categories_test = tokens.texts_to_sequences(docs_clean_categories_test)\n",
    "vocab_size_clean_categories = len(tokens.word_index) + 1\n",
    "\n",
    "#Add padding\n",
    "padded_clean_categories_train = pad_sequences(sequences_clean_categories_train, maxlen=3, padding='post')\n",
    "padded_clean_categories_val = pad_sequences(sequences_clean_categories_val, maxlen=3, padding='post')\n",
    "padded_clean_categories_test = pad_sequences(sequences_clean_categories_test, maxlen=3, padding='post')\n",
    "#Get the flattened output for clean_categories\n",
    "input_layer_clean_categories = Input(shape=(3,), name = \"clean_categories\")\n",
    "embedding_layer_clean_categories = Embedding(input_dim=vocab_size_clean_categories, output_dim=4, trainable=True)(input_layer_clean_categories)\n",
    "flatten_clean_categories = Flatten()(embedding_layer_clean_categories)"
   ]
  },
  {
   "cell_type": "markdown",
   "metadata": {
    "colab_type": "text",
    "id": "vlGQGXmYyNov"
   },
   "source": [
    "## Categorical data : project subcategories"
   ]
  },
  {
   "cell_type": "code",
   "execution_count": 0,
   "metadata": {
    "colab": {},
    "colab_type": "code",
    "id": "rwzqSsqUyUC7"
   },
   "outputs": [],
   "source": [
    "#Get the clean_subcategories values\n",
    "docs_clean_subcategories_train=list(X_train.project_subject_subcategories.values)\n",
    "docs_clean_subcategories_val=list(X_val.project_subject_subcategories.values)\n",
    "docs_clean_subcategories_test=list(X_test.project_subject_subcategories.values)\n",
    "\n",
    "#Initializing the keras tokenizer and fitting it on train data\n",
    "tokens = Tokenizer()\n",
    "tokens.fit_on_texts(docs_clean_subcategories_train)\n",
    "\n",
    "#Convert the school_state to sequences using the tokenizer\n",
    "sequences_clean_subcategories_train = tokens.texts_to_sequences(docs_clean_subcategories_train)\n",
    "sequences_clean_subcategories_val = tokens.texts_to_sequences(docs_clean_subcategories_val)\n",
    "sequences_clean_subcategories_test = tokens.texts_to_sequences(docs_clean_subcategories_test)\n",
    "vocab_size_clean_subcategories = len(tokens.word_index) + 1\n",
    "\n",
    "padded_clean_subcategories_train = pad_sequences(sequences_clean_subcategories_train, maxlen=3, padding='post')\n",
    "padded_clean_subcategories_val = pad_sequences(sequences_clean_subcategories_val, maxlen=3, padding='post')\n",
    "padded_clean_subcategories_test = pad_sequences(sequences_clean_subcategories_test, maxlen=3, padding='post')\n",
    "#Get the flattened output for clean_subcategories\n",
    "input_layer_clean_subcategories = Input(shape=(3,), name = \"clean_subcategories\")\n",
    "embedding_layer_clean_subcategories = Embedding(input_dim=vocab_size_clean_subcategories, output_dim=4, trainable=True)(input_layer_clean_subcategories)\n",
    "flatten_clean_subcategories = Flatten()(embedding_layer_clean_subcategories)"
   ]
  },
  {
   "cell_type": "code",
   "execution_count": 0,
   "metadata": {
    "colab": {},
    "colab_type": "code",
    "id": "n1Tvf8p1zX69"
   },
   "outputs": [],
   "source": [
    "from sklearn.preprocessing import Normalizer\n",
    "\n",
    "def normalize_vars(data):\n",
    "    \"\"\"This function is used to normalize all the input datas between 0 and 1\"\"\"\n",
    "    normalizer = Normalizer()\n",
    "    data_normalized = normalizer.fit_transform(data.reshape(1, -1))\n",
    "    return data_normalized, normalizer"
   ]
  },
  {
   "cell_type": "code",
   "execution_count": 0,
   "metadata": {
    "colab": {},
    "colab_type": "code",
    "id": "OVsTncBiyMed"
   },
   "outputs": [],
   "source": [
    "previous_projects_train = X_train.teacher_number_of_previously_posted_projects.values\n",
    "previous_projects_val = X_val.teacher_number_of_previously_posted_projects.values\n",
    "previous_projects_test = X_test.teacher_number_of_previously_posted_projects.values\n",
    "\n",
    "norm_previous_projects_train, normalizer = normalize_vars(previous_projects_train.reshape(1,-1))\n",
    "norm_previous_projects_val = normalizer.transform(previous_projects_val.reshape(1,-1))\n",
    "norm_previous_projects_test = normalizer.transform(previous_projects_test.reshape(1,-1))\n",
    "\n",
    "norm_previous_projects_train = norm_previous_projects_train.reshape(len(X_train),1)\n",
    "norm_previous_projects_val = norm_previous_projects_val.reshape(len(X_val),1)\n",
    "norm_previous_projects_test = norm_previous_projects_test.reshape(len(X_test),1)\n",
    "#Input layer for teacher_number_of_previously_posted_projects\n",
    "input_layer_previous_projects = Input(shape=(1,), name = \"previous_projects\")\n",
    "#price\n",
    "#Building train, test and validation data\n",
    "price_train = X_train.price.values\n",
    "price_val = X_val.price.values\n",
    "price_test = X_test.price.values\n",
    "\n",
    "norm_price_train, normalizer = normalize_vars(price_train.reshape(1,-1))\n",
    "norm_price_val = normalizer.transform(price_val.reshape(1,-1))\n",
    "norm_price_test = normalizer.transform(price_test.reshape(1,-1))\n",
    "\n",
    "norm_price_train = norm_price_train.reshape(len(X_train),1)\n",
    "norm_price_val = norm_price_val.reshape(len(X_val),1)\n",
    "norm_price_test = norm_price_test.reshape(len(X_test),1)\n",
    "#Input layer for price\n",
    "input_layer_price = Input(shape=(1,), name = \"price\")\n",
    "#quantity\n",
    "#Building train and validation data\n",
    "quantity_train = X_train.quantity.values\n",
    "quantity_val = X_val.quantity.values\n",
    "quantity_test = X_test.quantity.values\n",
    "\n",
    "norm_quantity_train, normalizer = normalize_vars(quantity_train.reshape(1,-1))\n",
    "norm_quantity_val = normalizer.transform(quantity_val.reshape(1,-1))\n",
    "norm_quantity_test = normalizer.transform(quantity_test.reshape(1,-1))\n",
    "\n",
    "norm_quantity_train = norm_quantity_train.reshape(len(X_train),1)\n",
    "norm_quantity_val = norm_quantity_val.reshape(len(X_val),1)\n",
    "norm_quantity_test = norm_quantity_test.reshape(len(X_test),1)\n",
    "#Input layer for quantity\n",
    "input_layer_quantity = Input(shape=(1,), name = \"quantity\")"
   ]
  },
  {
   "cell_type": "code",
   "execution_count": 0,
   "metadata": {
    "colab": {
     "base_uri": "https://localhost:8080/",
     "height": 70
    },
    "colab_type": "code",
    "id": "hXR-g3LgzaqE",
    "outputId": "a23c915a-78f2-4edd-9a5b-7c0df98a50d5"
   },
   "outputs": [
    {
     "name": "stdout",
     "output_type": "stream",
     "text": [
      "WARNING:tensorflow:From /usr/local/lib/python3.6/dist-packages/keras/backend/tensorflow_backend.py:4479: The name tf.truncated_normal is deprecated. Please use tf.random.truncated_normal instead.\n",
      "\n"
     ]
    }
   ],
   "source": [
    "# concatenating all\n",
    "numerical_features_layers_concat = concatenate([input_layer_previous_projects, input_layer_price, input_layer_quantity])\n",
    "dense_layer_numerical = Dense(6, activation='relu',kernel_initializer='he_normal')(numerical_features_layers_concat)"
   ]
  },
  {
   "cell_type": "code",
   "execution_count": 0,
   "metadata": {
    "colab": {
     "base_uri": "https://localhost:8080/",
     "height": 1000
    },
    "colab_type": "code",
    "id": "sigXwbpUza1T",
    "outputId": "e918fde2-0cf3-4af8-c78b-da06f1e98f32"
   },
   "outputs": [
    {
     "name": "stdout",
     "output_type": "stream",
     "text": [
      "WARNING:tensorflow:From /usr/local/lib/python3.6/dist-packages/keras/backend/tensorflow_backend.py:148: The name tf.placeholder_with_default is deprecated. Please use tf.compat.v1.placeholder_with_default instead.\n",
      "\n",
      "WARNING:tensorflow:From /usr/local/lib/python3.6/dist-packages/keras/backend/tensorflow_backend.py:3733: calling dropout (from tensorflow.python.ops.nn_ops) with keep_prob is deprecated and will be removed in a future version.\n",
      "Instructions for updating:\n",
      "Please use `rate` instead of `keep_prob`. Rate should be set to `rate = 1 - keep_prob`.\n",
      "Model: \"model_1\"\n",
      "__________________________________________________________________________________________________\n",
      "Layer (type)                    Output Shape         Param #     Connected to                     \n",
      "==================================================================================================\n",
      "total_text_sequence (InputLayer (None, 300)          0                                            \n",
      "__________________________________________________________________________________________________\n",
      "embedding_1 (Embedding)         (None, 300, 300)     15303600    total_text_sequence[0][0]        \n",
      "__________________________________________________________________________________________________\n",
      "teacher_prefix (InputLayer)     (None, 1)            0                                            \n",
      "__________________________________________________________________________________________________\n",
      "encoded_school_state (InputLaye (None, 1)            0                                            \n",
      "__________________________________________________________________________________________________\n",
      "project_grade_category (InputLa (None, 3)            0                                            \n",
      "__________________________________________________________________________________________________\n",
      "clean_categories (InputLayer)   (None, 3)            0                                            \n",
      "__________________________________________________________________________________________________\n",
      "clean_subcategories (InputLayer (None, 3)            0                                            \n",
      "__________________________________________________________________________________________________\n",
      "previous_projects (InputLayer)  (None, 1)            0                                            \n",
      "__________________________________________________________________________________________________\n",
      "price (InputLayer)              (None, 1)            0                                            \n",
      "__________________________________________________________________________________________________\n",
      "quantity (InputLayer)           (None, 1)            0                                            \n",
      "__________________________________________________________________________________________________\n",
      "lstm_1 (LSTM)                   (None, 300, 16)      20288       embedding_1[0][0]                \n",
      "__________________________________________________________________________________________________\n",
      "embedding_2 (Embedding)         (None, 1, 4)         24          teacher_prefix[0][0]             \n",
      "__________________________________________________________________________________________________\n",
      "embedding_3 (Embedding)         (None, 1, 4)         208         encoded_school_state[0][0]       \n",
      "__________________________________________________________________________________________________\n",
      "embedding_4 (Embedding)         (None, 3, 4)         40          project_grade_category[0][0]     \n",
      "__________________________________________________________________________________________________\n",
      "embedding_5 (Embedding)         (None, 3, 4)         64          clean_categories[0][0]           \n",
      "__________________________________________________________________________________________________\n",
      "embedding_6 (Embedding)         (None, 3, 4)         152         clean_subcategories[0][0]        \n",
      "__________________________________________________________________________________________________\n",
      "concatenate_1 (Concatenate)     (None, 3)            0           previous_projects[0][0]          \n",
      "                                                                 price[0][0]                      \n",
      "                                                                 quantity[0][0]                   \n",
      "__________________________________________________________________________________________________\n",
      "flatten_1 (Flatten)             (None, 4800)         0           lstm_1[0][0]                     \n",
      "__________________________________________________________________________________________________\n",
      "flatten_2 (Flatten)             (None, 4)            0           embedding_2[0][0]                \n",
      "__________________________________________________________________________________________________\n",
      "flatten_3 (Flatten)             (None, 4)            0           embedding_3[0][0]                \n",
      "__________________________________________________________________________________________________\n",
      "flatten_4 (Flatten)             (None, 12)           0           embedding_4[0][0]                \n",
      "__________________________________________________________________________________________________\n",
      "flatten_5 (Flatten)             (None, 12)           0           embedding_5[0][0]                \n",
      "__________________________________________________________________________________________________\n",
      "flatten_6 (Flatten)             (None, 12)           0           embedding_6[0][0]                \n",
      "__________________________________________________________________________________________________\n",
      "dense_1 (Dense)                 (None, 6)            24          concatenate_1[0][0]              \n",
      "__________________________________________________________________________________________________\n",
      "concatenate_2 (Concatenate)     (None, 4850)         0           flatten_1[0][0]                  \n",
      "                                                                 flatten_2[0][0]                  \n",
      "                                                                 flatten_3[0][0]                  \n",
      "                                                                 flatten_4[0][0]                  \n",
      "                                                                 flatten_5[0][0]                  \n",
      "                                                                 flatten_6[0][0]                  \n",
      "                                                                 dense_1[0][0]                    \n",
      "__________________________________________________________________________________________________\n",
      "dense_layer_1 (Dense)           (None, 10)           48510       concatenate_2[0][0]              \n",
      "__________________________________________________________________________________________________\n",
      "dropout_1 (Dropout)             (None, 10)           0           dense_layer_1[0][0]              \n",
      "__________________________________________________________________________________________________\n",
      "dense_layer_2 (Dense)           (None, 10)           110         dropout_1[0][0]                  \n",
      "__________________________________________________________________________________________________\n",
      "dropout_2 (Dropout)             (None, 10)           0           dense_layer_2[0][0]              \n",
      "__________________________________________________________________________________________________\n",
      "output_layer (Dense)            (None, 1)            11          dropout_2[0][0]                  \n",
      "==================================================================================================\n",
      "Total params: 15,373,031\n",
      "Trainable params: 69,431\n",
      "Non-trainable params: 15,303,600\n",
      "__________________________________________________________________________________________________\n"
     ]
    }
   ],
   "source": [
    "# Merge all the layers according to the architecture diagram\n",
    "x = concatenate([flatten_total_text, flatten_teacher_prefix, flatten_school_state, flatten_project_grade, flatten_clean_categories, flatten_clean_subcategories, dense_layer_numerical])\n",
    "x = Dense(10, activation='relu',kernel_initializer='he_normal',name='dense_layer_1')(x)\n",
    "x = Dropout(0.3, name='dropout_1')(x)\n",
    "x = Dense(10, activation='relu',kernel_initializer='he_normal',name='dense_layer_2')(x)\n",
    "x = Dropout(0.3, name='dropout_2')(x)\n",
    "output_layer = Dense(1, activation='sigmoid', name='output_layer')(x)\n",
    "\n",
    "# Final model\n",
    "model = Model(inputs=[input_layer_total_text,input_layer_teacher_prefix,input_layer_school_state,input_layer_project_grade,input_layer_clean_categories,\n",
    "                      input_layer_clean_subcategories,input_layer_previous_projects,input_layer_price,input_layer_quantity], outputs=[output_layer])\n",
    "model.summary()"
   ]
  },
  {
   "cell_type": "code",
   "execution_count": 0,
   "metadata": {
    "colab": {
     "base_uri": "https://localhost:8080/",
     "height": 34
    },
    "colab_type": "code",
    "id": "9GD0x9Zx0cH7",
    "outputId": "69e5fd95-b80b-4616-ce5a-45dd5923b602"
   },
   "outputs": [
    {
     "data": {
      "text/plain": [
       "5"
      ]
     },
     "execution_count": 35,
     "metadata": {
      "tags": []
     },
     "output_type": "execute_result"
    }
   ],
   "source": [
    "from keras import backend as K\n",
    "from sklearn.metrics import roc_auc_score\n",
    "#https://stackoverflow.com/questions/51922500/tf-metrics-auc-yielding-very-different-from-sklearn-metrics-roc-auc-score\n",
    "def roc_auc(y_true, y_pred):\n",
    "    auc = tf.py_func(roc_auc_score, (y_true, y_pred), tf.double)\n",
    "    #auc = tf.metrics.auc(y_true, y_pred, num_thresholds=200)[1]\n",
    "    K.get_session().run(tf.local_variables_initializer())\n",
    "    return auc\n",
    "#Defining callbacks\n",
    "from time import time\n",
    "#from tensorflow.python.keras.callbacks import TensorBoard\n",
    "from keras.callbacks import ModelCheckpoint\n",
    "from keras.callbacks import TensorBoard\n",
    "\n",
    "tensorboard = TensorBoard(log_dir=\"logs\".format(time))\n",
    "filepath=\"weights_best.hdf5\"\n",
    "checkpoint = ModelCheckpoint(filepath, monitor='val_roc_auc', verbose=1, save_best_only=True, mode='max')\n",
    "import gc\n",
    "gc.collect()"
   ]
  },
  {
   "cell_type": "code",
   "execution_count": 0,
   "metadata": {
    "colab": {},
    "colab_type": "code",
    "id": "HEWyyhUx04zV"
   },
   "outputs": [],
   "source": [
    "import tensorflow as tf"
   ]
  },
  {
   "cell_type": "code",
   "execution_count": 0,
   "metadata": {
    "colab": {
     "base_uri": "https://localhost:8080/",
     "height": 810
    },
    "colab_type": "code",
    "id": "fCH6Ucqbzayb",
    "outputId": "1b9ffe11-d1f9-4310-d1b8-2ce0a4515ea6"
   },
   "outputs": [
    {
     "name": "stdout",
     "output_type": "stream",
     "text": [
      "WARNING:tensorflow:From /usr/local/lib/python3.6/dist-packages/keras/optimizers.py:793: The name tf.train.Optimizer is deprecated. Please use tf.compat.v1.train.Optimizer instead.\n",
      "\n",
      "WARNING:tensorflow:From /usr/local/lib/python3.6/dist-packages/keras/backend/tensorflow_backend.py:3657: The name tf.log is deprecated. Please use tf.math.log instead.\n",
      "\n",
      "WARNING:tensorflow:From /usr/local/lib/python3.6/dist-packages/tensorflow_core/python/ops/nn_impl.py:183: where (from tensorflow.python.ops.array_ops) is deprecated and will be removed in a future version.\n",
      "Instructions for updating:\n",
      "Use tf.where in 2.0, which has the same broadcast rule as np.where\n",
      "WARNING:tensorflow:From <ipython-input-35-b70f758d7380>:5: py_func (from tensorflow.python.ops.script_ops) is deprecated and will be removed in a future version.\n",
      "Instructions for updating:\n",
      "tf.py_func is deprecated in TF V2. Instead, there are two\n",
      "    options available in V2.\n",
      "    - tf.py_function takes a python function which manipulates tf eager\n",
      "    tensors instead of numpy arrays. It's easy to convert a tf eager tensor to\n",
      "    an ndarray (just call tensor.numpy()) but having access to eager tensors\n",
      "    means `tf.py_function`s can use accelerators such as GPUs as well as\n",
      "    being differentiable using a gradient tape.\n",
      "    - tf.numpy_function maintains the semantics of the deprecated tf.py_func\n",
      "    (it is not differentiable, and manipulates numpy arrays). It drops the\n",
      "    stateful argument making all functions stateful.\n",
      "    \n",
      "WARNING:tensorflow:From /usr/local/lib/python3.6/dist-packages/keras/backend/tensorflow_backend.py:1033: The name tf.assign_add is deprecated. Please use tf.compat.v1.assign_add instead.\n",
      "\n",
      "WARNING:tensorflow:From /usr/local/lib/python3.6/dist-packages/keras/backend/tensorflow_backend.py:1020: The name tf.assign is deprecated. Please use tf.compat.v1.assign instead.\n",
      "\n",
      "Train on 69918 samples, validate on 17480 samples\n",
      "WARNING:tensorflow:From /usr/local/lib/python3.6/dist-packages/keras/callbacks.py:1122: The name tf.summary.merge_all is deprecated. Please use tf.compat.v1.summary.merge_all instead.\n",
      "\n",
      "WARNING:tensorflow:From /usr/local/lib/python3.6/dist-packages/keras/callbacks.py:1125: The name tf.summary.FileWriter is deprecated. Please use tf.compat.v1.summary.FileWriter instead.\n",
      "\n",
      "Epoch 1/7\n",
      "69918/69918 [==============================] - 39s 557us/step - loss: 0.4618 - roc_auc: 0.5689 - val_loss: 0.4135 - val_roc_auc: 0.7006\n",
      "WARNING:tensorflow:From /usr/local/lib/python3.6/dist-packages/keras/callbacks.py:1265: The name tf.Summary is deprecated. Please use tf.compat.v1.Summary instead.\n",
      "\n",
      "Epoch 2/7\n",
      "69918/69918 [==============================] - 36s 516us/step - loss: 0.4259 - roc_auc: 0.6409 - val_loss: 0.3959 - val_roc_auc: 0.7145\n",
      "Epoch 3/7\n",
      "69918/69918 [==============================] - 36s 518us/step - loss: 0.4117 - roc_auc: 0.6753 - val_loss: 0.3884 - val_roc_auc: 0.7197\n",
      "Epoch 4/7\n",
      "69918/69918 [==============================] - 37s 524us/step - loss: 0.4012 - roc_auc: 0.6970 - val_loss: 0.3836 - val_roc_auc: 0.7267\n",
      "Epoch 5/7\n",
      "69918/69918 [==============================] - 36s 513us/step - loss: 0.3962 - roc_auc: 0.7081 - val_loss: 0.3843 - val_roc_auc: 0.7276\n",
      "Epoch 6/7\n",
      "69918/69918 [==============================] - 36s 516us/step - loss: 0.3916 - roc_auc: 0.7194 - val_loss: 0.3862 - val_roc_auc: 0.7255\n",
      "Epoch 7/7\n",
      "69918/69918 [==============================] - 36s 508us/step - loss: 0.3871 - roc_auc: 0.7287 - val_loss: 0.3866 - val_roc_auc: 0.7262\n"
     ]
    },
    {
     "data": {
      "text/plain": [
       "<keras.callbacks.History at 0x7f6f48f5f1d0>"
      ]
     },
     "execution_count": 37,
     "metadata": {
      "tags": []
     },
     "output_type": "execute_result"
    }
   ],
   "source": [
    "model.compile(optimizer='adam', loss='binary_crossentropy', metrics=[roc_auc])\n",
    "model.fit(x=[padded_text_train,sequences_teacher_prefix_train,sequences_school_train,padded_project_grade_category_train,padded_clean_categories_train,padded_clean_subcategories_train,\n",
    "             norm_previous_projects_train,norm_price_train,norm_quantity_train], \n",
    "          y=[labels_train],\n",
    "          validation_data=([padded_text_val,sequences_teacher_prefix_val,sequences_school_val,padded_project_grade_category_val,padded_clean_categories_val,padded_clean_subcategories_val,\n",
    "                            norm_previous_projects_val,norm_price_val,norm_quantity_val],[labels_val]),\n",
    "          epochs=7, \n",
    "          batch_size=1024, \n",
    "          callbacks=[tensorboard])"
   ]
  },
  {
   "cell_type": "code",
   "execution_count": 0,
   "metadata": {
    "colab": {
     "base_uri": "https://localhost:8080/",
     "height": 63
    },
    "colab_type": "code",
    "id": "xVH4l-abzawk",
    "outputId": "e092a3f1-cdd3-41a3-8080-e277b7e0231e"
   },
   "outputs": [
    {
     "name": "stdout",
     "output_type": "stream",
     "text": [
      "TensorBoard 1.15.0 at http://127.0.0.1:6006/ (Press CTRL+C to quit)\n"
     ]
    }
   ],
   "source": [
    "!tensorboard --logdir=logs/ --host=127.0.0.1"
   ]
  },
  {
   "cell_type": "markdown",
   "metadata": {
    "colab_type": "text",
    "id": "Myq8he7vW3bU"
   },
   "source": [
    "###  Auc on test data"
   ]
  },
  {
   "cell_type": "code",
   "execution_count": 0,
   "metadata": {
    "colab": {},
    "colab_type": "code",
    "id": "zTWLffNrXzCW"
   },
   "outputs": [],
   "source": [
    "test_data=[padded_text_test,sequences_teacher_prefix_test,sequences_school_test,padded_project_grade_category_test,\n",
    "                  padded_clean_categories_test,padded_clean_subcategories_test,norm_previous_projects_test,norm_price_test,norm_quantity_test]"
   ]
  },
  {
   "cell_type": "code",
   "execution_count": 0,
   "metadata": {
    "colab": {
     "base_uri": "https://localhost:8080/",
     "height": 34
    },
    "colab_type": "code",
    "id": "c8ycSi9XXqaa",
    "outputId": "cab0ef28-8172-4a30-f808-bc0a5292df4e"
   },
   "outputs": [
    {
     "name": "stdout",
     "output_type": "stream",
     "text": [
      "AUC on unseen test data:  0.7275554325048124\n"
     ]
    }
   ],
   "source": [
    "#Test AUC\n",
    "y_pred= model.predict(test_data)\n",
    "print(\"AUC on unseen test data: \",roc_auc_score(Y_test,y_pred))\n"
   ]
  },
  {
   "cell_type": "code",
   "execution_count": 3,
   "metadata": {},
   "outputs": [
    {
     "data": {
      "image/png": "[encoded data removed]",
      "text/plain": [
       "<IPython.core.display.Image object>"
      ]
     },
     "execution_count": 3,
     "metadata": {},
     "output_type": "execute_result"
    }
   ],
   "source": [
    "from IPython.display import Image\n",
    "Image(\"Capture3.PNG\")"
   ]
  },
  {
   "cell_type": "code",
   "execution_count": 4,
   "metadata": {},
   "outputs": [
    {
     "data": {
      "image/png": "[encoded data removed]",
      "text/plain": [
       "<IPython.core.display.Image object>"
      ]
     },
     "execution_count": 4,
     "metadata": {},
     "output_type": "execute_result"
    }
   ],
   "source": [
    "from IPython.display import Image\n",
    "Image(\"Capture4.PNG\")"
   ]
  },
  {
   "cell_type": "markdown",
   "metadata": {
    "colab_type": "text",
    "id": "e35vstWBXY8l"
   },
   "source": [
    "### Model-3"
   ]
  },
  {
   "cell_type": "markdown",
   "metadata": {
    "colab_type": "text",
    "id": "1UCtxJYBXY8l"
   },
   "source": [
    "<img src='https://i.imgur.com/fkQ8nGo.png'>\n",
    "ref: https://i.imgur.com/fkQ8nGo.png"
   ]
  },
  {
   "cell_type": "markdown",
   "metadata": {
    "colab_type": "text",
    "id": "bfAOV5AfXY8m"
   },
   "source": [
    "\n",
    "- __input_seq_total_text_data__: <br>\n",
    "<pre>\n",
    "    . Use text column('essay'), and use the Embedding layer to get word vectors. <br>\n",
    "    . Use given predefined glove word vectors, don't train any word vectors. <br>\n",
    "    . Use LSTM that is given above, get the LSTM output and Flatten that output. <br>\n",
    "    . You are free to preprocess the input text as you needed. <br>\n",
    "</pre>\n",
    "- __Other_than_text_data__:<br>\n",
    "<pre>\n",
    "    . Convert all your Categorical values to onehot coded and then concatenate all these onehot vectors <br>\n",
    "    . Neumerical values and use <a href='https://keras.io/getting-started/sequential-model-guide/#sequence-classification-with-1d-convolutions'>CNN1D</a> as shown in above figure. <br>\n",
    "    . You are free to choose all CNN parameters like kernel sizes, stride.<br>\n",
    "    \n",
    "</pre>"
   ]
  },
  {
   "cell_type": "code",
   "execution_count": 0,
   "metadata": {
    "colab": {
     "base_uri": "https://localhost:8080/",
     "height": 134
    },
    "colab_type": "code",
    "id": "_Rqcr_ZQLsFW",
    "outputId": "7ef596ef-b2db-4964-d590-aeed3fb9fc15"
   },
   "outputs": [
    {
     "data": {
      "text/plain": [
       "Index(['teacher_prefix', 'school_state', 'project_submitted_datetime',\n",
       "       'project_grade_category', 'project_subject_categories',\n",
       "       'project_subject_subcategories',\n",
       "       'teacher_number_of_previously_posted_projects', 'price', 'quantity',\n",
       "       'cleaned_project_titles', 'cleaned_resource_summary', 'essay',\n",
       "       'cleaned_essay', 'nrm_price', 'final_Text'],\n",
       "      dtype='object')"
      ]
     },
     "execution_count": 11,
     "metadata": {
      "tags": []
     },
     "output_type": "execute_result"
    }
   ],
   "source": [
    "X_train.columns"
   ]
  },
  {
   "cell_type": "code",
   "execution_count": 0,
   "metadata": {
    "colab": {},
    "colab_type": "code",
    "id": "m80_zoZBgX4Z"
   },
   "outputs": [],
   "source": [
    "tokenizer = Tokenizer()\n",
    "tokenizer.fit_on_texts(fil_words)\n",
    "seq_train = tokenizer.texts_to_sequences(X_train[\"final_Text\"])\n",
    "seq_cv = tokenizer.texts_to_sequences(X_cv['final_Text'])\n",
    "seq_test = tokenizer.texts_to_sequences(X_test[\"final_Text\"])\n",
    "\n",
    "vocab_size_text = len(tokenizer.word_index)+1 #vocablury size of the data \n",
    "\n",
    "#Add padding\n",
    "padded_text_train = pad_sequences(seq_train, maxlen=300, padding='post')\n",
    "padded_text_val = pad_sequences(seq_cv, maxlen=300, padding='post')\n",
    "padded_text_test = pad_sequences(seq_test, maxlen=300, padding='post')"
   ]
  },
  {
   "cell_type": "code",
   "execution_count": 15,
   "metadata": {
    "colab": {
     "base_uri": "https://localhost:8080/",
     "height": 34
    },
    "colab_type": "code",
    "id": "F2R7aNiEOQUy",
    "outputId": "00681709-771b-4397-a377-b76ade70098c"
   },
   "outputs": [
    {
     "name": "stdout",
     "output_type": "stream",
     "text": [
      "the shappe of embedding matrix is: (24730, 300)\n"
     ]
    }
   ],
   "source": [
    "pickle_in = open(\"drive/My Drive/lstm_donor/glove_vectors\",\"rb\")\n",
    "glove_words = pickle.load(pickle_in)\n",
    "embedding_matrix = zeros((vocab_size_text, 300))\n",
    "for word, i in tokenizer.word_index.items(): #enumerating all unique words\n",
    "    embedding_vector = glove_words.get(word)#locating for loaded glove model\n",
    "    if embedding_vector is not None:\n",
    "        embedding_matrix[i] = embedding_vector\n",
    "\n",
    "print('the shappe of embedding matrix is:',embedding_matrix.shape)"
   ]
  },
  {
   "cell_type": "code",
   "execution_count": 0,
   "metadata": {
    "colab": {},
    "colab_type": "code",
    "id": "HorQOXqbOQj7"
   },
   "outputs": [],
   "source": [
    "# input_text = Input(shape=(800,),name=\"input_text\")\n",
    "import warnings\n",
    "warnings.filterwarnings('ignore')\n",
    "from keras import regularizers\n",
    "input_text = Input(shape=(300,),name=\"input_text\")\n",
    "embedding_layer = Embedding(vocab_size_text,output_dim = 300,weights=[embedding_matrix],trainable=False)\n",
    "x = embedding_layer(input_text)\n",
    "x = LSTM(256,recurrent_dropout=0.5,kernel_regularizer=regularizers.l2(0.001),return_sequences=True)(x)\n",
    "flat_1 = Flatten()(x)"
   ]
  },
  {
   "cell_type": "code",
   "execution_count": 0,
   "metadata": {
    "colab": {
     "base_uri": "https://localhost:8080/",
     "height": 134
    },
    "colab_type": "code",
    "id": "wQREneAdQC2x",
    "outputId": "8e47f5d7-01e2-4bd2-b3c0-d5b0b9358fe5"
   },
   "outputs": [
    {
     "data": {
      "text/plain": [
       "Index(['teacher_prefix', 'school_state', 'project_submitted_datetime',\n",
       "       'project_grade_category', 'project_subject_categories',\n",
       "       'project_subject_subcategories',\n",
       "       'teacher_number_of_previously_posted_projects', 'price', 'quantity',\n",
       "       'cleaned_project_titles', 'cleaned_resource_summary', 'essay',\n",
       "       'cleaned_essay', 'nrm_price', 'final_Text'],\n",
       "      dtype='object')"
      ]
     },
     "execution_count": 19,
     "metadata": {
      "tags": []
     },
     "output_type": "execute_result"
    }
   ],
   "source": [
    "X_train.columns"
   ]
  },
  {
   "cell_type": "code",
   "execution_count": 0,
   "metadata": {
    "colab": {},
    "colab_type": "code",
    "id": "qETXVZ3DPlsX"
   },
   "outputs": [],
   "source": [
    "vect = CountVectorizer(binary=True)\n",
    "vect.fit(X_train[\"teacher_prefix\"])\n",
    "train_prefix = vect.transform(X_train[\"teacher_prefix\"])\n",
    "val_prefix = vect.transform(X_cv['teacher_prefix'])\n",
    "test_prefix = vect.transform(X_test[\"teacher_prefix\"])\n",
    "\n",
    "vect = CountVectorizer(binary=True)\n",
    "vect.fit(X_train[\"school_state\"])\n",
    "train_state = vect.transform(X_train[\"school_state\"])\n",
    "val_state = vect.transform(X_cv[\"school_state\"])\n",
    "test_state = vect.transform(X_test[\"school_state\"])\n",
    "\n",
    "vect = CountVectorizer(binary=True)\n",
    "vect.fit(X_train[\"school_state\"])\n",
    "train_grade = vect.transform(X_train[\"project_grade_category\"])\n",
    "val_grade = vect.transform(X_cv[\"project_grade_category\"])\n",
    "test_grade = vect.transform(X_test[\"project_grade_category\"])\n",
    "\n",
    "vect = CountVectorizer(binary=True)\n",
    "vect.fit(X_train[\"project_subject_categories\"])\n",
    "train_subcat = vect.transform(X_train[\"project_subject_categories\"])\n",
    "val_subcat = vect.transform(X_cv[\"project_subject_categories\"])\n",
    "test_subcat = vect.transform(X_test[\"project_subject_categories\"])\n",
    "\n",
    "vect = CountVectorizer(binary=True)\n",
    "vect.fit(X_train[\"project_subject_subcategories\"])\n",
    "train_subcat_1 = vect.transform(X_train[\"project_subject_subcategories\"])\n",
    "val_subcat_1 = vect.transform(X_cv[\"project_subject_subcategories\"])\n",
    "test_subcat_1 = vect.transform(X_test[\"project_subject_subcategories\"])"
   ]
  },
  {
   "cell_type": "code",
   "execution_count": 0,
   "metadata": {
    "colab": {},
    "colab_type": "code",
    "id": "nPkHAlNWOQp5"
   },
   "outputs": [],
   "source": [
    "#for all the numerical features \n",
    "\n",
    "#numerical_train_a=X_train['digits_in_summary'].values.reshape(-1, 1)\n",
    "num_train_1=X_train['price'].values.reshape(-1, 1)\n",
    "num_train_2=X_train['quantity'].values.reshape(-1, 1)\n",
    "num_train_3=X_train['teacher_number_of_previously_posted_projects'].values.reshape(-1, 1)\n",
    "\n",
    "\n",
    "num_val_1=X_cv['price'].values.reshape(-1, 1)\n",
    "num_val_2=X_cv['quantity'].values.reshape(-1, 1)\n",
    "num_val_3=X_cv['teacher_number_of_previously_posted_projects'].values.reshape(-1, 1)\n",
    "\n",
    "#numerical_test_a=X_test['digits_in_summary'].values.reshape(-1, 1)\n",
    "num_test_1=X_test['price'].values.reshape(-1, 1)\n",
    "num_test_2=X_test['quantity'].values.reshape(-1, 1)\n",
    "num_test_3=X_test['teacher_number_of_previously_posted_projects'].values.reshape(-1, 1)"
   ]
  },
  {
   "cell_type": "code",
   "execution_count": null,
   "metadata": {},
   "outputs": [],
   "source": [
    "numerical_train=np.concatenate((num_train_1,num_train_2,num_train_3),axis=1)\n",
    "numerical_val=np.concatenate((num_val_1,num_val_2,num_val_3),axis=1)\n",
    "numerical_test=np.concatenate((num_test_1,num_test_2,num_test_3),axis=1)\n",
    "\n",
    "from sklearn.preprocessing import StandardScaler\n",
    "normal=StandardScaler()\n",
    "normal_train=normal.fit_transform(numerical_train)\n",
    "normal_val=normal.fit_transform(numerical_val)\n",
    "normal_test=normal.transform(numerical_test)"
   ]
  },
  {
   "cell_type": "code",
   "execution_count": 0,
   "metadata": {
    "colab": {},
    "colab_type": "code",
    "id": "VeKlMjeURFim"
   },
   "outputs": [],
   "source": [
    "from scipy.sparse import hstack\n",
    "other_train = hstack([train_prefix,train_state,train_grade,train_subcat,train_subcat_1]).todense()\n",
    "other_val = hstack([val_prefix,val_state,val_grade,val_subcat,val_subcat_1]).todense()\n",
    "other_test = hstack([test_prefix,test_state,test_grade,test_subcat,test_subcat_1]).todense()\n",
    "other_train = np.hstack((ot_train,normal_train))\n",
    "other_val = np.hstack((ot_val,normal_val))\n",
    "other_test = np.hstack((ot_test,normal_test))\n",
    "other_train_all = np.expand_dims(ot_all_train,2)\n",
    "other_val_all = np.expand_dims(ot_all_val,2)\n",
    "other_test_all = np.expand_dims(ot_all_test,2)"
   ]
  },
  {
   "cell_type": "code",
   "execution_count": 22,
   "metadata": {
    "colab": {
     "base_uri": "https://localhost:8080/",
     "height": 70
    },
    "colab_type": "code",
    "id": "eoau81QOU_BY",
    "outputId": "54580399-1d85-4686-e274-b23e0cf2ba91"
   },
   "outputs": [
    {
     "name": "stdout",
     "output_type": "stream",
     "text": [
      "WARNING:tensorflow:From /usr/local/lib/python3.6/dist-packages/keras/backend/tensorflow_backend.py:4479: The name tf.truncated_normal is deprecated. Please use tf.random.truncated_normal instead.\n",
      "\n"
     ]
    }
   ],
   "source": [
    "from keras.layers import Input, Embedding, LSTM, Dropout, BatchNormalization, Dense, concatenate, Flatten, Conv1D, MaxPool1D, LeakyReLU, ELU, SpatialDropout1D, MaxPooling1D, GlobalAveragePooling1D, GlobalMaxPooling1D\n",
    "inp_conv=Input(shape=(other_all_train.shape[1], 1))\n",
    "x1 = Conv1D(filters=128, kernel_size=3, activation='relu',kernel_initializer=\"he_normal\")(inp_conv)\n",
    "x1 = Conv1D(filters=128, kernel_size=3, activation='relu',kernel_initializer=\"he_normal\")(x1)\n",
    "x1 = Flatten()(x1)"
   ]
  },
  {
   "cell_type": "code",
   "execution_count": 0,
   "metadata": {
    "colab": {},
    "colab_type": "code",
    "id": "cIidZKsoOQuA"
   },
   "outputs": [],
   "source": [
    "\n",
    "x_concatenate = concatenate([flat_1,x1])\n",
    "x = Dense(128,activation=\"relu\",kernel_initializer=\"he_normal\",kernel_regularizer=regularizers.l2(0.001))(x_concatenate)\n",
    "x=Dropout(0.5)(x)\n",
    "x = Dense(64,activation=\"relu\",kernel_initializer=\"he_normal\",kernel_regularizer=regularizers.l2(0.001))(x)\n",
    "x=Dropout(0.3)(x)\n",
    "x = Dense(32,activation=\"relu\",kernel_initializer=\"he_normal\",kernel_regularizer=regularizers.l2(0.001))(x)\n",
    "output = Dense(2, activation='softmax', name='output')(x)\n",
    "model_1 = Model(inputs=[input_text,inp_conv],outputs=[output])"
   ]
  },
  {
   "cell_type": "code",
   "execution_count": 0,
   "metadata": {
    "colab": {},
    "colab_type": "code",
    "id": "vSiBTDUzVYvI"
   },
   "outputs": [],
   "source": [
    "train_data_3 = [padded_text_train,ot_train_all]\n",
    "val_data_3 = [padded_text_val,ot_val_all]\n",
    "test_data_3 = [padded_text_test,ot_test_all]\n",
    "from keras.utils import np_utils\n",
    "Y_train = np_utils.to_categorical(Y_train, 2) \n",
    "Y_val = np_utils.to_categorical(Y_cv, 2) \n",
    "Y_test = np_utils.to_categorical(Y_test, 2)"
   ]
  },
  {
   "cell_type": "code",
   "execution_count": 0,
   "metadata": {
    "colab": {},
    "colab_type": "code",
    "id": "T5SwgdieV6px"
   },
   "outputs": [],
   "source": [
    "from sklearn.metrics import roc_auc_score\n",
    "def auc1(y_true, y_pred):\n",
    "    if len(np.unique(y_true[:,1])) == 1:\n",
    "        return 0.5\n",
    "    else:\n",
    "        return roc_auc_score(y_true, y_pred)\n",
    "def auroc(y_true, y_pred):\n",
    "    return tf.py_func(auc1, (y_true, y_pred), tf.double)"
   ]
  },
  {
   "cell_type": "code",
   "execution_count": 0,
   "metadata": {
    "colab": {},
    "colab_type": "code",
    "id": "qzoLfv3eWDzr"
   },
   "outputs": [],
   "source": [
    "from keras.optimizers import Adam\n",
    "import tensorflow as tf"
   ]
  },
  {
   "cell_type": "code",
   "execution_count": 27,
   "metadata": {
    "colab": {
     "base_uri": "https://localhost:8080/",
     "height": 302
    },
    "colab_type": "code",
    "id": "Mlpuv96tV8EP",
    "outputId": "e5506cec-7979-48fd-84c9-672527caa0c4"
   },
   "outputs": [
    {
     "name": "stdout",
     "output_type": "stream",
     "text": [
      "WARNING:tensorflow:From /usr/local/lib/python3.6/dist-packages/keras/optimizers.py:793: The name tf.train.Optimizer is deprecated. Please use tf.compat.v1.train.Optimizer instead.\n",
      "\n",
      "WARNING:tensorflow:From /usr/local/lib/python3.6/dist-packages/keras/backend/tensorflow_backend.py:3576: The name tf.log is deprecated. Please use tf.math.log instead.\n",
      "\n",
      "WARNING:tensorflow:From <ipython-input-25-b3d027b8e5dd>:8: py_func (from tensorflow.python.ops.script_ops) is deprecated and will be removed in a future version.\n",
      "Instructions for updating:\n",
      "tf.py_func is deprecated in TF V2. Instead, there are two\n",
      "    options available in V2.\n",
      "    - tf.py_function takes a python function which manipulates tf eager\n",
      "    tensors instead of numpy arrays. It's easy to convert a tf eager tensor to\n",
      "    an ndarray (just call tensor.numpy()) but having access to eager tensors\n",
      "    means `tf.py_function`s can use accelerators such as GPUs as well as\n",
      "    being differentiable using a gradient tape.\n",
      "    - tf.numpy_function maintains the semantics of the deprecated tf.py_func\n",
      "    (it is not differentiable, and manipulates numpy arrays). It drops the\n",
      "    stateful argument making all functions stateful.\n",
      "    \n"
     ]
    }
   ],
   "source": [
    "model_1.compile(optimizer=Adam(lr=0.001, beta_1=0.9, beta_2=0.999, epsilon=None, decay=0.0, amsgrad=False), loss='categorical_crossentropy', metrics=[auroc])"
   ]
  },
  {
   "cell_type": "code",
   "execution_count": 0,
   "metadata": {
    "colab": {},
    "colab_type": "code",
    "id": "d8Z0stWMV8I7"
   },
   "outputs": [],
   "source": [
    "\n",
    "checkpoint_3 = ModelCheckpoint(\"model_3.h5\",monitor=\"val_auroc\",mode=\"max\",save_best_only = True,verbose=1)\n",
    "NAME = 'model_3'\n",
    "tensorboard_2 = TensorBoard(log_dir='logs')\n",
    "callbacks_2 = [tensorboard_2,checkpoint_3]"
   ]
  },
  {
   "cell_type": "code",
   "execution_count": 37,
   "metadata": {
    "colab": {
     "base_uri": "https://localhost:8080/",
     "height": 538
    },
    "colab_type": "code",
    "id": "MYMnVKC6OQ1-",
    "outputId": "415e59d8-327c-473a-acba-fa43fabb5a8a"
   },
   "outputs": [
    {
     "name": "stdout",
     "output_type": "stream",
     "text": [
      "Train on 69918 samples, validate on 17480 samples\n",
      "Epoch 1/15\n",
      "69918/69918 [==============================] - 76s 1ms/step - loss: 0.8016 - auroc: 0.6520 - val_loss: 0.6379 - val_auroc: 0.7352\n",
      "Epoch 2/15\n",
      "69918/69918 [==============================] - 75s 1ms/step - loss: 0.5536 - auroc: 0.7216 - val_loss: 0.5570 - val_auroc: 0.7476\n",
      "Epoch 3/15\n",
      "69918/69918 [==============================] - 74s 1ms/step - loss: 0.4930 - auroc: 0.7324 - val_loss: 0.5011 - val_auroc: 0.7417\n",
      "Epoch 4/15\n",
      "69918/69918 [==============================] - 75s 1ms/step - loss: 0.4623 - auroc: 0.7346 - val_loss: 0.4821 - val_auroc: 0.7493\n",
      "Epoch 5/15\n",
      "69918/69918 [==============================] - 75s 1ms/step - loss: 0.4403 - auroc: 0.7460 - val_loss: 0.4691 - val_auroc: 0.7615\n",
      "Epoch 6/15\n",
      "69918/69918 [==============================] - 75s 1ms/step - loss: 0.4241 - auroc: 0.7544 - val_loss: 0.4552 - val_auroc: 0.7610\n",
      "Epoch 7/15\n",
      "69918/69918 [==============================] - 75s 1ms/step - loss: 0.4128 - auroc: 0.7587 - val_loss: 0.4182 - val_auroc: 0.7620\n",
      "Epoch 8/15\n",
      "69918/69918 [==============================] - 75s 1ms/step - loss: 0.4047 - auroc: 0.7627 - val_loss: 0.4197 - val_auroc: 0.7631\n",
      "Epoch 9/15\n",
      "69918/69918 [==============================] - 76s 1ms/step - loss: 0.4015 - auroc: 0.7617 - val_loss: 0.4119 - val_auroc: 0.7602\n",
      "Epoch 10/15\n",
      "69918/69918 [==============================] - 76s 1ms/step - loss: 0.3976 - auroc: 0.7625 - val_loss: 0.4145 - val_auroc: 0.7628\n",
      "Epoch 11/15\n",
      "69918/69918 [==============================] - 76s 1ms/step - loss: 0.3933 - auroc: 0.7635 - val_loss: 0.4053 - val_auroc: 0.7654\n",
      "Epoch 12/15\n",
      "69918/69918 [==============================] - 78s 1ms/step - loss: 0.3916 - auroc: 0.7661 - val_loss: 0.4001 - val_auroc: 0.7633\n",
      "Epoch 13/15\n",
      "69918/69918 [==============================] - 78s 1ms/step - loss: 0.3892 - auroc: 0.7655 - val_loss: 0.4177 - val_auroc: 0.7619\n",
      "Epoch 14/15\n",
      "69918/69918 [==============================] - 77s 1ms/step - loss: 0.3866 - auroc: 0.7691 - val_loss: 0.3923 - val_auroc: 0.7681\n",
      "Epoch 15/15\n",
      "69918/69918 [==============================] - 78s 1ms/step - loss: 0.3855 - auroc: 0.7678 - val_loss: 0.3983 - val_auroc: 0.7677\n"
     ]
    }
   ],
   "source": [
    "history_1 = model_1.fit(train_data_3,Y_train,batch_size=512,epochs=15,validation_data=(val_data_3,Y_val),verbose=1)"
   ]
  },
  {
   "cell_type": "code",
   "execution_count": 40,
   "metadata": {
    "colab": {
     "base_uri": "https://localhost:8080/",
     "height": 34
    },
    "colab_type": "code",
    "id": "331rlw_1OQyR",
    "outputId": "d8f52dd8-5036-4c5e-948e-9ebf6a9ccf6e"
   },
   "outputs": [
    {
     "name": "stdout",
     "output_type": "stream",
     "text": [
      "AUC on unseen test data:  0.7633947879300654\n"
     ]
    }
   ],
   "source": [
    "#Test AUC\n",
    "y_pred= model_1.predict(test_data_3)\n",
    "print(\"AUC on unseen test data: \",roc_auc_score(Y_test,y_pred))"
   ]
  },
  {
   "cell_type": "code",
   "execution_count": 5,
   "metadata": {
    "colab": {},
    "colab_type": "code",
    "id": "C4608vqrOOxT"
   },
   "outputs": [
    {
     "data": {
      "image/png": "[encoded data removed]",
      "text/plain": [
       "<IPython.core.display.Image object>"
      ]
     },
     "execution_count": 5,
     "metadata": {},
     "output_type": "execute_result"
    }
   ],
   "source": [
    "from IPython.display import Image\n",
    "Image(\"Capture5.PNG\")"
   ]
  },
  {
   "cell_type": "code",
   "execution_count": 6,
   "metadata": {},
   "outputs": [
    {
     "data": {
      "image/png": "[encoded data removed]",
      "text/plain": [
       "<IPython.core.display.Image object>"
      ]
     },
     "execution_count": 6,
     "metadata": {},
     "output_type": "execute_result"
    }
   ],
   "source": [
    "from IPython.display import Image\n",
    "Image(\"Capture6.PNG\")"
   ]
  },
  {
   "cell_type": "code",
   "execution_count": 12,
   "metadata": {},
   "outputs": [
    {
     "name": "stdout",
     "output_type": "stream",
     "text": [
      "+----------+--------------------+---------------+--------------------+--------------+\n",
      "| Model No | Trained for Epochs | Train ROC-AUC | Validation ROC-AUC | Test ROC-AUC |\n",
      "+----------+--------------------+---------------+--------------------+--------------+\n",
      "| Model 1  |         10         |     0.7988    |       0.7169       |    0.7148    |\n",
      "| Model 2  |         7          |     0.7287    |       0.7262       |    0.7275    |\n",
      "| Model 3  |         15         |     0.7678    |       0.7677       |    0.7633    |\n",
      "+----------+--------------------+---------------+--------------------+--------------+\n"
     ]
    }
   ],
   "source": [
    "from prettytable import PrettyTable\n",
    "table =PrettyTable()\n",
    "table.field_names = [\"Model No\", \"Trained for Epochs\", \"Train ROC-AUC\", \"Validation ROC-AUC\", \"Test ROC-AUC\"]\n",
    "table.add_row([\"Model 1\",10,0.7988,0.7169,0.7148])\n",
    "table.add_row([\"Model 2\",7,0.7287,0.7262,0.7275])\n",
    "table.add_row([\"Model 3\",15,0.7678,0.7677,0.7633])\n",
    "print(table)"
   ]
  },
  {
   "cell_type": "markdown",
   "metadata": {},
   "source": [
    "# What was the case study all about and what we learnt\n",
    "\n",
    "\n",
    "So this case study was an application of machine learning for social good where we we were able to automate the process of approving the projects being submitted for evaluation based on lots of different factors.\n",
    "\n",
    "We tokenized the text data and one hot encoded the categorical variables and also performed normalization on the numerical features primarily ,along we that we performed the feature engineering with digits present in the text or not .\n",
    "\n",
    "We also used pre embedded glove vectors as the main embedding layer for the text data.\n",
    "\n",
    "Amongst all the three models, the 3rd model with 1D CNN layers seems to perform the best as we have got the maximum value of ROC-AUC for it.\n",
    "\n",
    "Using RSM Prop with proper weight initialization was also resulting in exploding gradients for Model 1. Changing the optimizer to adam has changed this problem.\n",
    "Got the loss curves and score curve using Tensorboard.\n",
    "Used a custome metric function for training the model with a custom roc-auc score.\n",
    "For TFIDF analysis, I first tried with the 25 percentile threshold for tfidf scores and the model performed very poorly despiting trying my best to optimize it. The lowest threshold I have considered for this assignment is 6.5 approximately.\n",
    "Model 3 has given us the best value of ROC-AUC - just under 0.75.\n",
    "\n",
    "For TFIDF analysis, I had previously tried with IDF score between 7 and max value, ut it resulted in huge loss of data. Hence I took IDF values which were greater than 3 and the model has improved a lot."
   ]
  }
 ],
 "metadata": {
  "accelerator": "GPU",
  "colab": {
   "name": "LSTM - Assignment.ipynb",
   "provenance": []
  },
  "kernelspec": {
   "display_name": "Python 3",
   "language": "python",
   "name": "python3"
  },
  "language_info": {
   "codemirror_mode": {
    "name": "ipython",
    "version": 3
   },
   "file_extension": ".py",
   "mimetype": "text/x-python",
   "name": "python",
   "nbconvert_exporter": "python",
   "pygments_lexer": "ipython3",
   "version": "3.6.5"
  }
 },
 "nbformat": 4,
 "nbformat_minor": 1
}
